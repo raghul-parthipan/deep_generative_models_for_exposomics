{
 "cells": [
  {
   "cell_type": "code",
   "execution_count": null,
   "metadata": {},
   "outputs": [],
   "source": [
    "import sys\n",
    "assert sys.version_info >= (3, 5)\n",
    "import tensorflow as tf\n",
    "from tensorflow import keras\n",
    "assert tf.__version__ >= \"2.0\"\n",
    "import numpy as np\n",
    "import time\n",
    "K = keras.backend\n",
    "import pandas as pd\n",
    "import math\n",
    "import os\n",
    "from sklearn.manifold import TSNE\n",
    "import matplotlib.pyplot as plt\n",
    "from sklearn.ensemble import RandomForestClassifier\n",
    "from sklearn.metrics import log_loss\n",
    "\n",
    "\n",
    "os.environ[\"CUDA_DEVICE_ORDER\"]=\"PCI_BUS_ID\"   \n",
    "os.environ[\"CUDA_VISIBLE_DEVICES\"]=\"1\"\n",
    "\n",
    "tf.random.set_seed(42)\n",
    "np.random.seed(42)\n",
    "random_state=42"
   ]
  },
  {
   "cell_type": "code",
   "execution_count": 2,
   "metadata": {},
   "outputs": [],
   "source": [
    "save_path = 'save_path'\n",
    "os.chdir(save_path)\n",
    "\n",
    "X_train_omics_unlabelled = pd.read_csv(\"X_train_omics_unlabelled.csv\",index_col=0)\n",
    "X_train_omics_labelled = pd.read_csv(\"X_train_omics_labelled.csv\",index_col=0)\n",
    "X_test_omics= pd.read_csv(\"X_test_omics.csv\",index_col=0)\n",
    "X_valid_omics= pd.read_csv(\"X_valid_omics.csv\",index_col=0)\n",
    "features = np.load(\"feature_selection.npy\",allow_pickle=True)\n",
    "\n",
    "train_set_labelled_y= pd.read_csv(\"train_set_labelled_y.csv\",index_col=0)\n",
    "test_set_labelled_y= pd.read_csv(\"test_set_labelled_y.csv\",index_col=0)\n",
    "valid_set_labelled_y= pd.read_csv(\"valid_set_labelled_y.csv\",index_col=0)\n",
    "\n",
    "X_train_omics_unlabelled = X_train_omics_unlabelled[features]\n",
    "X_train_omics_labelled = X_train_omics_labelled[features]\n",
    "X_test_omics = X_test_omics[features]\n",
    "X_valid_omics = X_valid_omics[features]\n",
    "\n",
    "train_set_labelled_c= pd.read_csv(\"train_set_labelled_c.csv\",index_col=0)\n",
    "train_set_unlabelled_c= pd.read_csv(\"train_set_unlabelled_c.csv\",index_col=0)\n",
    "test_set_labelled_c= pd.read_csv(\"test_set_labelled_c.csv\",index_col=0)\n",
    "valid_set_labelled_c= pd.read_csv(\"valid_set_labelled_c.csv\",index_col=0)\n",
    "\n",
    "#bin y \n",
    "from sklearn.preprocessing import KBinsDiscretizer\n",
    "binner = KBinsDiscretizer(n_bins=10,encode=\"onehot-dense\",strategy=\"uniform\")\n",
    "train_set_labelled_y = binner.fit_transform(train_set_labelled_y)\n",
    "valid_set_labelled_y = binner.transform(valid_set_labelled_y)\n",
    "test_set_labelled_y=binner.transform(test_set_labelled_y)"
   ]
  },
  {
   "cell_type": "code",
   "execution_count": 3,
   "metadata": {},
   "outputs": [],
   "source": [
    "input_shape = X_train_omics_labelled.shape[1]"
   ]
  },
  {
   "cell_type": "markdown",
   "metadata": {},
   "source": [
    "# Load best model (MMD) # "
   ]
  },
  {
   "cell_type": "markdown",
   "metadata": {},
   "source": [
    "## Custom parts ##"
   ]
  },
  {
   "cell_type": "code",
   "execution_count": 4,
   "metadata": {},
   "outputs": [],
   "source": [
    "class Sampling(keras.layers.Layer):\n",
    "    \"\"\"reparameterization trick\"\"\"\n",
    "    def call(self, inputs):\n",
    "        mean, log_var = inputs\n",
    "        return K.random_normal(tf.shape(log_var)) * K.exp(log_var/2) + mean   \n",
    "    \n",
    "    \n",
    "class y_dist(keras.layers.Layer):\n",
    "    \"\"\"\n",
    "    Custom layer that is used to learn the parameters, p, of the distribution over y.\n",
    "    \n",
    "    Outputs a loss and p. The loss is used for training. The loss is the categorical cross entropy loss between \n",
    "    p and every y sample. The mean of this is then taken to provide a per batch loss. \n",
    "    \n",
    "    Shapes are configured for a 10D y. Change if you want to use different number of categories.\n",
    "    \n",
    "    \"\"\"\n",
    "    def __init__(self,**kwargs):\n",
    "        super().__init__(**kwargs)\n",
    "        \n",
    "    def build(self,batch_input_shape):\n",
    "        self.q = self.add_weight(name=\"q\",shape=[1,9],initializer=\"uniform\",trainable=True)\n",
    "        super().build(batch_input_shape)\n",
    "    \n",
    "    def call(self,X):\n",
    "        concatenated = tf.concat([self.q,tf.constant(np.array(0.0).reshape(1,-1),dtype=\"float32\")],axis=-1)\n",
    "        p = K.exp(concatenated)\n",
    "        p = tf.math.divide(p,K.sum(p))\n",
    "        loss = keras.losses.categorical_crossentropy(X,p)\n",
    "        loss = tf.reduce_mean(loss)\n",
    "        return loss,p \n",
    "    \n",
    "    def compute_output_shape(self,batch_input_shape):\n",
    "        return tf.TensorShape(10)\n",
    "    "
   ]
  },
  {
   "cell_type": "markdown",
   "metadata": {},
   "source": [
    "## Load model ##"
   ]
  },
  {
   "cell_type": "code",
   "execution_count": 5,
   "metadata": {},
   "outputs": [
    {
     "name": "stdout",
     "output_type": "stream",
     "text": [
      "WARNING:tensorflow:No training configuration found in save file: the model was *not* compiled. Compile it manually.\n",
      "WARNING:tensorflow:No training configuration found in save file: the model was *not* compiled. Compile it manually.\n",
      "WARNING:tensorflow:No training configuration found in save file: the model was *not* compiled. Compile it manually.\n",
      "WARNING:tensorflow:No training configuration found in save file: the model was *not* compiled. Compile it manually.\n"
     ]
    }
   ],
   "source": [
    "save_model_path = 'save_model_path'\n",
    "os.chdir(save_model_path)\n",
    "\n",
    "variational_encoder = keras.models.load_model(\"variational_encoder.h5\", custom_objects={\n",
    "   \"Sampling\": Sampling\n",
    "})\n",
    "variational_decoder = keras.models.load_model(\"variational_decoder.h5\")\n",
    "classifier = keras.models.load_model(\"classifier.h5\")     \n",
    "y_distribution = keras.models.load_model(\"y_distribution.h5\", custom_objects={\n",
    "   \"y_dist\": y_dist\n",
    "})    "
   ]
  },
  {
   "cell_type": "code",
   "execution_count": 6,
   "metadata": {},
   "outputs": [],
   "source": [
    "#for the loaded MMD model. Hyperparameters can be found in the relevant notebook.\n",
    "codings_size=119"
   ]
  },
  {
   "cell_type": "markdown",
   "metadata": {},
   "source": [
    "# Discriminator # "
   ]
  },
  {
   "cell_type": "code",
   "execution_count": null,
   "metadata": {},
   "outputs": [],
   "source": [
    "####### PREPARATION OF TRAINING DATA #######\n",
    "\n",
    "#first column of label =1 if real data. Second column =1 if synthetic data. One hot encoding. \n",
    "\n",
    "#generate 383 synthetic data samples conditioned on y\n",
    "\n",
    "########## Training data ###############\n",
    "\n",
    "x_val_len = len(X_train_omics_labelled)\n",
    "z = np.random.normal(loc=0,scale=1,size=codings_size*x_val_len).reshape(x_val_len,codings_size)\n",
    "x_sample = variational_decoder([z,train_set_labelled_y])\n",
    "label_sample = np.hstack([np.zeros((383,1)),np.ones((383,1))])\n",
    "label_real = np.hstack([np.ones((383,1)),np.zeros((383,1))])\n",
    "\n",
    "#append the real and synthetic arrays\n",
    "\n",
    "training_X = np.concatenate((X_train_omics_labelled.to_numpy(),x_sample))\n",
    "training_y = np.concatenate((train_set_labelled_y,train_set_labelled_y))\n",
    "training_label = np.concatenate((label_real,label_sample))\n",
    "\n",
    "\n",
    "########## Validation data ###############\n",
    "\n",
    "x_val_len = len(X_valid_omics)\n",
    "z = np.random.normal(loc=0,scale=1,size=codings_size*x_val_len).reshape(x_val_len,codings_size)\n",
    "x_sample = variational_decoder([z,valid_set_labelled_y])\n",
    "label_sample = np.hstack([np.zeros((88,1)),np.ones((88,1))])\n",
    "label_real = np.hstack([np.ones((88,1)),np.zeros((88,1))])\n",
    "\n",
    "#append the real and synthetic arrays\n",
    "\n",
    "valid_X = np.concatenate((X_valid_omics.to_numpy(),x_sample))\n",
    "valid_y = np.concatenate((valid_set_labelled_y,valid_set_labelled_y))\n",
    "valid_label = np.concatenate((label_real,label_sample))"
   ]
  },
  {
   "cell_type": "code",
   "execution_count": null,
   "metadata": {},
   "outputs": [],
   "source": [
    "discriminator_x = keras.layers.Input(shape=[input_shape])\n",
    "discriminator_y = keras.layers.Input(shape=[10])\n",
    "discrimator_merged = keras.layers.concatenate([discriminator_x,discriminator_y])\n",
    "d = keras.layers.Dense(10, activation=\"elu\",kernel_initializer=\"he_normal\")(discrimator_merged)\n",
    "d = keras.layers.Dropout(0.5)(d)\n",
    "d = keras.layers.Dense(2,activation=\"softmax\")(d) \n",
    "\n",
    "discriminator = keras.models.Model(inputs=[discriminator_x,discriminator_y], outputs=[d])"
   ]
  },
  {
   "cell_type": "code",
   "execution_count": null,
   "metadata": {},
   "outputs": [],
   "source": [
    "discriminator.compile(loss=\"categorical_crossentropy\",optimizer=keras.optimizers.Adam(learning_rate=0.00001))\n"
   ]
  },
  {
   "cell_type": "code",
   "execution_count": null,
   "metadata": {},
   "outputs": [],
   "source": [
    "early_stopping_cb = keras.callbacks.EarlyStopping(patience=10,restore_best_weights=True)"
   ]
  },
  {
   "cell_type": "code",
   "execution_count": null,
   "metadata": {
    "scrolled": true
   },
   "outputs": [],
   "source": [
    "discriminator.fit((training_X,training_y),training_label, epochs=400,validation_data=((valid_X,valid_y),valid_label),\n",
    "               callbacks=[early_stopping_cb])"
   ]
  },
  {
   "cell_type": "markdown",
   "metadata": {},
   "source": [
    "Below we see the results of the discriminator on a synthetic x sample (conditioned on test set y values). "
   ]
  },
  {
   "cell_type": "code",
   "execution_count": null,
   "metadata": {},
   "outputs": [],
   "source": [
    "test_len = len(X_test_omics)\n",
    "z = np.random.normal(loc=0,scale=1,size=codings_size*test_len).reshape(test_len,codings_size)\n",
    "x_new_sample = variational_decoder([z,test_set_labelled_y])\n",
    "K.mean(discriminator([x_new_sample,test_set_labelled_y])[:,1])"
   ]
  },
  {
   "cell_type": "markdown",
   "metadata": {},
   "source": [
    "Below we see the results of the discriminator on a real x sample for the above test set y values. "
   ]
  },
  {
   "cell_type": "code",
   "execution_count": null,
   "metadata": {},
   "outputs": [],
   "source": [
    "K.mean(discriminator([X_test_omics.to_numpy(),test_set_labelled_y])[:,1])"
   ]
  },
  {
   "cell_type": "markdown",
   "metadata": {},
   "source": [
    "#### Training Discriminator on real vs random data ####"
   ]
  },
  {
   "cell_type": "code",
   "execution_count": null,
   "metadata": {},
   "outputs": [],
   "source": [
    "####### PREPARATION OF TRAINING DATA #######\n",
    "\n",
    "#first column of label =1 if real data. Second column =1 if synthetic data. One hot encoding. \n",
    "\n",
    "########## Training data ###############\n",
    "\n",
    "x_val_len = len(X_train_omics_labelled)\n",
    "x_sample = np.random.uniform(size=(x_val_len,290))\n",
    "label_sample = np.hstack([np.zeros((383,1)),np.ones((383,1))])\n",
    "label_real = np.hstack([np.ones((383,1)),np.zeros((383,1))])\n",
    "\n",
    "#append the real and synthetic arrays\n",
    "\n",
    "training_X = np.concatenate((X_train_omics_labelled.to_numpy(),x_sample))\n",
    "training_y = np.concatenate((train_set_labelled_y,train_set_labelled_y))\n",
    "training_label = np.concatenate((label_real,label_sample))\n",
    "\n",
    "\n",
    "########## Validation data ###############\n",
    "\n",
    "x_val_len = len(X_valid_omics)\n",
    "x_sample = np.random.uniform(size=(x_val_len,290))\n",
    "label_sample = np.hstack([np.zeros((88,1)),np.ones((88,1))])\n",
    "label_real = np.hstack([np.ones((88,1)),np.zeros((88,1))])\n",
    "\n",
    "#append the real and synthetic arrays\n",
    "\n",
    "valid_X = np.concatenate((X_valid_omics.to_numpy(),x_sample))\n",
    "valid_y = np.concatenate((valid_set_labelled_y,valid_set_labelled_y))\n",
    "valid_label = np.concatenate((label_real,label_sample))"
   ]
  },
  {
   "cell_type": "code",
   "execution_count": null,
   "metadata": {},
   "outputs": [],
   "source": [
    "discriminator_x = keras.layers.Input(shape=[input_shape])\n",
    "discriminator_y = keras.layers.Input(shape=[10])\n",
    "discrimator_merged = keras.layers.concatenate([discriminator_x,discriminator_y])\n",
    "d = keras.layers.Dense(10, activation=\"elu\",kernel_initializer=\"he_normal\")(discrimator_merged)\n",
    "d = keras.layers.Dropout(0.5)(d)\n",
    "d = keras.layers.Dense(2,activation=\"softmax\")(d) \n",
    "\n",
    "discriminator = keras.models.Model(inputs=[discriminator_x,discriminator_y], outputs=[d])"
   ]
  },
  {
   "cell_type": "code",
   "execution_count": null,
   "metadata": {},
   "outputs": [],
   "source": [
    "discriminator.compile(loss=\"categorical_crossentropy\",optimizer=keras.optimizers.Adam(learning_rate=0.0001))\n"
   ]
  },
  {
   "cell_type": "code",
   "execution_count": null,
   "metadata": {},
   "outputs": [],
   "source": [
    "discriminator.fit((training_X,training_y),training_label, epochs=400,validation_data=((valid_X,valid_y),valid_label),\n",
    "               callbacks=[early_stopping_cb])"
   ]
  },
  {
   "cell_type": "code",
   "execution_count": null,
   "metadata": {},
   "outputs": [],
   "source": [
    "K.mean(discriminator([X_test_omics.to_numpy(),test_set_labelled_y])[:,0])\n",
    "#80% sure real data is real"
   ]
  },
  {
   "cell_type": "code",
   "execution_count": null,
   "metadata": {},
   "outputs": [],
   "source": [
    "x_val_len = len(X_test_omics)\n",
    "x_sample = np.random.uniform(size=(x_val_len,290))\n",
    "K.mean(discriminator([x_sample,test_set_labelled_y])[:,1])\n",
    "#98% sure random data is fake"
   ]
  },
  {
   "cell_type": "code",
   "execution_count": 296,
   "metadata": {},
   "outputs": [],
   "source": [
    "tsne = TSNE(random_state=42)"
   ]
  },
  {
   "cell_type": "code",
   "execution_count": 304,
   "metadata": {},
   "outputs": [],
   "source": [
    "omics_tsne = tsne.fit_transform(np.vstack([training_X,valid_X]))"
   ]
  },
  {
   "cell_type": "code",
   "execution_count": 317,
   "metadata": {},
   "outputs": [
    {
     "data": {
      "image/png": "[encoded data removed]",
      "text/plain": [
       "<Figure size 432x288 with 1 Axes>"
      ]
     },
     "metadata": {
      "needs_background": "light"
     },
     "output_type": "display_data"
    }
   ],
   "source": [
    "fig= plt.figure()\n",
    "ax1 = fig.add_subplot(111)\n",
    "\n",
    "ax1.scatter(x=omics_tsne[0:383,0],y=omics_tsne[0:383,1],c=\"blue\") #real\n",
    "ax1.scatter(x=omics_tsne[383:766,0],y=omics_tsne[383:766,1],c=\"red\") #fake\n",
    "ax1.scatter(x=omics_tsne[766:846,0],y=omics_tsne[766:846,1],c=\"magenta\") #real\n",
    "ax1.scatter(x=omics_tsne[846:,0],y=omics_tsne[846:,1],c=\"yellow\") #fake\n",
    "\n",
    "\n",
    "\n",
    "plt.show()\n",
    "\n",
    "#shows that real and fake data are well mixed"
   ]
  },
  {
   "cell_type": "markdown",
   "metadata": {},
   "source": [
    "# Random Forest # "
   ]
  },
  {
   "cell_type": "markdown",
   "metadata": {},
   "source": [
    "### Real vs random data ###"
   ]
  },
  {
   "cell_type": "code",
   "execution_count": 153,
   "metadata": {},
   "outputs": [],
   "source": [
    "####### PREPARATION OF TRAINING DATA #######\n",
    "\n",
    "#first column of label =1 if real data. \n",
    "\n",
    "########## Training data ###############\n",
    "\n",
    "x_val_len = len(X_train_omics_labelled)\n",
    "x_sample = np.random.uniform(size=(x_val_len,290))\n",
    "label_sample = np.hstack([np.zeros((383,1)),np.ones((383,1))])\n",
    "label_real = np.hstack([np.ones((383,1)),np.zeros((383,1))])\n",
    "\n",
    "#append the real and synthetic arrays\n",
    "\n",
    "training_X = np.concatenate((X_train_omics_labelled.to_numpy(),x_sample))\n",
    "training_y = np.concatenate((train_set_labelled_y,train_set_labelled_y))\n",
    "training_label = np.concatenate((label_real,label_sample))[:,0]\n",
    "train_x = np.hstack([training_X,training_y])\n",
    "\n",
    "\n",
    "########## Validation data ###############\n",
    "\n",
    "x_val_len = len(X_valid_omics)\n",
    "x_sample = np.random.uniform(size=(x_val_len,290))\n",
    "label_sample = np.hstack([np.zeros((88,1)),np.ones((88,1))])\n",
    "label_real = np.hstack([np.ones((88,1)),np.zeros((88,1))])\n",
    "\n",
    "#append the real and synthetic arrays\n",
    "\n",
    "valid_X = np.concatenate((X_valid_omics.to_numpy(),x_sample))\n",
    "valid_y = np.concatenate((valid_set_labelled_y,valid_set_labelled_y))\n",
    "valid_label = np.concatenate((label_real,label_sample))[:,0]\n",
    "valid_x = np.hstack([valid_X,valid_y])\n",
    "\n",
    "########### Test data ##############\n",
    "\n",
    "x_val_len = len(X_test_omics)\n",
    "test_x_random = np.random.uniform(size=(x_val_len,290)) \n",
    "test_X = np.concatenate((X_test_omics.to_numpy(),test_x_random))\n",
    "test_y = np.concatenate((test_set_labelled_y,test_set_labelled_y))\n",
    "test_x = np.hstack([test_X,test_y])"
   ]
  },
  {
   "cell_type": "code",
   "execution_count": 166,
   "metadata": {},
   "outputs": [],
   "source": [
    "rfc = RandomForestClassifier(n_estimators=200,max_depth=1,n_jobs=2,random_state=random_state)"
   ]
  },
  {
   "cell_type": "code",
   "execution_count": 167,
   "metadata": {},
   "outputs": [
    {
     "data": {
      "text/plain": [
       "RandomForestClassifier(bootstrap=True, ccp_alpha=0.0, class_weight=None,\n",
       "                       criterion='gini', max_depth=1, max_features='auto',\n",
       "                       max_leaf_nodes=None, max_samples=None,\n",
       "                       min_impurity_decrease=0.0, min_impurity_split=None,\n",
       "                       min_samples_leaf=1, min_samples_split=2,\n",
       "                       min_weight_fraction_leaf=0.0, n_estimators=200, n_jobs=2,\n",
       "                       oob_score=False, random_state=42, verbose=0,\n",
       "                       warm_start=False)"
      ]
     },
     "execution_count": 167,
     "metadata": {},
     "output_type": "execute_result"
    }
   ],
   "source": [
    "rfc.fit(train_x,training_label)"
   ]
  },
  {
   "cell_type": "code",
   "execution_count": 168,
   "metadata": {},
   "outputs": [
    {
     "data": {
      "text/plain": [
       "0.6193181818181818"
      ]
     },
     "execution_count": 168,
     "metadata": {},
     "output_type": "execute_result"
    }
   ],
   "source": [
    "rfc.score(valid_x,valid_label) #for hyperparameter tuning"
   ]
  },
  {
   "cell_type": "code",
   "execution_count": 169,
   "metadata": {},
   "outputs": [
    {
     "data": {
      "text/plain": [
       "0.7669228001542858"
      ]
     },
     "execution_count": 169,
     "metadata": {},
     "output_type": "execute_result"
    }
   ],
   "source": [
    "np.mean((rfc.predict_proba(train_x))[:383,1])\n",
    "#prob real train set is real"
   ]
  },
  {
   "cell_type": "code",
   "execution_count": 170,
   "metadata": {},
   "outputs": [
    {
     "data": {
      "text/plain": [
       "0.2317326119590557"
      ]
     },
     "execution_count": 170,
     "metadata": {},
     "output_type": "execute_result"
    }
   ],
   "source": [
    "np.mean((rfc.predict_proba(train_x))[383:,1])\n",
    "#prob random is real"
   ]
  },
  {
   "cell_type": "code",
   "execution_count": 171,
   "metadata": {},
   "outputs": [
    {
     "data": {
      "text/plain": [
       "0.397602851029086"
      ]
     },
     "execution_count": 171,
     "metadata": {},
     "output_type": "execute_result"
    }
   ],
   "source": [
    "np.mean((rfc.predict_proba(valid_x))[:88,1])\n",
    "#prob real valid is real"
   ]
  },
  {
   "cell_type": "code",
   "execution_count": 172,
   "metadata": {},
   "outputs": [
    {
     "data": {
      "text/plain": [
       "0.2255596118297712"
      ]
     },
     "execution_count": 172,
     "metadata": {},
     "output_type": "execute_result"
    }
   ],
   "source": [
    "np.mean((rfc.predict_proba(valid_x))[88:,1])\n",
    "#prob random valid is real"
   ]
  },
  {
   "cell_type": "code",
   "execution_count": 173,
   "metadata": {},
   "outputs": [
    {
     "data": {
      "text/plain": [
       "0.39284192781908733"
      ]
     },
     "execution_count": 173,
     "metadata": {},
     "output_type": "execute_result"
    }
   ],
   "source": [
    "np.mean((rfc.predict_proba(test_x))[:106,1])\n",
    "#prob real test set is real"
   ]
  },
  {
   "cell_type": "code",
   "execution_count": 174,
   "metadata": {},
   "outputs": [
    {
     "data": {
      "text/plain": [
       "0.2265592107451185"
      ]
     },
     "execution_count": 174,
     "metadata": {},
     "output_type": "execute_result"
    }
   ],
   "source": [
    "np.mean((rfc.predict_proba(test_x))[106:,1])\n",
    "#prob random test set is real"
   ]
  },
  {
   "cell_type": "markdown",
   "metadata": {},
   "source": [
    "### Real vs Synthetic data ###"
   ]
  },
  {
   "cell_type": "code",
   "execution_count": 175,
   "metadata": {},
   "outputs": [],
   "source": [
    "####### PREPARATION OF TRAINING DATA #######\n",
    "\n",
    "#first column of label =1 if real data. \n",
    "\n",
    "########## Training data ###############\n",
    "\n",
    "x_val_len = len(X_train_omics_labelled)\n",
    "z = np.random.normal(loc=0,scale=1,size=codings_size*x_val_len).reshape(x_val_len,codings_size)\n",
    "x_sample = variational_decoder([z,train_set_labelled_y])\n",
    "label_sample = np.hstack([np.zeros((383,1)),np.ones((383,1))])\n",
    "label_real = np.hstack([np.ones((383,1)),np.zeros((383,1))])\n",
    "\n",
    "#append the real and synthetic arrays\n",
    "\n",
    "training_X = np.concatenate((X_train_omics_labelled.to_numpy(),x_sample))\n",
    "training_y = np.concatenate((train_set_labelled_y,train_set_labelled_y))\n",
    "training_label = np.concatenate((label_real,label_sample))[:,0]\n",
    "\n",
    "\n",
    "########## Validation data ###############\n",
    "\n",
    "x_val_len = len(X_valid_omics)\n",
    "z = np.random.normal(loc=0,scale=1,size=codings_size*x_val_len).reshape(x_val_len,codings_size)\n",
    "x_sample = variational_decoder([z,valid_set_labelled_y])\n",
    "label_sample = np.hstack([np.zeros((88,1)),np.ones((88,1))])\n",
    "label_real = np.hstack([np.ones((88,1)),np.zeros((88,1))])\n",
    "\n",
    "#append the real and synthetic arrays\n",
    "\n",
    "valid_X = np.concatenate((X_valid_omics.to_numpy(),x_sample))\n",
    "valid_y = np.concatenate((valid_set_labelled_y,valid_set_labelled_y))\n",
    "valid_label = np.concatenate((label_real,label_sample))[:,0]\n",
    "\n",
    "############ Test data ###########\n",
    "\n",
    "test_len = len(X_test_omics)\n",
    "z = np.random.normal(loc=0,scale=1,size=codings_size*test_len).reshape(test_len,codings_size)\n",
    "test_x_synthetic = variational_decoder([z,test_set_labelled_y])\n",
    "test_X = np.concatenate((X_test_omics.to_numpy(),test_x_synthetic))\n",
    "test_y = np.concatenate((test_set_labelled_y,test_set_labelled_y))\n",
    "test_x = np.hstack([test_X,test_y])\n",
    "\n"
   ]
  },
  {
   "cell_type": "markdown",
   "metadata": {},
   "source": [
    "look at the decision tree graphic"
   ]
  },
  {
   "cell_type": "code",
   "execution_count": 194,
   "metadata": {},
   "outputs": [],
   "source": [
    "\n",
    "rfc = RandomForestClassifier(n_estimators=220,max_depth=1,n_jobs=2,random_state=42)"
   ]
  },
  {
   "cell_type": "code",
   "execution_count": 195,
   "metadata": {},
   "outputs": [
    {
     "data": {
      "text/plain": [
       "RandomForestClassifier(bootstrap=True, ccp_alpha=0.0, class_weight=None,\n",
       "                       criterion='gini', max_depth=1, max_features='auto',\n",
       "                       max_leaf_nodes=None, max_samples=None,\n",
       "                       min_impurity_decrease=0.0, min_impurity_split=None,\n",
       "                       min_samples_leaf=1, min_samples_split=2,\n",
       "                       min_weight_fraction_leaf=0.0, n_estimators=220, n_jobs=2,\n",
       "                       oob_score=False, random_state=42, verbose=0,\n",
       "                       warm_start=False)"
      ]
     },
     "execution_count": 195,
     "metadata": {},
     "output_type": "execute_result"
    }
   ],
   "source": [
    "rfc.fit(train_x,training_label)"
   ]
  },
  {
   "cell_type": "code",
   "execution_count": 196,
   "metadata": {},
   "outputs": [
    {
     "data": {
      "text/plain": [
       "0.6193181818181818"
      ]
     },
     "execution_count": 196,
     "metadata": {},
     "output_type": "execute_result"
    }
   ],
   "source": [
    "rfc.score(valid_x,valid_label)"
   ]
  },
  {
   "cell_type": "code",
   "execution_count": 182,
   "metadata": {},
   "outputs": [
    {
     "data": {
      "text/plain": [
       "0.7701209953981267"
      ]
     },
     "execution_count": 182,
     "metadata": {},
     "output_type": "execute_result"
    }
   ],
   "source": [
    "np.mean((rfc.predict_proba(train_x))[:383,1])\n",
    "#prob real train set is real"
   ]
  },
  {
   "cell_type": "code",
   "execution_count": 183,
   "metadata": {},
   "outputs": [
    {
     "data": {
      "text/plain": [
       "0.22891754690022448"
      ]
     },
     "execution_count": 183,
     "metadata": {},
     "output_type": "execute_result"
    }
   ],
   "source": [
    "np.mean((rfc.predict_proba(train_x))[383:,1])\n",
    "#prob synthetic train set is real"
   ]
  },
  {
   "cell_type": "code",
   "execution_count": 184,
   "metadata": {},
   "outputs": [
    {
     "data": {
      "text/plain": [
       "0.38444520302090784"
      ]
     },
     "execution_count": 184,
     "metadata": {},
     "output_type": "execute_result"
    }
   ],
   "source": [
    "np.mean((rfc.predict_proba(valid_x))[:88,1])\n",
    "#prob real val set is real"
   ]
  },
  {
   "cell_type": "code",
   "execution_count": 185,
   "metadata": {},
   "outputs": [
    {
     "data": {
      "text/plain": [
       "0.22136396539737538"
      ]
     },
     "execution_count": 185,
     "metadata": {},
     "output_type": "execute_result"
    }
   ],
   "source": [
    "np.mean((rfc.predict_proba(valid_x))[88:,1])\n",
    "\n",
    "#avg prob that the synthetic valid set is real"
   ]
  },
  {
   "cell_type": "code",
   "execution_count": 186,
   "metadata": {},
   "outputs": [
    {
     "data": {
      "text/plain": [
       "0.3803456714712181"
      ]
     },
     "execution_count": 186,
     "metadata": {},
     "output_type": "execute_result"
    }
   ],
   "source": [
    "np.mean((rfc.predict_proba(test_x))[:106,1])\n",
    "#prob real test set is real"
   ]
  },
  {
   "cell_type": "code",
   "execution_count": 187,
   "metadata": {},
   "outputs": [
    {
     "data": {
      "text/plain": [
       "0.6141514592176345"
      ]
     },
     "execution_count": 187,
     "metadata": {},
     "output_type": "execute_result"
    }
   ],
   "source": [
    "np.mean((rfc.predict_proba(test_x))[106:,1])\n",
    "#prob synthetic test set is real"
   ]
  },
  {
   "cell_type": "code",
   "execution_count": 380,
   "metadata": {},
   "outputs": [
    {
     "data": {
      "text/plain": [
       "<matplotlib.axes._subplots.AxesSubplot at 0x7fe5351270f0>"
      ]
     },
     "execution_count": 380,
     "metadata": {},
     "output_type": "execute_result"
    },
    {
     "data": {
      "image/png": "[encoded data removed]",
      "text/plain": [
       "<Figure size 432x288 with 1 Axes>"
      ]
     },
     "metadata": {
      "needs_background": "light"
     },
     "output_type": "display_data"
    }
   ],
   "source": [
    "import seaborn \n",
    "seaborn.distplot(training_X[:383,271],color=\"blue\") #real\n",
    "seaborn.distplot(training_X[383:,271],color=\"red\") #synthetic\n",
    "seaborn.distplot(valid_X[:88,271],color=\"purple\") #real\n",
    "seaborn.distplot(valid_X[88:,271],color=\"yellow\") #synthetic"
   ]
  },
  {
   "cell_type": "code",
   "execution_count": 346,
   "metadata": {},
   "outputs": [
    {
     "data": {
      "image/svg+xml": [
       "<?xml version=\"1.0\" encoding=\"UTF-8\" standalone=\"no\"?>\n",
       "<!DOCTYPE svg PUBLIC \"-//W3C//DTD SVG 1.1//EN\"\n",
       " \"http://www.w3.org/Graphics/SVG/1.1/DTD/svg11.dtd\">\n",
       "<!-- Generated by graphviz version 2.38.0 (20140413.2041)\n",
       " -->\n",
       "<!-- Title: Tree Pages: 1 -->\n",
       "<svg width=\"1064pt\" height=\"418pt\"\n",
       " viewBox=\"0.00 0.00 1064.00 418.00\" xmlns=\"http://www.w3.org/2000/svg\" xmlns:xlink=\"http://www.w3.org/1999/xlink\">\n",
       "<g id=\"graph0\" class=\"graph\" transform=\"scale(1 1) rotate(0) translate(4 414)\">\n",
       "<title>Tree</title>\n",
       "<polygon fill=\"white\" stroke=\"none\" points=\"-4,4 -4,-414 1060,-414 1060,4 -4,4\"/>\n",
       "<!-- 0 -->\n",
       "<g id=\"node1\" class=\"node\"><title>0</title>\n",
       "<path fill=\"#e4f2fb\" stroke=\"black\" d=\"M578.5,-410C578.5,-410 477.5,-410 477.5,-410 471.5,-410 465.5,-404 465.5,-398 465.5,-398 465.5,-344 465.5,-344 465.5,-338 471.5,-332 477.5,-332 477.5,-332 578.5,-332 578.5,-332 584.5,-332 590.5,-338 590.5,-344 590.5,-344 590.5,-398 590.5,-398 590.5,-404 584.5,-410 578.5,-410\"/>\n",
       "<text text-anchor=\"start\" x=\"487.5\" y=\"-395.8\" font-family=\"Helvetica,sans-Serif\" font-size=\"14.00\">X</text>\n",
       "<text text-anchor=\"start\" x=\"497.5\" y=\"-395.8\" font-family=\"Helvetica,sans-Serif\" baseline-shift=\"sub\" font-size=\"14.00\">271</text>\n",
       "<text text-anchor=\"start\" x=\"518.5\" y=\"-395.8\" font-family=\"Helvetica,sans-Serif\" font-size=\"14.00\"> ≤ 0.662</text>\n",
       "<text text-anchor=\"start\" x=\"492.5\" y=\"-381.8\" font-family=\"Helvetica,sans-Serif\" font-size=\"14.00\">gini = 0.497</text>\n",
       "<text text-anchor=\"start\" x=\"483\" y=\"-367.8\" font-family=\"Helvetica,sans-Serif\" font-size=\"14.00\">samples = 594</text>\n",
       "<text text-anchor=\"start\" x=\"473.5\" y=\"-353.8\" font-family=\"Helvetica,sans-Serif\" font-size=\"14.00\">value = [437, 505]</text>\n",
       "<text text-anchor=\"start\" x=\"478\" y=\"-339.8\" font-family=\"Helvetica,sans-Serif\" font-size=\"14.00\">class = synthetic</text>\n",
       "</g>\n",
       "<!-- 1 -->\n",
       "<g id=\"node2\" class=\"node\"><title>1</title>\n",
       "<path fill=\"#f0b78d\" stroke=\"black\" d=\"M476.5,-296C476.5,-296 375.5,-296 375.5,-296 369.5,-296 363.5,-290 363.5,-284 363.5,-284 363.5,-230 363.5,-230 363.5,-224 369.5,-218 375.5,-218 375.5,-218 476.5,-218 476.5,-218 482.5,-218 488.5,-224 488.5,-230 488.5,-230 488.5,-284 488.5,-284 488.5,-290 482.5,-296 476.5,-296\"/>\n",
       "<text text-anchor=\"start\" x=\"389\" y=\"-281.8\" font-family=\"Helvetica,sans-Serif\" font-size=\"14.00\">X</text>\n",
       "<text text-anchor=\"start\" x=\"399\" y=\"-281.8\" font-family=\"Helvetica,sans-Serif\" baseline-shift=\"sub\" font-size=\"14.00\">84</text>\n",
       "<text text-anchor=\"start\" x=\"413\" y=\"-281.8\" font-family=\"Helvetica,sans-Serif\" font-size=\"14.00\"> ≤ 0.207</text>\n",
       "<text text-anchor=\"start\" x=\"390.5\" y=\"-267.8\" font-family=\"Helvetica,sans-Serif\" font-size=\"14.00\">gini = 0.419</text>\n",
       "<text text-anchor=\"start\" x=\"381\" y=\"-253.8\" font-family=\"Helvetica,sans-Serif\" font-size=\"14.00\">samples = 347</text>\n",
       "<text text-anchor=\"start\" x=\"371.5\" y=\"-239.8\" font-family=\"Helvetica,sans-Serif\" font-size=\"14.00\">value = [385, 164]</text>\n",
       "<text text-anchor=\"start\" x=\"391\" y=\"-225.8\" font-family=\"Helvetica,sans-Serif\" font-size=\"14.00\">class = real</text>\n",
       "</g>\n",
       "<!-- 0&#45;&gt;1 -->\n",
       "<g id=\"edge1\" class=\"edge\"><title>0&#45;&gt;1</title>\n",
       "<path fill=\"none\" stroke=\"black\" d=\"M493.183,-331.769C484.895,-322.669 475.971,-312.87 467.419,-303.48\"/>\n",
       "<polygon fill=\"black\" stroke=\"black\" points=\"469.981,-301.095 460.66,-296.058 464.806,-305.809 469.981,-301.095\"/>\n",
       "<text text-anchor=\"middle\" x=\"459.493\" y=\"-317.331\" font-family=\"Helvetica,sans-Serif\" font-size=\"14.00\">True</text>\n",
       "</g>\n",
       "<!-- 8 -->\n",
       "<g id=\"node9\" class=\"node\"><title>8</title>\n",
       "<path fill=\"#57ace9\" stroke=\"black\" d=\"M676.5,-296C676.5,-296 583.5,-296 583.5,-296 577.5,-296 571.5,-290 571.5,-284 571.5,-284 571.5,-230 571.5,-230 571.5,-224 577.5,-218 583.5,-218 583.5,-218 676.5,-218 676.5,-218 682.5,-218 688.5,-224 688.5,-230 688.5,-230 688.5,-284 688.5,-284 688.5,-290 682.5,-296 676.5,-296\"/>\n",
       "<text text-anchor=\"start\" x=\"589.5\" y=\"-281.8\" font-family=\"Helvetica,sans-Serif\" font-size=\"14.00\">X</text>\n",
       "<text text-anchor=\"start\" x=\"599.5\" y=\"-281.8\" font-family=\"Helvetica,sans-Serif\" baseline-shift=\"sub\" font-size=\"14.00\">106</text>\n",
       "<text text-anchor=\"start\" x=\"620.5\" y=\"-281.8\" font-family=\"Helvetica,sans-Serif\" font-size=\"14.00\"> ≤ 0.529</text>\n",
       "<text text-anchor=\"start\" x=\"598\" y=\"-267.8\" font-family=\"Helvetica,sans-Serif\" font-size=\"14.00\">gini = 0.23</text>\n",
       "<text text-anchor=\"start\" x=\"585\" y=\"-253.8\" font-family=\"Helvetica,sans-Serif\" font-size=\"14.00\">samples = 247</text>\n",
       "<text text-anchor=\"start\" x=\"579.5\" y=\"-239.8\" font-family=\"Helvetica,sans-Serif\" font-size=\"14.00\">value = [52, 341]</text>\n",
       "<text text-anchor=\"start\" x=\"580\" y=\"-225.8\" font-family=\"Helvetica,sans-Serif\" font-size=\"14.00\">class = synthetic</text>\n",
       "</g>\n",
       "<!-- 0&#45;&gt;8 -->\n",
       "<g id=\"edge8\" class=\"edge\"><title>0&#45;&gt;8</title>\n",
       "<path fill=\"none\" stroke=\"black\" d=\"M562.817,-331.769C571.105,-322.669 580.029,-312.87 588.581,-303.48\"/>\n",
       "<polygon fill=\"black\" stroke=\"black\" points=\"591.194,-305.809 595.34,-296.058 586.019,-301.095 591.194,-305.809\"/>\n",
       "<text text-anchor=\"middle\" x=\"596.507\" y=\"-317.331\" font-family=\"Helvetica,sans-Serif\" font-size=\"14.00\">False</text>\n",
       "</g>\n",
       "<!-- 2 -->\n",
       "<g id=\"node3\" class=\"node\"><title>2</title>\n",
       "<path fill=\"#46a4e7\" stroke=\"black\" d=\"M238,-182C238,-182 146,-182 146,-182 140,-182 134,-176 134,-170 134,-170 134,-116 134,-116 134,-110 140,-104 146,-104 146,-104 238,-104 238,-104 244,-104 250,-110 250,-116 250,-116 250,-170 250,-170 250,-176 244,-182 238,-182\"/>\n",
       "<text text-anchor=\"start\" x=\"151.5\" y=\"-167.8\" font-family=\"Helvetica,sans-Serif\" font-size=\"14.00\">X</text>\n",
       "<text text-anchor=\"start\" x=\"161.5\" y=\"-167.8\" font-family=\"Helvetica,sans-Serif\" baseline-shift=\"sub\" font-size=\"14.00\">206</text>\n",
       "<text text-anchor=\"start\" x=\"182.5\" y=\"-167.8\" font-family=\"Helvetica,sans-Serif\" font-size=\"14.00\"> ≤ 0.375</text>\n",
       "<text text-anchor=\"start\" x=\"156.5\" y=\"-153.8\" font-family=\"Helvetica,sans-Serif\" font-size=\"14.00\">gini = 0.117</text>\n",
       "<text text-anchor=\"start\" x=\"151\" y=\"-139.8\" font-family=\"Helvetica,sans-Serif\" font-size=\"14.00\">samples = 59</text>\n",
       "<text text-anchor=\"start\" x=\"149\" y=\"-125.8\" font-family=\"Helvetica,sans-Serif\" font-size=\"14.00\">value = [6, 90]</text>\n",
       "<text text-anchor=\"start\" x=\"142\" y=\"-111.8\" font-family=\"Helvetica,sans-Serif\" font-size=\"14.00\">class = synthetic</text>\n",
       "</g>\n",
       "<!-- 1&#45;&gt;2 -->\n",
       "<g id=\"edge2\" class=\"edge\"><title>1&#45;&gt;2</title>\n",
       "<path fill=\"none\" stroke=\"black\" d=\"M363.292,-225.986C331.119,-210.587 291.907,-191.819 259.124,-176.128\"/>\n",
       "<polygon fill=\"black\" stroke=\"black\" points=\"260.59,-172.949 250.059,-171.789 257.568,-179.263 260.59,-172.949\"/>\n",
       "</g>\n",
       "<!-- 5 -->\n",
       "<g id=\"node6\" class=\"node\"><title>5</title>\n",
       "<path fill=\"#ea9a60\" stroke=\"black\" d=\"M472.5,-182C472.5,-182 379.5,-182 379.5,-182 373.5,-182 367.5,-176 367.5,-170 367.5,-170 367.5,-116 367.5,-116 367.5,-110 373.5,-104 379.5,-104 379.5,-104 472.5,-104 472.5,-104 478.5,-104 484.5,-110 484.5,-116 484.5,-116 484.5,-170 484.5,-170 484.5,-176 478.5,-182 472.5,-182\"/>\n",
       "<text text-anchor=\"start\" x=\"385.5\" y=\"-167.8\" font-family=\"Helvetica,sans-Serif\" font-size=\"14.00\">X</text>\n",
       "<text text-anchor=\"start\" x=\"395.5\" y=\"-167.8\" font-family=\"Helvetica,sans-Serif\" baseline-shift=\"sub\" font-size=\"14.00\">160</text>\n",
       "<text text-anchor=\"start\" x=\"416.5\" y=\"-167.8\" font-family=\"Helvetica,sans-Serif\" font-size=\"14.00\"> ≤ 0.364</text>\n",
       "<text text-anchor=\"start\" x=\"390.5\" y=\"-153.8\" font-family=\"Helvetica,sans-Serif\" font-size=\"14.00\">gini = 0.273</text>\n",
       "<text text-anchor=\"start\" x=\"381\" y=\"-139.8\" font-family=\"Helvetica,sans-Serif\" font-size=\"14.00\">samples = 288</text>\n",
       "<text text-anchor=\"start\" x=\"375.5\" y=\"-125.8\" font-family=\"Helvetica,sans-Serif\" font-size=\"14.00\">value = [379, 74]</text>\n",
       "<text text-anchor=\"start\" x=\"391\" y=\"-111.8\" font-family=\"Helvetica,sans-Serif\" font-size=\"14.00\">class = real</text>\n",
       "</g>\n",
       "<!-- 1&#45;&gt;5 -->\n",
       "<g id=\"edge5\" class=\"edge\"><title>1&#45;&gt;5</title>\n",
       "<path fill=\"none\" stroke=\"black\" d=\"M426,-217.769C426,-209.57 426,-200.803 426,-192.28\"/>\n",
       "<polygon fill=\"black\" stroke=\"black\" points=\"429.5,-192.058 426,-182.058 422.5,-192.059 429.5,-192.058\"/>\n",
       "</g>\n",
       "<!-- 3 -->\n",
       "<g id=\"node4\" class=\"node\"><title>3</title>\n",
       "<path fill=\"#3b9ee5\" stroke=\"black\" d=\"M104,-68C104,-68 12,-68 12,-68 6,-68 7.10543e-15,-62 7.10543e-15,-56 7.10543e-15,-56 7.10543e-15,-12 7.10543e-15,-12 7.10543e-15,-6 6,-0 12,-0 12,-0 104,-0 104,-0 110,-0 116,-6 116,-12 116,-12 116,-56 116,-56 116,-62 110,-68 104,-68\"/>\n",
       "<text text-anchor=\"start\" x=\"22.5\" y=\"-52.8\" font-family=\"Helvetica,sans-Serif\" font-size=\"14.00\">gini = 0.024</text>\n",
       "<text text-anchor=\"start\" x=\"17\" y=\"-37.8\" font-family=\"Helvetica,sans-Serif\" font-size=\"14.00\">samples = 50</text>\n",
       "<text text-anchor=\"start\" x=\"15\" y=\"-22.8\" font-family=\"Helvetica,sans-Serif\" font-size=\"14.00\">value = [1, 81]</text>\n",
       "<text text-anchor=\"start\" x=\"8\" y=\"-7.8\" font-family=\"Helvetica,sans-Serif\" font-size=\"14.00\">class = synthetic</text>\n",
       "</g>\n",
       "<!-- 2&#45;&gt;3 -->\n",
       "<g id=\"edge3\" class=\"edge\"><title>2&#45;&gt;3</title>\n",
       "<path fill=\"none\" stroke=\"black\" d=\"M144.379,-103.975C132.522,-94.5063 119.778,-84.3306 107.818,-74.7803\"/>\n",
       "<polygon fill=\"black\" stroke=\"black\" points=\"109.682,-71.7898 99.6839,-68.2849 105.314,-77.2599 109.682,-71.7898\"/>\n",
       "</g>\n",
       "<!-- 4 -->\n",
       "<g id=\"node5\" class=\"node\"><title>4</title>\n",
       "<path fill=\"#a7d3f3\" stroke=\"black\" d=\"M238,-68C238,-68 146,-68 146,-68 140,-68 134,-62 134,-56 134,-56 134,-12 134,-12 134,-6 140,-0 146,-0 146,-0 238,-0 238,-0 244,-0 250,-6 250,-12 250,-12 250,-56 250,-56 250,-62 244,-68 238,-68\"/>\n",
       "<text text-anchor=\"start\" x=\"156.5\" y=\"-52.8\" font-family=\"Helvetica,sans-Serif\" font-size=\"14.00\">gini = 0.459</text>\n",
       "<text text-anchor=\"start\" x=\"154.5\" y=\"-37.8\" font-family=\"Helvetica,sans-Serif\" font-size=\"14.00\">samples = 9</text>\n",
       "<text text-anchor=\"start\" x=\"152.5\" y=\"-22.8\" font-family=\"Helvetica,sans-Serif\" font-size=\"14.00\">value = [5, 9]</text>\n",
       "<text text-anchor=\"start\" x=\"142\" y=\"-7.8\" font-family=\"Helvetica,sans-Serif\" font-size=\"14.00\">class = synthetic</text>\n",
       "</g>\n",
       "<!-- 2&#45;&gt;4 -->\n",
       "<g id=\"edge4\" class=\"edge\"><title>2&#45;&gt;4</title>\n",
       "<path fill=\"none\" stroke=\"black\" d=\"M192,-103.975C192,-95.6898 192,-86.8634 192,-78.3884\"/>\n",
       "<polygon fill=\"black\" stroke=\"black\" points=\"195.5,-78.2849 192,-68.2849 188.5,-78.285 195.5,-78.2849\"/>\n",
       "</g>\n",
       "<!-- 6 -->\n",
       "<g id=\"node7\" class=\"node\"><title>6</title>\n",
       "<path fill=\"#399de5\" stroke=\"black\" d=\"M372,-68C372,-68 280,-68 280,-68 274,-68 268,-62 268,-56 268,-56 268,-12 268,-12 268,-6 274,-0 280,-0 280,-0 372,-0 372,-0 378,-0 384,-6 384,-12 384,-12 384,-56 384,-56 384,-62 378,-68 372,-68\"/>\n",
       "<text text-anchor=\"start\" x=\"298\" y=\"-52.8\" font-family=\"Helvetica,sans-Serif\" font-size=\"14.00\">gini = 0.0</text>\n",
       "<text text-anchor=\"start\" x=\"285\" y=\"-37.8\" font-family=\"Helvetica,sans-Serif\" font-size=\"14.00\">samples = 16</text>\n",
       "<text text-anchor=\"start\" x=\"283\" y=\"-22.8\" font-family=\"Helvetica,sans-Serif\" font-size=\"14.00\">value = [0, 28]</text>\n",
       "<text text-anchor=\"start\" x=\"276\" y=\"-7.8\" font-family=\"Helvetica,sans-Serif\" font-size=\"14.00\">class = synthetic</text>\n",
       "</g>\n",
       "<!-- 5&#45;&gt;6 -->\n",
       "<g id=\"edge6\" class=\"edge\"><title>5&#45;&gt;6</title>\n",
       "<path fill=\"none\" stroke=\"black\" d=\"M390.462,-103.975C381.869,-94.7794 372.651,-84.917 363.952,-75.6083\"/>\n",
       "<polygon fill=\"black\" stroke=\"black\" points=\"366.493,-73.2012 357.107,-68.2849 361.378,-77.9808 366.493,-73.2012\"/>\n",
       "</g>\n",
       "<!-- 7 -->\n",
       "<g id=\"node8\" class=\"node\"><title>7</title>\n",
       "<path fill=\"#e89051\" stroke=\"black\" d=\"M507.5,-68C507.5,-68 414.5,-68 414.5,-68 408.5,-68 402.5,-62 402.5,-56 402.5,-56 402.5,-12 402.5,-12 402.5,-6 408.5,-0 414.5,-0 414.5,-0 507.5,-0 507.5,-0 513.5,-0 519.5,-6 519.5,-12 519.5,-12 519.5,-56 519.5,-56 519.5,-62 513.5,-68 507.5,-68\"/>\n",
       "<text text-anchor=\"start\" x=\"425.5\" y=\"-52.8\" font-family=\"Helvetica,sans-Serif\" font-size=\"14.00\">gini = 0.193</text>\n",
       "<text text-anchor=\"start\" x=\"416\" y=\"-37.8\" font-family=\"Helvetica,sans-Serif\" font-size=\"14.00\">samples = 272</text>\n",
       "<text text-anchor=\"start\" x=\"410.5\" y=\"-22.8\" font-family=\"Helvetica,sans-Serif\" font-size=\"14.00\">value = [379, 46]</text>\n",
       "<text text-anchor=\"start\" x=\"426\" y=\"-7.8\" font-family=\"Helvetica,sans-Serif\" font-size=\"14.00\">class = real</text>\n",
       "</g>\n",
       "<!-- 5&#45;&gt;7 -->\n",
       "<g id=\"edge7\" class=\"edge\"><title>5&#45;&gt;7</title>\n",
       "<path fill=\"none\" stroke=\"black\" d=\"M438.438,-103.975C441.208,-95.5077 444.162,-86.4752 446.99,-77.8301\"/>\n",
       "<polygon fill=\"black\" stroke=\"black\" points=\"450.33,-78.8775 450.112,-68.2849 443.677,-76.7012 450.33,-78.8775\"/>\n",
       "</g>\n",
       "<!-- 9 -->\n",
       "<g id=\"node10\" class=\"node\"><title>9</title>\n",
       "<path fill=\"#7dbfee\" stroke=\"black\" d=\"M676.5,-182C676.5,-182 583.5,-182 583.5,-182 577.5,-182 571.5,-176 571.5,-170 571.5,-170 571.5,-116 571.5,-116 571.5,-110 577.5,-104 583.5,-104 583.5,-104 676.5,-104 676.5,-104 682.5,-104 688.5,-110 688.5,-116 688.5,-116 688.5,-170 688.5,-170 688.5,-176 682.5,-182 676.5,-182\"/>\n",
       "<text text-anchor=\"start\" x=\"589.5\" y=\"-167.8\" font-family=\"Helvetica,sans-Serif\" font-size=\"14.00\">X</text>\n",
       "<text text-anchor=\"start\" x=\"599.5\" y=\"-167.8\" font-family=\"Helvetica,sans-Serif\" baseline-shift=\"sub\" font-size=\"14.00\">221</text>\n",
       "<text text-anchor=\"start\" x=\"620.5\" y=\"-167.8\" font-family=\"Helvetica,sans-Serif\" font-size=\"14.00\"> ≤ 0.248</text>\n",
       "<text text-anchor=\"start\" x=\"594.5\" y=\"-153.8\" font-family=\"Helvetica,sans-Serif\" font-size=\"14.00\">gini = 0.381</text>\n",
       "<text text-anchor=\"start\" x=\"585\" y=\"-139.8\" font-family=\"Helvetica,sans-Serif\" font-size=\"14.00\">samples = 129</text>\n",
       "<text text-anchor=\"start\" x=\"579.5\" y=\"-125.8\" font-family=\"Helvetica,sans-Serif\" font-size=\"14.00\">value = [50, 145]</text>\n",
       "<text text-anchor=\"start\" x=\"580\" y=\"-111.8\" font-family=\"Helvetica,sans-Serif\" font-size=\"14.00\">class = synthetic</text>\n",
       "</g>\n",
       "<!-- 8&#45;&gt;9 -->\n",
       "<g id=\"edge9\" class=\"edge\"><title>8&#45;&gt;9</title>\n",
       "<path fill=\"none\" stroke=\"black\" d=\"M630,-217.769C630,-209.57 630,-200.803 630,-192.28\"/>\n",
       "<polygon fill=\"black\" stroke=\"black\" points=\"633.5,-192.058 630,-182.058 626.5,-192.059 633.5,-192.058\"/>\n",
       "</g>\n",
       "<!-- 12 -->\n",
       "<g id=\"node13\" class=\"node\"><title>12</title>\n",
       "<path fill=\"#3b9ee5\" stroke=\"black\" d=\"M910,-182C910,-182 818,-182 818,-182 812,-182 806,-176 806,-170 806,-170 806,-116 806,-116 806,-110 812,-104 818,-104 818,-104 910,-104 910,-104 916,-104 922,-110 922,-116 922,-116 922,-170 922,-170 922,-176 916,-182 910,-182\"/>\n",
       "<text text-anchor=\"start\" x=\"823.5\" y=\"-167.8\" font-family=\"Helvetica,sans-Serif\" font-size=\"14.00\">X</text>\n",
       "<text text-anchor=\"start\" x=\"833.5\" y=\"-167.8\" font-family=\"Helvetica,sans-Serif\" baseline-shift=\"sub\" font-size=\"14.00\">270</text>\n",
       "<text text-anchor=\"start\" x=\"854.5\" y=\"-167.8\" font-family=\"Helvetica,sans-Serif\" font-size=\"14.00\"> ≤ 0.396</text>\n",
       "<text text-anchor=\"start\" x=\"832\" y=\"-153.8\" font-family=\"Helvetica,sans-Serif\" font-size=\"14.00\">gini = 0.02</text>\n",
       "<text text-anchor=\"start\" x=\"819\" y=\"-139.8\" font-family=\"Helvetica,sans-Serif\" font-size=\"14.00\">samples = 118</text>\n",
       "<text text-anchor=\"start\" x=\"817\" y=\"-125.8\" font-family=\"Helvetica,sans-Serif\" font-size=\"14.00\">value = [2, 196]</text>\n",
       "<text text-anchor=\"start\" x=\"814\" y=\"-111.8\" font-family=\"Helvetica,sans-Serif\" font-size=\"14.00\">class = synthetic</text>\n",
       "</g>\n",
       "<!-- 8&#45;&gt;12 -->\n",
       "<g id=\"edge12\" class=\"edge\"><title>8&#45;&gt;12</title>\n",
       "<path fill=\"none\" stroke=\"black\" d=\"M688.746,-227.882C721.415,-212.246 762.22,-192.715 796.234,-176.435\"/>\n",
       "<polygon fill=\"black\" stroke=\"black\" points=\"798.127,-179.409 805.636,-171.935 795.104,-173.095 798.127,-179.409\"/>\n",
       "</g>\n",
       "<!-- 10 -->\n",
       "<g id=\"node11\" class=\"node\"><title>10</title>\n",
       "<path fill=\"#3b9ee5\" stroke=\"black\" d=\"M642,-68C642,-68 550,-68 550,-68 544,-68 538,-62 538,-56 538,-56 538,-12 538,-12 538,-6 544,-0 550,-0 550,-0 642,-0 642,-0 648,-0 654,-6 654,-12 654,-12 654,-56 654,-56 654,-62 648,-68 642,-68\"/>\n",
       "<text text-anchor=\"start\" x=\"560.5\" y=\"-52.8\" font-family=\"Helvetica,sans-Serif\" font-size=\"14.00\">gini = 0.024</text>\n",
       "<text text-anchor=\"start\" x=\"555\" y=\"-37.8\" font-family=\"Helvetica,sans-Serif\" font-size=\"14.00\">samples = 49</text>\n",
       "<text text-anchor=\"start\" x=\"553\" y=\"-22.8\" font-family=\"Helvetica,sans-Serif\" font-size=\"14.00\">value = [1, 81]</text>\n",
       "<text text-anchor=\"start\" x=\"546\" y=\"-7.8\" font-family=\"Helvetica,sans-Serif\" font-size=\"14.00\">class = synthetic</text>\n",
       "</g>\n",
       "<!-- 9&#45;&gt;10 -->\n",
       "<g id=\"edge10\" class=\"edge\"><title>9&#45;&gt;10</title>\n",
       "<path fill=\"none\" stroke=\"black\" d=\"M617.917,-103.975C615.227,-95.5077 612.357,-86.4752 609.61,-77.8301\"/>\n",
       "<polygon fill=\"black\" stroke=\"black\" points=\"612.941,-76.7554 606.577,-68.2849 606.269,-78.8753 612.941,-76.7554\"/>\n",
       "</g>\n",
       "<!-- 11 -->\n",
       "<g id=\"node12\" class=\"node\"><title>11</title>\n",
       "<path fill=\"#d1e8f9\" stroke=\"black\" d=\"M776,-68C776,-68 684,-68 684,-68 678,-68 672,-62 672,-56 672,-56 672,-12 672,-12 672,-6 678,-0 684,-0 684,-0 776,-0 776,-0 782,-0 788,-6 788,-12 788,-12 788,-56 788,-56 788,-62 782,-68 776,-68\"/>\n",
       "<text text-anchor=\"start\" x=\"694.5\" y=\"-52.8\" font-family=\"Helvetica,sans-Serif\" font-size=\"14.00\">gini = 0.491</text>\n",
       "<text text-anchor=\"start\" x=\"689\" y=\"-37.8\" font-family=\"Helvetica,sans-Serif\" font-size=\"14.00\">samples = 80</text>\n",
       "<text text-anchor=\"start\" x=\"683\" y=\"-22.8\" font-family=\"Helvetica,sans-Serif\" font-size=\"14.00\">value = [49, 64]</text>\n",
       "<text text-anchor=\"start\" x=\"680\" y=\"-7.8\" font-family=\"Helvetica,sans-Serif\" font-size=\"14.00\">class = synthetic</text>\n",
       "</g>\n",
       "<!-- 9&#45;&gt;11 -->\n",
       "<g id=\"edge11\" class=\"edge\"><title>9&#45;&gt;11</title>\n",
       "<path fill=\"none\" stroke=\"black\" d=\"M665.538,-103.975C674.131,-94.7794 683.349,-84.917 692.048,-75.6083\"/>\n",
       "<polygon fill=\"black\" stroke=\"black\" points=\"694.622,-77.9808 698.893,-68.2849 689.507,-73.2012 694.622,-77.9808\"/>\n",
       "</g>\n",
       "<!-- 13 -->\n",
       "<g id=\"node14\" class=\"node\"><title>13</title>\n",
       "<path fill=\"#399de5\" stroke=\"black\" d=\"M910,-68C910,-68 818,-68 818,-68 812,-68 806,-62 806,-56 806,-56 806,-12 806,-12 806,-6 812,-0 818,-0 818,-0 910,-0 910,-0 916,-0 922,-6 922,-12 922,-12 922,-56 922,-56 922,-62 916,-68 910,-68\"/>\n",
       "<text text-anchor=\"start\" x=\"836\" y=\"-52.8\" font-family=\"Helvetica,sans-Serif\" font-size=\"14.00\">gini = 0.0</text>\n",
       "<text text-anchor=\"start\" x=\"823\" y=\"-37.8\" font-family=\"Helvetica,sans-Serif\" font-size=\"14.00\">samples = 76</text>\n",
       "<text text-anchor=\"start\" x=\"817\" y=\"-22.8\" font-family=\"Helvetica,sans-Serif\" font-size=\"14.00\">value = [0, 122]</text>\n",
       "<text text-anchor=\"start\" x=\"814\" y=\"-7.8\" font-family=\"Helvetica,sans-Serif\" font-size=\"14.00\">class = synthetic</text>\n",
       "</g>\n",
       "<!-- 12&#45;&gt;13 -->\n",
       "<g id=\"edge13\" class=\"edge\"><title>12&#45;&gt;13</title>\n",
       "<path fill=\"none\" stroke=\"black\" d=\"M864,-103.975C864,-95.6898 864,-86.8634 864,-78.3884\"/>\n",
       "<polygon fill=\"black\" stroke=\"black\" points=\"867.5,-78.2849 864,-68.2849 860.5,-78.285 867.5,-78.2849\"/>\n",
       "</g>\n",
       "<!-- 14 -->\n",
       "<g id=\"node15\" class=\"node\"><title>14</title>\n",
       "<path fill=\"#3ea0e6\" stroke=\"black\" d=\"M1044,-68C1044,-68 952,-68 952,-68 946,-68 940,-62 940,-56 940,-56 940,-12 940,-12 940,-6 946,-0 952,-0 952,-0 1044,-0 1044,-0 1050,-0 1056,-6 1056,-12 1056,-12 1056,-56 1056,-56 1056,-62 1050,-68 1044,-68\"/>\n",
       "<text text-anchor=\"start\" x=\"962.5\" y=\"-52.8\" font-family=\"Helvetica,sans-Serif\" font-size=\"14.00\">gini = 0.051</text>\n",
       "<text text-anchor=\"start\" x=\"957\" y=\"-37.8\" font-family=\"Helvetica,sans-Serif\" font-size=\"14.00\">samples = 42</text>\n",
       "<text text-anchor=\"start\" x=\"955\" y=\"-22.8\" font-family=\"Helvetica,sans-Serif\" font-size=\"14.00\">value = [2, 74]</text>\n",
       "<text text-anchor=\"start\" x=\"948\" y=\"-7.8\" font-family=\"Helvetica,sans-Serif\" font-size=\"14.00\">class = synthetic</text>\n",
       "</g>\n",
       "<!-- 12&#45;&gt;14 -->\n",
       "<g id=\"edge14\" class=\"edge\"><title>12&#45;&gt;14</title>\n",
       "<path fill=\"none\" stroke=\"black\" d=\"M911.621,-103.975C923.478,-94.5063 936.222,-84.3306 948.182,-74.7803\"/>\n",
       "<polygon fill=\"black\" stroke=\"black\" points=\"950.686,-77.2599 956.316,-68.2849 946.318,-71.7898 950.686,-77.2599\"/>\n",
       "</g>\n",
       "</g>\n",
       "</svg>\n"
      ],
      "text/plain": [
       "<graphviz.files.Source at 0x7fea55768198>"
      ]
     },
     "execution_count": 346,
     "metadata": {},
     "output_type": "execute_result"
    }
   ],
   "source": [
    "import graphviz\n",
    "dot_data = export_graphviz(dtree, out_file=None ,\n",
    "                                \n",
    "         \n",
    "                     filled=True, rounded=True,  \n",
    "                      special_characters=True,\n",
    "                          class_names=[\"real\",\"synthetic\"])\n",
    "graph = graphviz.Source(dot_data) \n",
    "graph"
   ]
  },
  {
   "cell_type": "code",
   "execution_count": 249,
   "metadata": {},
   "outputs": [
    {
     "data": {
      "image/png": "[encoded data removed]",
      "text/plain": [
       "<Figure size 864x576 with 1 Axes>"
      ]
     },
     "metadata": {
      "needs_background": "light"
     },
     "output_type": "display_data"
    }
   ],
   "source": [
    "plt.figure(figsize=(12,8))\n",
    "plot_tree(tree,filled=True)\n",
    "plt.show()"
   ]
  },
  {
   "cell_type": "code",
   "execution_count": null,
   "metadata": {},
   "outputs": [],
   "source": []
  }
 ],
 "metadata": {
  "kernelspec": {
   "display_name": "Python 3",
   "language": "python",
   "name": "python3"
  },
  "language_info": {
   "codemirror_mode": {
    "name": "ipython",
    "version": 3
   },
   "file_extension": ".py",
   "mimetype": "text/x-python",
   "name": "python",
   "nbconvert_exporter": "python",
   "pygments_lexer": "ipython3",
   "version": "3.5.2"
  }
 },
 "nbformat": 4,
 "nbformat_minor": 4
}
