{
 "cells": [
  {
   "cell_type": "code",
   "execution_count": 1,
   "metadata": {},
   "outputs": [],
   "source": [
    "import sys\n",
    "assert sys.version_info >= (3, 5)\n",
    "import tensorflow as tf\n",
    "from tensorflow import keras\n",
    "assert tf.__version__ >= \"2.0\"\n",
    "import numpy as np\n",
    "import time\n",
    "K = keras.backend\n",
    "import pandas as pd\n",
    "import math\n",
    "import os\n",
    "from sklearn.preprocessing import MinMaxScaler\n",
    "from sklearn.manifold import TSNE\n",
    "import matplotlib.pyplot as plt\n",
    "from sklearn.ensemble import RandomForestClassifier\n",
    "from sklearn.metrics import log_loss\n",
    "from sklearn import tree\n",
    "from sklearn.tree import export_graphviz,plot_tree\n",
    "\n",
    "\n",
    "tf.random.set_seed(42)\n",
    "np.random.seed(42)\n",
    "random_state=42"
   ]
  },
  {
   "cell_type": "code",
   "execution_count": 2,
   "metadata": {},
   "outputs": [],
   "source": [
    "save_path = 'save_path'\n",
    "os.chdir(save_path)\n",
    "\n",
    "X_train_omics_unlabelled = pd.read_csv(\"X_train_omics_unlabelled.csv\",index_col=0)\n",
    "X_train_omics_labelled = pd.read_csv(\"X_train_omics_labelled.csv\",index_col=0)\n",
    "X_test_omics= pd.read_csv(\"X_test_omics.csv\",index_col=0)\n",
    "X_valid_omics= pd.read_csv(\"X_valid_omics.csv\",index_col=0)\n",
    "features = np.load(\"feature_selection.npy\",allow_pickle=True)\n",
    "\n",
    "train_set_labelled_y= pd.read_csv(\"train_set_labelled_y.csv\",index_col=0)\n",
    "test_set_labelled_y= pd.read_csv(\"test_set_labelled_y.csv\",index_col=0)\n",
    "valid_set_labelled_y= pd.read_csv(\"valid_set_labelled_y.csv\",index_col=0)\n",
    "\n",
    "X_train_omics_unlabelled = X_train_omics_unlabelled[features]\n",
    "X_train_omics_labelled = X_train_omics_labelled[features]\n",
    "X_test_omics = X_test_omics[features]\n",
    "X_valid_omics = X_valid_omics[features]\n",
    "\n",
    "train_set_labelled_c= pd.read_csv(\"train_set_labelled_c.csv\",index_col=0)\n",
    "train_set_unlabelled_c= pd.read_csv(\"train_set_unlabelled_c.csv\",index_col=0)\n",
    "test_set_labelled_c= pd.read_csv(\"test_set_labelled_c.csv\",index_col=0)\n",
    "valid_set_labelled_c= pd.read_csv(\"valid_set_labelled_c.csv\",index_col=0)\n",
    "\n",
    "train_set_labelled_c = train_set_labelled_c[[\"age\",\"male\"]]\n",
    "train_set_unlabelled_c = train_set_unlabelled_c[[\"age\",\"male\"]]\n",
    "test_set_labelled_c = test_set_labelled_c[[\"age\",\"male\"]]\n",
    "valid_set_labelled_c = valid_set_labelled_c[[\"age\",\"male\"]]\n",
    "\n",
    "scaler = MinMaxScaler()\n",
    "train_set_labelled_y = scaler.fit_transform(train_set_labelled_y)\n",
    "valid_set_labelled_y = scaler.transform(valid_set_labelled_y)\n",
    "test_set_labelled_y = scaler.transform(test_set_labelled_y)\n",
    "\n",
    "valid_set_labelled_y[np.where(valid_set_labelled_y >1)] = 1\n",
    "test_set_labelled_y[np.where(test_set_labelled_y >1)] = 1\n",
    "\n",
    "train_set_labelled_c[\"age\"] = scaler.fit_transform(train_set_labelled_c[[\"age\"]])\n",
    "train_set_unlabelled_c[\"age\"] = scaler.transform(train_set_unlabelled_c[[\"age\"]])\n",
    "test_set_labelled_c[\"age\"] = scaler.transform(test_set_labelled_c[[\"age\"]])\n",
    "valid_set_labelled_c[\"age\"] = scaler.transform(valid_set_labelled_c[[\"age\"]])"
   ]
  },
  {
   "cell_type": "code",
   "execution_count": 3,
   "metadata": {},
   "outputs": [],
   "source": [
    "input_shape = X_train_omics_labelled.shape[1]"
   ]
  },
  {
   "cell_type": "markdown",
   "metadata": {},
   "source": [
    "# Load best model (MMD) # "
   ]
  },
  {
   "cell_type": "markdown",
   "metadata": {},
   "source": [
    "## Custom parts ##"
   ]
  },
  {
   "cell_type": "code",
   "execution_count": 4,
   "metadata": {},
   "outputs": [],
   "source": [
    "class Sampling(keras.layers.Layer):\n",
    "    \"\"\"reparameterization trick\"\"\"\n",
    "    def call(self, inputs):\n",
    "        mean, log_var = inputs\n",
    "        return K.random_normal(tf.shape(log_var)) * K.exp(log_var/2) + mean   \n",
    "    \n",
    "    \n",
    "class y_dist(keras.layers.Layer):\n",
    "\n",
    "    \"\"\"\n",
    "    Custom layer that is used to learn the parameters of the distribution over y.\n",
    "    \n",
    "    Outputs a loss. The loss is used for training. The loss is a GMM loss.\n",
    "    The mean of this is then taken to provide a per batch loss. \n",
    "        \n",
    "    \"\"\"\n",
    "    def __init__(self,**kwargs):\n",
    "        super().__init__(**kwargs)\n",
    "        \n",
    "        \n",
    "    def build(self,batch_input_shape):\n",
    "        self.q1 = self.add_weight(name=\"q1\",shape=[1,1],initializer=\"random_normal\",trainable=True)\n",
    "        self.q2 = self.add_weight(name=\"q2\",shape=[1,1],initializer=\"random_normal\",trainable=True)\n",
    "        self.mu1 = self.add_weight(name=\"mu1\",shape=[1,1],initializer=\"random_normal\",trainable=True)\n",
    "        self.mu2 = self.add_weight(name=\"mu2\",shape=[1,1],initializer=\"random_normal\",trainable=True)\n",
    "        self.mu3 = self.add_weight(name=\"mu3\",shape=[1,1],initializer=\"random_normal\",trainable=True)\n",
    "        self.tau1 = self.add_weight(name=\"tau1\",shape=[1,1],initializer=\"random_normal\",trainable=True)\n",
    "        self.tau2 = self.add_weight(name=\"tau2\",shape=[1,1],initializer=\"random_normal\",trainable=True)\n",
    "        self.tau3 = self.add_weight(name=\"tau3\",shape=[1,1],initializer=\"random_normal\",trainable=True)\n",
    "\n",
    "        super().build(batch_input_shape)\n",
    "    \n",
    "    def call(self,X):\n",
    "        concatenated = tf.concat([self.q1,self.q2,tf.constant(np.array(0.0).reshape(1,-1),dtype=\"float32\")],axis=-1)\n",
    "        p = K.exp(concatenated)\n",
    "        p = tf.math.divide(p,K.sum(p))\n",
    "        sigma_concatenated = tf.concat([self.tau1,self.tau2,self.tau3],axis=-1)\n",
    "        sigma = K.exp(sigma_concatenated)\n",
    "        likelihood = p[0][0]*gaussian_pdf(X,mean=self.mu1,sigma=sigma[0][0])+p[0][1]*gaussian_pdf(X,mean=self.mu2,sigma=sigma[0][1])+p[0][2]*gaussian_pdf(X,mean=self.mu3,sigma=sigma[0][2]) \n",
    "        loglik = tf.math.log(likelihood)\n",
    "        loss = -loglik\n",
    "        loss = tf.reduce_mean(loss)\n",
    "        return loss\n",
    "    \n",
    "    def compute_output_shape(self,batch_input_shape):\n",
    "        return tf.TensorShape(1)    \n",
    "    \n",
    "    \n",
    "def gaussian_pdf(array,mean,sigma):\n",
    "    part1 = tf.math.divide(tf.constant(np.array(1.0).reshape(1,-1),dtype=\"float32\"),sigma*(2*math.pi)**0.5)\n",
    "    part2 = K.exp(-0.5*tf.math.divide((array-mean),sigma)**2)\n",
    "    return part1*part2"
   ]
  },
  {
   "cell_type": "markdown",
   "metadata": {},
   "source": [
    "## Load model ##"
   ]
  },
  {
   "cell_type": "code",
   "execution_count": 5,
   "metadata": {},
   "outputs": [
    {
     "name": "stdout",
     "output_type": "stream",
     "text": [
      "WARNING:tensorflow:No training configuration found in save file: the model was *not* compiled. Compile it manually.\n",
      "WARNING:tensorflow:No training configuration found in save file: the model was *not* compiled. Compile it manually.\n",
      "WARNING:tensorflow:No training configuration found in save file: the model was *not* compiled. Compile it manually.\n",
      "WARNING:tensorflow:No training configuration found in save file: the model was *not* compiled. Compile it manually.\n"
     ]
    }
   ],
   "source": [
    "save_model_path = 'save_model_path'\n",
    "os.chdir(save_model_path)\n",
    "\n",
    "variational_encoder = keras.models.load_model(\"variational_encoder.h5\", custom_objects={\n",
    "   \"Sampling\": Sampling\n",
    "})\n",
    "variational_decoder = keras.models.load_model(\"variational_decoder.h5\")\n",
    "classifier = keras.models.load_model(\"classifier.h5\", custom_objects={\n",
    "   \"Sampling\": Sampling\n",
    "})     \n",
    "y_distribution = keras.models.load_model(\"y_distribution.h5\", custom_objects={\n",
    "   \"y_dist\": y_dist\n",
    "})    \n",
    "\n",
    "#for the loaded MMD model. Hyperparameters can be found in the relevant notebook.\n",
    "codings_size=171"
   ]
  },
  {
   "cell_type": "markdown",
   "metadata": {},
   "source": [
    "# Discriminator # "
   ]
  },
  {
   "cell_type": "code",
   "execution_count": 6,
   "metadata": {},
   "outputs": [],
   "source": [
    "####### PREPARATION OF TRAINING DATA #######\n",
    "\n",
    "#first column of label =1 if real data. Second column =1 if synthetic data. One hot encoding. \n",
    "\n",
    "#generate 383 synthetic data samples conditioned on y\n",
    "\n",
    "########## Training data ###############\n",
    "\n",
    "x_val_len = len(X_train_omics_labelled)\n",
    "z = np.random.normal(loc=0,scale=1,size=codings_size*x_val_len).reshape(x_val_len,codings_size)\n",
    "x_sample = variational_decoder([z,train_set_labelled_y,train_set_labelled_c.to_numpy()])\n",
    "label_sample = np.hstack([np.zeros((383,1)),np.ones((383,1))])\n",
    "label_real = np.hstack([np.ones((383,1)),np.zeros((383,1))])\n",
    "\n",
    "#append the real and synthetic arrays\n",
    "\n",
    "training_X = np.concatenate((X_train_omics_labelled.to_numpy(),x_sample))\n",
    "training_y = np.concatenate((train_set_labelled_y,train_set_labelled_y))\n",
    "training_c = np.concatenate((train_set_labelled_c.to_numpy(),train_set_labelled_c.to_numpy()))\n",
    "training_label = np.concatenate((label_real,label_sample))\n",
    "\n",
    "\n",
    "########## Validation data ###############\n",
    "\n",
    "x_val_len = len(X_valid_omics)\n",
    "z = np.random.normal(loc=0,scale=1,size=codings_size*x_val_len).reshape(x_val_len,codings_size)\n",
    "x_sample = variational_decoder([z,valid_set_labelled_y,valid_set_labelled_c.to_numpy()])\n",
    "label_sample = np.hstack([np.zeros((88,1)),np.ones((88,1))])\n",
    "label_real = np.hstack([np.ones((88,1)),np.zeros((88,1))])\n",
    "\n",
    "#append the real and synthetic arrays\n",
    "\n",
    "valid_X = np.concatenate((X_valid_omics.to_numpy(),x_sample))\n",
    "valid_y = np.concatenate((valid_set_labelled_y,valid_set_labelled_y))\n",
    "valid_c = np.concatenate((valid_set_labelled_c.to_numpy(),valid_set_labelled_c.to_numpy()))\n",
    "valid_label = np.concatenate((label_real,label_sample))"
   ]
  },
  {
   "cell_type": "code",
   "execution_count": 17,
   "metadata": {},
   "outputs": [],
   "source": [
    "discriminator_x = keras.layers.Input(shape=[input_shape])\n",
    "discriminator_y = keras.layers.Input(shape=[1])\n",
    "discriminator_c = keras.layers.Input(shape=[2])\n",
    "discrimator_merged = keras.layers.concatenate([discriminator_x,discriminator_y,discriminator_c])\n",
    "d = keras.layers.Dense(10, activation=\"elu\",kernel_initializer=\"he_normal\")(discrimator_merged)\n",
    "d = keras.layers.Dropout(0.5)(d)\n",
    "d = keras.layers.Dense(2,activation=\"softmax\")(d) \n",
    "\n",
    "discriminator = keras.models.Model(inputs=[discriminator_x,discriminator_y,discriminator_c], outputs=[d])"
   ]
  },
  {
   "cell_type": "code",
   "execution_count": 18,
   "metadata": {},
   "outputs": [],
   "source": [
    "discriminator.compile(loss=\"categorical_crossentropy\",optimizer=keras.optimizers.Adam(learning_rate=0.00001))\n"
   ]
  },
  {
   "cell_type": "code",
   "execution_count": 19,
   "metadata": {},
   "outputs": [],
   "source": [
    "early_stopping_cb = keras.callbacks.EarlyStopping(patience=10,restore_best_weights=True)"
   ]
  },
  {
   "cell_type": "code",
   "execution_count": 20,
   "metadata": {
    "scrolled": true
   },
   "outputs": [
    {
     "name": "stdout",
     "output_type": "stream",
     "text": [
      "Train on 766 samples, validate on 176 samples\n",
      "Epoch 1/400\n",
      "766/766 [==============================] - 0s 477us/sample - loss: 1.0478 - val_loss: 0.9035\n",
      "Epoch 2/400\n",
      "766/766 [==============================] - 0s 69us/sample - loss: 1.0228 - val_loss: 0.8735\n",
      "Epoch 3/400\n",
      "766/766 [==============================] - 0s 63us/sample - loss: 1.0142 - val_loss: 0.8448\n",
      "Epoch 4/400\n",
      "766/766 [==============================] - 0s 71us/sample - loss: 1.0183 - val_loss: 0.8195\n",
      "Epoch 5/400\n",
      "766/766 [==============================] - 0s 69us/sample - loss: 0.9391 - val_loss: 0.7965\n",
      "Epoch 6/400\n",
      "766/766 [==============================] - 0s 69us/sample - loss: 0.9329 - val_loss: 0.7755\n",
      "Epoch 7/400\n",
      "766/766 [==============================] - 0s 68us/sample - loss: 0.8982 - val_loss: 0.7563\n",
      "Epoch 8/400\n",
      "766/766 [==============================] - 0s 69us/sample - loss: 0.8792 - val_loss: 0.7387\n",
      "Epoch 9/400\n",
      "766/766 [==============================] - 0s 63us/sample - loss: 0.8619 - val_loss: 0.7227\n",
      "Epoch 10/400\n",
      "766/766 [==============================] - 0s 61us/sample - loss: 0.8156 - val_loss: 0.7095\n",
      "Epoch 11/400\n",
      "766/766 [==============================] - 0s 61us/sample - loss: 0.8261 - val_loss: 0.6990\n",
      "Epoch 12/400\n",
      "766/766 [==============================] - 0s 61us/sample - loss: 0.8318 - val_loss: 0.6890\n",
      "Epoch 13/400\n",
      "766/766 [==============================] - 0s 62us/sample - loss: 0.8125 - val_loss: 0.6816\n",
      "Epoch 14/400\n",
      "766/766 [==============================] - 0s 60us/sample - loss: 0.7851 - val_loss: 0.6755\n",
      "Epoch 15/400\n",
      "766/766 [==============================] - 0s 62us/sample - loss: 0.7929 - val_loss: 0.6702\n",
      "Epoch 16/400\n",
      "766/766 [==============================] - 0s 60us/sample - loss: 0.7790 - val_loss: 0.6662\n",
      "Epoch 17/400\n",
      "766/766 [==============================] - 0s 61us/sample - loss: 0.7629 - val_loss: 0.6626\n",
      "Epoch 18/400\n",
      "766/766 [==============================] - 0s 61us/sample - loss: 0.7505 - val_loss: 0.6609\n",
      "Epoch 19/400\n",
      "766/766 [==============================] - 0s 65us/sample - loss: 0.7376 - val_loss: 0.6600\n",
      "Epoch 20/400\n",
      "766/766 [==============================] - 0s 60us/sample - loss: 0.7473 - val_loss: 0.6597\n",
      "Epoch 21/400\n",
      "766/766 [==============================] - 0s 60us/sample - loss: 0.7563 - val_loss: 0.6595\n",
      "Epoch 22/400\n",
      "766/766 [==============================] - 0s 63us/sample - loss: 0.7427 - val_loss: 0.6593\n",
      "Epoch 23/400\n",
      "766/766 [==============================] - 0s 64us/sample - loss: 0.7583 - val_loss: 0.6592\n",
      "Epoch 24/400\n",
      "766/766 [==============================] - 0s 61us/sample - loss: 0.7385 - val_loss: 0.6599\n",
      "Epoch 25/400\n",
      "766/766 [==============================] - 0s 60us/sample - loss: 0.7411 - val_loss: 0.6605\n",
      "Epoch 26/400\n",
      "766/766 [==============================] - 0s 70us/sample - loss: 0.7209 - val_loss: 0.6608\n",
      "Epoch 27/400\n",
      "766/766 [==============================] - 0s 69us/sample - loss: 0.7119 - val_loss: 0.6615\n",
      "Epoch 28/400\n",
      "766/766 [==============================] - 0s 65us/sample - loss: 0.7330 - val_loss: 0.6623\n",
      "Epoch 29/400\n",
      "766/766 [==============================] - 0s 61us/sample - loss: 0.7231 - val_loss: 0.6632\n",
      "Epoch 30/400\n",
      "766/766 [==============================] - 0s 66us/sample - loss: 0.7251 - val_loss: 0.6643\n",
      "Epoch 31/400\n",
      "766/766 [==============================] - 0s 63us/sample - loss: 0.7391 - val_loss: 0.6653\n",
      "Epoch 32/400\n",
      "766/766 [==============================] - 0s 61us/sample - loss: 0.7154 - val_loss: 0.6661\n",
      "Epoch 33/400\n",
      "766/766 [==============================] - 0s 61us/sample - loss: 0.7119 - val_loss: 0.6667\n"
     ]
    },
    {
     "data": {
      "text/plain": [
       "<tensorflow.python.keras.callbacks.History at 0x7fa46a642978>"
      ]
     },
     "execution_count": 20,
     "metadata": {},
     "output_type": "execute_result"
    }
   ],
   "source": [
    "discriminator.fit((training_X,training_y,training_c),training_label, epochs=400,validation_data=((valid_X,valid_y,valid_c),valid_label),\n",
    "               callbacks=[early_stopping_cb])"
   ]
  },
  {
   "cell_type": "markdown",
   "metadata": {},
   "source": [
    "Below we see the results of the discriminator on a synthetic x sample (conditioned on test set y values). "
   ]
  },
  {
   "cell_type": "code",
   "execution_count": 22,
   "metadata": {},
   "outputs": [
    {
     "data": {
      "text/plain": [
       "<tf.Tensor: shape=(), dtype=float32, numpy=0.52022254>"
      ]
     },
     "execution_count": 22,
     "metadata": {},
     "output_type": "execute_result"
    }
   ],
   "source": [
    "test_len = len(X_test_omics)\n",
    "z = np.random.normal(loc=0,scale=1,size=codings_size*test_len).reshape(test_len,codings_size)\n",
    "x_new_sample = variational_decoder([z,test_set_labelled_y,test_set_labelled_c.to_numpy()])\n",
    "K.mean(discriminator([x_new_sample,test_set_labelled_y,test_set_labelled_c.to_numpy()])[:,1])"
   ]
  },
  {
   "cell_type": "markdown",
   "metadata": {},
   "source": [
    "Below we see the results of the discriminator on a real x sample for the above test set y values. "
   ]
  },
  {
   "cell_type": "code",
   "execution_count": 24,
   "metadata": {},
   "outputs": [
    {
     "data": {
      "text/plain": [
       "<tf.Tensor: shape=(), dtype=float32, numpy=0.4714>"
      ]
     },
     "execution_count": 24,
     "metadata": {},
     "output_type": "execute_result"
    }
   ],
   "source": [
    "K.mean(discriminator([X_test_omics.to_numpy(),test_set_labelled_y,test_set_labelled_c.to_numpy()])[:,1])"
   ]
  },
  {
   "cell_type": "code",
   "execution_count": 25,
   "metadata": {},
   "outputs": [
    {
     "data": {
      "image/png": "[encoded data removed]",
      "text/plain": [
       "<Figure size 432x288 with 1 Axes>"
      ]
     },
     "metadata": {
      "needs_background": "light"
     },
     "output_type": "display_data"
    }
   ],
   "source": [
    "tsne = TSNE(random_state=42)\n",
    "\n",
    "omics_tsne = tsne.fit_transform(np.vstack([training_X,valid_X]))\n",
    "\n",
    "fig= plt.figure()\n",
    "ax1 = fig.add_subplot(111)\n",
    "\n",
    "ax1.scatter(x=omics_tsne[0:383,0],y=omics_tsne[0:383,1],c=\"blue\") #real\n",
    "ax1.scatter(x=omics_tsne[383:766,0],y=omics_tsne[383:766,1],c=\"red\") #fake\n",
    "ax1.scatter(x=omics_tsne[766:846,0],y=omics_tsne[766:846,1],c=\"magenta\") #real\n",
    "ax1.scatter(x=omics_tsne[846:,0],y=omics_tsne[846:,1],c=\"yellow\") #fake\n",
    "\n",
    "\n",
    "\n",
    "plt.show()\n",
    "\n",
    "#shows that real and fake data are well mixed"
   ]
  },
  {
   "cell_type": "markdown",
   "metadata": {},
   "source": [
    "#### Training Discriminator on real vs random data ####"
   ]
  },
  {
   "cell_type": "code",
   "execution_count": 26,
   "metadata": {},
   "outputs": [],
   "source": [
    "####### PREPARATION OF TRAINING DATA #######\n",
    "\n",
    "#first column of label =1 if real data. Second column =1 if synthetic data. One hot encoding. \n",
    "\n",
    "########## Training data ###############\n",
    "\n",
    "x_val_len = len(X_train_omics_labelled)\n",
    "x_sample = np.random.uniform(size=(x_val_len,290))\n",
    "label_sample = np.hstack([np.zeros((383,1)),np.ones((383,1))])\n",
    "label_real = np.hstack([np.ones((383,1)),np.zeros((383,1))])\n",
    "\n",
    "#append the real and synthetic arrays\n",
    "\n",
    "training_X = np.concatenate((X_train_omics_labelled.to_numpy(),x_sample))\n",
    "training_y = np.concatenate((train_set_labelled_y,train_set_labelled_y))\n",
    "training_c = np.concatenate((train_set_labelled_c.to_numpy(),train_set_labelled_c.to_numpy()))\n",
    "training_label = np.concatenate((label_real,label_sample))\n",
    "\n",
    "\n",
    "########## Validation data ###############\n",
    "\n",
    "x_val_len = len(X_valid_omics)\n",
    "x_sample = np.random.uniform(size=(x_val_len,290))\n",
    "label_sample = np.hstack([np.zeros((88,1)),np.ones((88,1))])\n",
    "label_real = np.hstack([np.ones((88,1)),np.zeros((88,1))])\n",
    "\n",
    "#append the real and synthetic arrays\n",
    "\n",
    "valid_X = np.concatenate((X_valid_omics.to_numpy(),x_sample))\n",
    "valid_y = np.concatenate((valid_set_labelled_y,valid_set_labelled_y))\n",
    "valid_c = np.concatenate((valid_set_labelled_c.to_numpy(),valid_set_labelled_c.to_numpy()))\n",
    "valid_label = np.concatenate((label_real,label_sample))"
   ]
  },
  {
   "cell_type": "code",
   "execution_count": 27,
   "metadata": {},
   "outputs": [],
   "source": [
    "discriminator_x = keras.layers.Input(shape=[input_shape])\n",
    "discriminator_y = keras.layers.Input(shape=[1])\n",
    "discriminator_c = keras.layers.Input(shape=[2])\n",
    "discrimator_merged = keras.layers.concatenate([discriminator_x,discriminator_y,discriminator_c])\n",
    "d = keras.layers.Dense(10, activation=\"elu\",kernel_initializer=\"he_normal\")(discrimator_merged)\n",
    "d = keras.layers.Dropout(0.5)(d)\n",
    "d = keras.layers.Dense(2,activation=\"softmax\")(d) \n",
    "\n",
    "discriminator = keras.models.Model(inputs=[discriminator_x,discriminator_y,discriminator_c], outputs=[d])"
   ]
  },
  {
   "cell_type": "code",
   "execution_count": 28,
   "metadata": {},
   "outputs": [],
   "source": [
    "discriminator.compile(loss=\"categorical_crossentropy\",optimizer=keras.optimizers.Adam(learning_rate=0.0001))\n"
   ]
  },
  {
   "cell_type": "code",
   "execution_count": 29,
   "metadata": {},
   "outputs": [
    {
     "name": "stdout",
     "output_type": "stream",
     "text": [
      "Train on 766 samples, validate on 176 samples\n",
      "Epoch 1/400\n",
      "766/766 [==============================] - 0s 484us/sample - loss: 1.2004 - val_loss: 1.0430\n",
      "Epoch 2/400\n",
      "766/766 [==============================] - 0s 72us/sample - loss: 1.0163 - val_loss: 0.9443\n",
      "Epoch 3/400\n",
      "766/766 [==============================] - 0s 64us/sample - loss: 0.8731 - val_loss: 0.8776\n",
      "Epoch 4/400\n",
      "766/766 [==============================] - 0s 68us/sample - loss: 0.7554 - val_loss: 0.8289\n",
      "Epoch 5/400\n",
      "766/766 [==============================] - 0s 61us/sample - loss: 0.7008 - val_loss: 0.7751\n",
      "Epoch 6/400\n",
      "766/766 [==============================] - 0s 61us/sample - loss: 0.6248 - val_loss: 0.7261\n",
      "Epoch 7/400\n",
      "766/766 [==============================] - 0s 59us/sample - loss: 0.5603 - val_loss: 0.6815\n",
      "Epoch 8/400\n",
      "766/766 [==============================] - 0s 62us/sample - loss: 0.5449 - val_loss: 0.6539\n",
      "Epoch 9/400\n",
      "766/766 [==============================] - 0s 63us/sample - loss: 0.4947 - val_loss: 0.6154\n",
      "Epoch 10/400\n",
      "766/766 [==============================] - 0s 59us/sample - loss: 0.4682 - val_loss: 0.5880\n",
      "Epoch 11/400\n",
      "766/766 [==============================] - 0s 62us/sample - loss: 0.4250 - val_loss: 0.5712\n",
      "Epoch 12/400\n",
      "766/766 [==============================] - 0s 62us/sample - loss: 0.4183 - val_loss: 0.5461\n",
      "Epoch 13/400\n",
      "766/766 [==============================] - 0s 67us/sample - loss: 0.3762 - val_loss: 0.5217\n",
      "Epoch 14/400\n",
      "766/766 [==============================] - 0s 60us/sample - loss: 0.3630 - val_loss: 0.5106\n",
      "Epoch 15/400\n",
      "766/766 [==============================] - 0s 82us/sample - loss: 0.3358 - val_loss: 0.4937\n",
      "Epoch 16/400\n",
      "766/766 [==============================] - 0s 74us/sample - loss: 0.3167 - val_loss: 0.4697\n",
      "Epoch 17/400\n",
      "766/766 [==============================] - 0s 64us/sample - loss: 0.2932 - val_loss: 0.4595\n",
      "Epoch 18/400\n",
      "766/766 [==============================] - 0s 88us/sample - loss: 0.2772 - val_loss: 0.4549\n",
      "Epoch 19/400\n",
      "766/766 [==============================] - 0s 71us/sample - loss: 0.2698 - val_loss: 0.4335\n",
      "Epoch 20/400\n",
      "766/766 [==============================] - 0s 66us/sample - loss: 0.2673 - val_loss: 0.4385\n",
      "Epoch 21/400\n",
      "766/766 [==============================] - 0s 61us/sample - loss: 0.2617 - val_loss: 0.4229\n",
      "Epoch 22/400\n",
      "766/766 [==============================] - 0s 62us/sample - loss: 0.2391 - val_loss: 0.4057\n",
      "Epoch 23/400\n",
      "766/766 [==============================] - 0s 61us/sample - loss: 0.2366 - val_loss: 0.3969\n",
      "Epoch 24/400\n",
      "766/766 [==============================] - 0s 62us/sample - loss: 0.2193 - val_loss: 0.3806\n",
      "Epoch 25/400\n",
      "766/766 [==============================] - 0s 62us/sample - loss: 0.2035 - val_loss: 0.3794\n",
      "Epoch 26/400\n",
      "766/766 [==============================] - 0s 61us/sample - loss: 0.1916 - val_loss: 0.3755\n",
      "Epoch 27/400\n",
      "766/766 [==============================] - 0s 65us/sample - loss: 0.1998 - val_loss: 0.3676\n",
      "Epoch 28/400\n",
      "766/766 [==============================] - 0s 60us/sample - loss: 0.1794 - val_loss: 0.3586\n",
      "Epoch 29/400\n",
      "766/766 [==============================] - 0s 58us/sample - loss: 0.1782 - val_loss: 0.3621\n",
      "Epoch 30/400\n",
      "766/766 [==============================] - 0s 58us/sample - loss: 0.1821 - val_loss: 0.3625\n",
      "Epoch 31/400\n",
      "766/766 [==============================] - 0s 58us/sample - loss: 0.1543 - val_loss: 0.3346\n",
      "Epoch 32/400\n",
      "766/766 [==============================] - 0s 60us/sample - loss: 0.1474 - val_loss: 0.3371\n",
      "Epoch 33/400\n",
      "766/766 [==============================] - 0s 66us/sample - loss: 0.1511 - val_loss: 0.3319\n",
      "Epoch 34/400\n",
      "766/766 [==============================] - 0s 63us/sample - loss: 0.1454 - val_loss: 0.3175\n",
      "Epoch 35/400\n",
      "766/766 [==============================] - 0s 57us/sample - loss: 0.1392 - val_loss: 0.3237\n",
      "Epoch 36/400\n",
      "766/766 [==============================] - 0s 61us/sample - loss: 0.1290 - val_loss: 0.3079\n",
      "Epoch 37/400\n",
      "766/766 [==============================] - 0s 60us/sample - loss: 0.1384 - val_loss: 0.3124\n",
      "Epoch 38/400\n",
      "766/766 [==============================] - 0s 62us/sample - loss: 0.1268 - val_loss: 0.3118\n",
      "Epoch 39/400\n",
      "766/766 [==============================] - 0s 61us/sample - loss: 0.1174 - val_loss: 0.3030\n",
      "Epoch 40/400\n",
      "766/766 [==============================] - 0s 60us/sample - loss: 0.1257 - val_loss: 0.2997\n",
      "Epoch 41/400\n",
      "766/766 [==============================] - 0s 60us/sample - loss: 0.1105 - val_loss: 0.2959\n",
      "Epoch 42/400\n",
      "766/766 [==============================] - 0s 60us/sample - loss: 0.1105 - val_loss: 0.2942\n",
      "Epoch 43/400\n",
      "766/766 [==============================] - 0s 59us/sample - loss: 0.1023 - val_loss: 0.2906\n",
      "Epoch 44/400\n",
      "766/766 [==============================] - 0s 58us/sample - loss: 0.1028 - val_loss: 0.2852\n",
      "Epoch 45/400\n",
      "766/766 [==============================] - 0s 60us/sample - loss: 0.1097 - val_loss: 0.2804\n",
      "Epoch 46/400\n",
      "766/766 [==============================] - 0s 60us/sample - loss: 0.1002 - val_loss: 0.2787\n",
      "Epoch 47/400\n",
      "766/766 [==============================] - 0s 58us/sample - loss: 0.0863 - val_loss: 0.2715\n",
      "Epoch 48/400\n",
      "766/766 [==============================] - 0s 58us/sample - loss: 0.0946 - val_loss: 0.2689\n",
      "Epoch 49/400\n",
      "766/766 [==============================] - 0s 60us/sample - loss: 0.0892 - val_loss: 0.2744\n",
      "Epoch 50/400\n",
      "766/766 [==============================] - 0s 74us/sample - loss: 0.0896 - val_loss: 0.2780\n",
      "Epoch 51/400\n",
      "766/766 [==============================] - 0s 63us/sample - loss: 0.0822 - val_loss: 0.2738\n",
      "Epoch 52/400\n",
      "766/766 [==============================] - 0s 60us/sample - loss: 0.0781 - val_loss: 0.2642\n",
      "Epoch 53/400\n",
      "766/766 [==============================] - 0s 70us/sample - loss: 0.0805 - val_loss: 0.2566\n",
      "Epoch 54/400\n",
      "766/766 [==============================] - 0s 71us/sample - loss: 0.0786 - val_loss: 0.2548\n",
      "Epoch 55/400\n",
      "766/766 [==============================] - 0s 65us/sample - loss: 0.0768 - val_loss: 0.2646\n",
      "Epoch 56/400\n",
      "766/766 [==============================] - 0s 79us/sample - loss: 0.0697 - val_loss: 0.2481\n",
      "Epoch 57/400\n",
      "766/766 [==============================] - 0s 65us/sample - loss: 0.0737 - val_loss: 0.2554\n",
      "Epoch 58/400\n",
      "766/766 [==============================] - 0s 63us/sample - loss: 0.0699 - val_loss: 0.2513\n",
      "Epoch 59/400\n",
      "766/766 [==============================] - 0s 58us/sample - loss: 0.0665 - val_loss: 0.2534\n",
      "Epoch 60/400\n",
      "766/766 [==============================] - 0s 57us/sample - loss: 0.0696 - val_loss: 0.2506\n",
      "Epoch 61/400\n",
      "766/766 [==============================] - 0s 58us/sample - loss: 0.0677 - val_loss: 0.2464\n",
      "Epoch 62/400\n",
      "766/766 [==============================] - 0s 59us/sample - loss: 0.0655 - val_loss: 0.2442\n",
      "Epoch 63/400\n",
      "766/766 [==============================] - 0s 58us/sample - loss: 0.0597 - val_loss: 0.2580\n",
      "Epoch 64/400\n",
      "766/766 [==============================] - 0s 60us/sample - loss: 0.0556 - val_loss: 0.2558\n",
      "Epoch 65/400\n",
      "766/766 [==============================] - 0s 59us/sample - loss: 0.0558 - val_loss: 0.2380\n",
      "Epoch 66/400\n",
      "766/766 [==============================] - 0s 63us/sample - loss: 0.0572 - val_loss: 0.2343\n",
      "Epoch 67/400\n",
      "766/766 [==============================] - 0s 62us/sample - loss: 0.0539 - val_loss: 0.2275\n",
      "Epoch 68/400\n",
      "766/766 [==============================] - 0s 62us/sample - loss: 0.0578 - val_loss: 0.2275\n",
      "Epoch 69/400\n",
      "766/766 [==============================] - 0s 62us/sample - loss: 0.0543 - val_loss: 0.2266\n",
      "Epoch 70/400\n",
      "766/766 [==============================] - 0s 61us/sample - loss: 0.0548 - val_loss: 0.2329\n",
      "Epoch 71/400\n",
      "766/766 [==============================] - 0s 61us/sample - loss: 0.0483 - val_loss: 0.2357\n",
      "Epoch 72/400\n",
      "766/766 [==============================] - 0s 60us/sample - loss: 0.0532 - val_loss: 0.2225\n",
      "Epoch 73/400\n",
      "766/766 [==============================] - 0s 59us/sample - loss: 0.0501 - val_loss: 0.2196\n",
      "Epoch 74/400\n",
      "766/766 [==============================] - 0s 59us/sample - loss: 0.0441 - val_loss: 0.2195\n",
      "Epoch 75/400\n",
      "766/766 [==============================] - 0s 65us/sample - loss: 0.0451 - val_loss: 0.2168\n",
      "Epoch 76/400\n",
      "766/766 [==============================] - 0s 61us/sample - loss: 0.0431 - val_loss: 0.2244\n",
      "Epoch 77/400\n",
      "766/766 [==============================] - 0s 59us/sample - loss: 0.0475 - val_loss: 0.2266\n",
      "Epoch 78/400\n",
      "766/766 [==============================] - 0s 57us/sample - loss: 0.0433 - val_loss: 0.2210\n",
      "Epoch 79/400\n",
      "766/766 [==============================] - 0s 57us/sample - loss: 0.0424 - val_loss: 0.2266\n",
      "Epoch 80/400\n",
      "766/766 [==============================] - 0s 59us/sample - loss: 0.0440 - val_loss: 0.2213\n",
      "Epoch 81/400\n",
      "766/766 [==============================] - 0s 58us/sample - loss: 0.0454 - val_loss: 0.2227\n",
      "Epoch 82/400\n",
      "766/766 [==============================] - 0s 58us/sample - loss: 0.0379 - val_loss: 0.2171\n",
      "Epoch 83/400\n",
      "766/766 [==============================] - 0s 58us/sample - loss: 0.0403 - val_loss: 0.2097\n",
      "Epoch 84/400\n",
      "766/766 [==============================] - 0s 58us/sample - loss: 0.0370 - val_loss: 0.2095\n",
      "Epoch 85/400\n",
      "766/766 [==============================] - 0s 61us/sample - loss: 0.0422 - val_loss: 0.2137\n",
      "Epoch 86/400\n",
      "766/766 [==============================] - 0s 60us/sample - loss: 0.0386 - val_loss: 0.2135\n",
      "Epoch 87/400\n",
      "766/766 [==============================] - 0s 57us/sample - loss: 0.0394 - val_loss: 0.2179\n",
      "Epoch 88/400\n",
      "766/766 [==============================] - 0s 57us/sample - loss: 0.0407 - val_loss: 0.2161\n",
      "Epoch 89/400\n",
      "766/766 [==============================] - 0s 70us/sample - loss: 0.0361 - val_loss: 0.2081\n",
      "Epoch 90/400\n",
      "766/766 [==============================] - 0s 61us/sample - loss: 0.0323 - val_loss: 0.2039\n",
      "Epoch 91/400\n",
      "766/766 [==============================] - 0s 61us/sample - loss: 0.0280 - val_loss: 0.2092\n",
      "Epoch 92/400\n",
      "766/766 [==============================] - 0s 58us/sample - loss: 0.0338 - val_loss: 0.2111\n",
      "Epoch 93/400\n",
      "766/766 [==============================] - 0s 57us/sample - loss: 0.0285 - val_loss: 0.2072\n",
      "Epoch 94/400\n",
      "766/766 [==============================] - 0s 60us/sample - loss: 0.0354 - val_loss: 0.2012\n",
      "Epoch 95/400\n",
      "766/766 [==============================] - 0s 58us/sample - loss: 0.0336 - val_loss: 0.2127\n",
      "Epoch 96/400\n",
      "766/766 [==============================] - 0s 57us/sample - loss: 0.0340 - val_loss: 0.2116\n",
      "Epoch 97/400\n",
      "766/766 [==============================] - 0s 57us/sample - loss: 0.0263 - val_loss: 0.2080\n",
      "Epoch 98/400\n",
      "766/766 [==============================] - 0s 58us/sample - loss: 0.0304 - val_loss: 0.2064\n",
      "Epoch 99/400\n",
      "766/766 [==============================] - 0s 59us/sample - loss: 0.0342 - val_loss: 0.2055\n",
      "Epoch 100/400\n",
      "766/766 [==============================] - 0s 59us/sample - loss: 0.0304 - val_loss: 0.2001\n",
      "Epoch 101/400\n",
      "766/766 [==============================] - 0s 56us/sample - loss: 0.0310 - val_loss: 0.2074\n",
      "Epoch 102/400\n",
      "766/766 [==============================] - 0s 57us/sample - loss: 0.0287 - val_loss: 0.2030\n",
      "Epoch 103/400\n",
      "766/766 [==============================] - 0s 55us/sample - loss: 0.0291 - val_loss: 0.2056\n",
      "Epoch 104/400\n",
      "766/766 [==============================] - 0s 58us/sample - loss: 0.0257 - val_loss: 0.2001\n",
      "Epoch 105/400\n",
      "766/766 [==============================] - 0s 58us/sample - loss: 0.0286 - val_loss: 0.1948\n",
      "Epoch 106/400\n",
      "766/766 [==============================] - 0s 59us/sample - loss: 0.0283 - val_loss: 0.1944\n",
      "Epoch 107/400\n",
      "766/766 [==============================] - 0s 59us/sample - loss: 0.0297 - val_loss: 0.2022\n",
      "Epoch 108/400\n",
      "766/766 [==============================] - 0s 61us/sample - loss: 0.0280 - val_loss: 0.2113\n",
      "Epoch 109/400\n",
      "766/766 [==============================] - 0s 59us/sample - loss: 0.0291 - val_loss: 0.2007\n",
      "Epoch 110/400\n",
      "766/766 [==============================] - 0s 59us/sample - loss: 0.0288 - val_loss: 0.2003\n",
      "Epoch 111/400\n",
      "766/766 [==============================] - 0s 63us/sample - loss: 0.0207 - val_loss: 0.2010\n",
      "Epoch 112/400\n",
      "766/766 [==============================] - 0s 65us/sample - loss: 0.0245 - val_loss: 0.1971\n",
      "Epoch 113/400\n",
      "766/766 [==============================] - 0s 64us/sample - loss: 0.0297 - val_loss: 0.1914\n",
      "Epoch 114/400\n",
      "766/766 [==============================] - 0s 61us/sample - loss: 0.0231 - val_loss: 0.1920\n",
      "Epoch 115/400\n",
      "766/766 [==============================] - 0s 58us/sample - loss: 0.0227 - val_loss: 0.1873\n",
      "Epoch 116/400\n",
      "766/766 [==============================] - 0s 57us/sample - loss: 0.0223 - val_loss: 0.1892\n",
      "Epoch 117/400\n",
      "766/766 [==============================] - 0s 57us/sample - loss: 0.0229 - val_loss: 0.1917\n",
      "Epoch 118/400\n",
      "766/766 [==============================] - 0s 57us/sample - loss: 0.0243 - val_loss: 0.1939\n",
      "Epoch 119/400\n",
      "766/766 [==============================] - 0s 58us/sample - loss: 0.0212 - val_loss: 0.1983\n",
      "Epoch 120/400\n",
      "766/766 [==============================] - 0s 57us/sample - loss: 0.0231 - val_loss: 0.2075\n",
      "Epoch 121/400\n",
      "766/766 [==============================] - 0s 57us/sample - loss: 0.0226 - val_loss: 0.1996\n",
      "Epoch 122/400\n",
      "766/766 [==============================] - 0s 56us/sample - loss: 0.0170 - val_loss: 0.2003\n",
      "Epoch 123/400\n",
      "766/766 [==============================] - 0s 60us/sample - loss: 0.0173 - val_loss: 0.1940\n",
      "Epoch 124/400\n",
      "766/766 [==============================] - 0s 61us/sample - loss: 0.0202 - val_loss: 0.1928\n",
      "Epoch 125/400\n",
      "766/766 [==============================] - 0s 63us/sample - loss: 0.0239 - val_loss: 0.1831\n",
      "Epoch 126/400\n",
      "766/766 [==============================] - 0s 58us/sample - loss: 0.0199 - val_loss: 0.1788\n",
      "Epoch 127/400\n",
      "766/766 [==============================] - 0s 57us/sample - loss: 0.0195 - val_loss: 0.1808\n",
      "Epoch 128/400\n",
      "766/766 [==============================] - 0s 59us/sample - loss: 0.0208 - val_loss: 0.1772\n",
      "Epoch 129/400\n",
      "766/766 [==============================] - 0s 75us/sample - loss: 0.0168 - val_loss: 0.1767\n",
      "Epoch 130/400\n",
      "766/766 [==============================] - 0s 70us/sample - loss: 0.0189 - val_loss: 0.1772\n",
      "Epoch 131/400\n",
      "766/766 [==============================] - 0s 65us/sample - loss: 0.0203 - val_loss: 0.1772\n",
      "Epoch 132/400\n",
      "766/766 [==============================] - 0s 64us/sample - loss: 0.0165 - val_loss: 0.1835\n",
      "Epoch 133/400\n",
      "766/766 [==============================] - 0s 68us/sample - loss: 0.0198 - val_loss: 0.1857\n",
      "Epoch 134/400\n",
      "766/766 [==============================] - 0s 65us/sample - loss: 0.0199 - val_loss: 0.1842\n",
      "Epoch 135/400\n",
      "766/766 [==============================] - 0s 66us/sample - loss: 0.0183 - val_loss: 0.1819\n",
      "Epoch 136/400\n",
      "766/766 [==============================] - 0s 58us/sample - loss: 0.0193 - val_loss: 0.1875\n",
      "Epoch 137/400\n",
      "766/766 [==============================] - 0s 59us/sample - loss: 0.0156 - val_loss: 0.1873\n",
      "Epoch 138/400\n",
      "766/766 [==============================] - 0s 58us/sample - loss: 0.0154 - val_loss: 0.1923\n",
      "Epoch 139/400\n",
      "766/766 [==============================] - 0s 58us/sample - loss: 0.0178 - val_loss: 0.1924\n"
     ]
    },
    {
     "data": {
      "text/plain": [
       "<tensorflow.python.keras.callbacks.History at 0x7fa46acc2400>"
      ]
     },
     "execution_count": 29,
     "metadata": {},
     "output_type": "execute_result"
    }
   ],
   "source": [
    "discriminator.fit((training_X,training_y,training_c),training_label, epochs=400,validation_data=((valid_X,valid_y,valid_c),valid_label),\n",
    "               callbacks=[early_stopping_cb])"
   ]
  },
  {
   "cell_type": "code",
   "execution_count": 30,
   "metadata": {},
   "outputs": [
    {
     "name": "stdout",
     "output_type": "stream",
     "text": [
      "WARNING:tensorflow:Layer concatenate_2 is casting an input tensor from dtype float64 to the layer's dtype of float32, which is new behavior in TensorFlow 2.  The layer has dtype float32 because it's dtype defaults to floatx.\n",
      "\n",
      "If you intended to run this layer in float32, you can safely ignore this warning. If in doubt, this warning is likely only an issue if you are porting a TensorFlow 1.X model to TensorFlow 2.\n",
      "\n",
      "To change all layers to have dtype float64 by default, call `tf.keras.backend.set_floatx('float64')`. To change just this layer, pass dtype='float64' to the layer constructor. If you are the author of this layer, you can disable autocasting by passing autocast=False to the base Layer constructor.\n",
      "\n"
     ]
    },
    {
     "data": {
      "text/plain": [
       "<tf.Tensor: shape=(), dtype=float32, numpy=0.80584913>"
      ]
     },
     "execution_count": 30,
     "metadata": {},
     "output_type": "execute_result"
    }
   ],
   "source": [
    "K.mean(discriminator([X_test_omics.to_numpy(),test_set_labelled_y,test_set_labelled_c.to_numpy()])[:,0])\n",
    "#80% sure real data is real"
   ]
  },
  {
   "cell_type": "code",
   "execution_count": 31,
   "metadata": {},
   "outputs": [
    {
     "data": {
      "text/plain": [
       "<tf.Tensor: shape=(), dtype=float32, numpy=0.9947457>"
      ]
     },
     "execution_count": 31,
     "metadata": {},
     "output_type": "execute_result"
    }
   ],
   "source": [
    "x_val_len = len(X_test_omics)\n",
    "x_sample = np.random.uniform(size=(x_val_len,290))\n",
    "K.mean(discriminator([x_sample,test_set_labelled_y,test_set_labelled_c.to_numpy()])[:,1])\n",
    "#98% sure random data is fake"
   ]
  },
  {
   "cell_type": "markdown",
   "metadata": {},
   "source": [
    "# Random Forest # "
   ]
  },
  {
   "cell_type": "markdown",
   "metadata": {},
   "source": [
    "### Real vs random data ###"
   ]
  },
  {
   "cell_type": "code",
   "execution_count": 32,
   "metadata": {},
   "outputs": [],
   "source": [
    "####### PREPARATION OF TRAINING DATA #######\n",
    "\n",
    "#first column of label =1 if real data. \n",
    "\n",
    "########## Training data ###############\n",
    "\n",
    "x_val_len = len(X_train_omics_labelled)\n",
    "x_sample = np.random.uniform(size=(x_val_len,290))\n",
    "label_sample = np.hstack([np.zeros((383,1)),np.ones((383,1))])\n",
    "label_real = np.hstack([np.ones((383,1)),np.zeros((383,1))])\n",
    "\n",
    "#append the real and synthetic arrays\n",
    "\n",
    "training_X = np.concatenate((X_train_omics_labelled.to_numpy(),x_sample))\n",
    "training_y = np.concatenate((train_set_labelled_y,train_set_labelled_y))\n",
    "training_c = np.concatenate((train_set_labelled_c.to_numpy(),train_set_labelled_c.to_numpy()))\n",
    "training_label = np.concatenate((label_real,label_sample))[:,0]\n",
    "train_x = np.hstack([training_X,training_y,training_c])\n",
    "\n",
    "\n",
    "########## Validation data ###############\n",
    "\n",
    "x_val_len = len(X_valid_omics)\n",
    "x_sample = np.random.uniform(size=(x_val_len,290))\n",
    "label_sample = np.hstack([np.zeros((88,1)),np.ones((88,1))])\n",
    "label_real = np.hstack([np.ones((88,1)),np.zeros((88,1))])\n",
    "\n",
    "#append the real and synthetic arrays\n",
    "\n",
    "valid_X = np.concatenate((X_valid_omics.to_numpy(),x_sample))\n",
    "valid_y = np.concatenate((valid_set_labelled_y,valid_set_labelled_y))\n",
    "valid_c = np.concatenate((valid_set_labelled_c.to_numpy(),valid_set_labelled_c.to_numpy()))\n",
    "valid_label = np.concatenate((label_real,label_sample))[:,0]\n",
    "valid_x = np.hstack([valid_X,valid_y,valid_c])\n",
    "\n",
    "########### Test data ##############\n",
    "\n",
    "x_val_len = len(X_test_omics)\n",
    "test_x_random = np.random.uniform(size=(x_val_len,290)) \n",
    "test_X = np.concatenate((X_test_omics.to_numpy(),test_x_random))\n",
    "test_y = np.concatenate((test_set_labelled_y,test_set_labelled_y))\n",
    "test_c = np.concatenate((test_set_labelled_c.to_numpy(),test_set_labelled_c.to_numpy()))\n",
    "test_x = np.hstack([test_X,test_y,test_c])"
   ]
  },
  {
   "cell_type": "code",
   "execution_count": 33,
   "metadata": {},
   "outputs": [],
   "source": [
    "rfc = RandomForestClassifier(n_estimators=200,max_depth=1,n_jobs=2,random_state=random_state)"
   ]
  },
  {
   "cell_type": "code",
   "execution_count": 34,
   "metadata": {},
   "outputs": [
    {
     "data": {
      "text/plain": [
       "RandomForestClassifier(bootstrap=True, ccp_alpha=0.0, class_weight=None,\n",
       "                       criterion='gini', max_depth=1, max_features='auto',\n",
       "                       max_leaf_nodes=None, max_samples=None,\n",
       "                       min_impurity_decrease=0.0, min_impurity_split=None,\n",
       "                       min_samples_leaf=1, min_samples_split=2,\n",
       "                       min_weight_fraction_leaf=0.0, n_estimators=200, n_jobs=2,\n",
       "                       oob_score=False, random_state=42, verbose=0,\n",
       "                       warm_start=False)"
      ]
     },
     "execution_count": 34,
     "metadata": {},
     "output_type": "execute_result"
    }
   ],
   "source": [
    "rfc.fit(train_x,training_label)"
   ]
  },
  {
   "cell_type": "code",
   "execution_count": 35,
   "metadata": {},
   "outputs": [
    {
     "data": {
      "text/plain": [
       "0.625"
      ]
     },
     "execution_count": 35,
     "metadata": {},
     "output_type": "execute_result"
    }
   ],
   "source": [
    "rfc.score(valid_x,valid_label) #for hyperparameter tuning"
   ]
  },
  {
   "cell_type": "code",
   "execution_count": 36,
   "metadata": {},
   "outputs": [
    {
     "data": {
      "text/plain": [
       "0.7768803384993493"
      ]
     },
     "execution_count": 36,
     "metadata": {},
     "output_type": "execute_result"
    }
   ],
   "source": [
    "np.mean((rfc.predict_proba(train_x))[:383,1])\n",
    "#prob real train set is real"
   ]
  },
  {
   "cell_type": "code",
   "execution_count": 37,
   "metadata": {},
   "outputs": [
    {
     "data": {
      "text/plain": [
       "0.22124955931847182"
      ]
     },
     "execution_count": 37,
     "metadata": {},
     "output_type": "execute_result"
    }
   ],
   "source": [
    "np.mean((rfc.predict_proba(train_x))[383:,1])\n",
    "#prob random is real"
   ]
  },
  {
   "cell_type": "code",
   "execution_count": 38,
   "metadata": {},
   "outputs": [
    {
     "data": {
      "text/plain": [
       "0.434167636495941"
      ]
     },
     "execution_count": 38,
     "metadata": {},
     "output_type": "execute_result"
    }
   ],
   "source": [
    "np.mean((rfc.predict_proba(valid_x))[:88,1])\n",
    "#prob real valid is real"
   ]
  },
  {
   "cell_type": "code",
   "execution_count": 39,
   "metadata": {},
   "outputs": [
    {
     "data": {
      "text/plain": [
       "0.2203792596868955"
      ]
     },
     "execution_count": 39,
     "metadata": {},
     "output_type": "execute_result"
    }
   ],
   "source": [
    "np.mean((rfc.predict_proba(valid_x))[88:,1])\n",
    "#prob random valid is real"
   ]
  },
  {
   "cell_type": "code",
   "execution_count": 40,
   "metadata": {},
   "outputs": [
    {
     "data": {
      "text/plain": [
       "0.4265574359937464"
      ]
     },
     "execution_count": 40,
     "metadata": {},
     "output_type": "execute_result"
    }
   ],
   "source": [
    "np.mean((rfc.predict_proba(test_x))[:106,1])\n",
    "#prob real test set is real"
   ]
  },
  {
   "cell_type": "code",
   "execution_count": 41,
   "metadata": {},
   "outputs": [
    {
     "data": {
      "text/plain": [
       "0.24334093545772115"
      ]
     },
     "execution_count": 41,
     "metadata": {},
     "output_type": "execute_result"
    }
   ],
   "source": [
    "np.mean((rfc.predict_proba(test_x))[106:,1])\n",
    "#prob random test set is real"
   ]
  },
  {
   "cell_type": "markdown",
   "metadata": {},
   "source": [
    "### Real vs Synthetic data ###"
   ]
  },
  {
   "cell_type": "code",
   "execution_count": 6,
   "metadata": {},
   "outputs": [],
   "source": [
    "####### PREPARATION OF TRAINING DATA #######\n",
    "\n",
    "#first column of label =1 if real data. \n",
    "\n",
    "########## Training data ###############\n",
    "\n",
    "x_val_len = len(X_train_omics_labelled)\n",
    "z = np.random.normal(loc=0,scale=1,size=codings_size*x_val_len).reshape(x_val_len,codings_size)\n",
    "x_sample = variational_decoder([z,train_set_labelled_y,train_set_labelled_c.to_numpy()])\n",
    "label_sample = np.hstack([np.zeros((383,1)),np.ones((383,1))])\n",
    "label_real = np.hstack([np.ones((383,1)),np.zeros((383,1))])\n",
    "\n",
    "#append the real and synthetic arrays\n",
    "\n",
    "training_X = np.concatenate((X_train_omics_labelled.to_numpy(),x_sample))\n",
    "training_y = np.concatenate((train_set_labelled_y,train_set_labelled_y))\n",
    "training_c = np.concatenate((train_set_labelled_c.to_numpy(),train_set_labelled_c.to_numpy()))\n",
    "training_label = np.concatenate((label_real,label_sample))[:,0]\n",
    "train_x = np.hstack([training_X,training_y,training_c])\n",
    "\n",
    "\n",
    "########## Validation data ###############\n",
    "\n",
    "x_val_len = len(X_valid_omics)\n",
    "z = np.random.normal(loc=0,scale=1,size=codings_size*x_val_len).reshape(x_val_len,codings_size)\n",
    "x_sample = variational_decoder([z,valid_set_labelled_y,valid_set_labelled_c.to_numpy()])\n",
    "label_sample = np.hstack([np.zeros((88,1)),np.ones((88,1))])\n",
    "label_real = np.hstack([np.ones((88,1)),np.zeros((88,1))])\n",
    "\n",
    "#append the real and synthetic arrays\n",
    "\n",
    "valid_X = np.concatenate((X_valid_omics.to_numpy(),x_sample))\n",
    "valid_y = np.concatenate((valid_set_labelled_y,valid_set_labelled_y))\n",
    "valid_c = np.concatenate((valid_set_labelled_c.to_numpy(),valid_set_labelled_c.to_numpy()))\n",
    "valid_label = np.concatenate((label_real,label_sample))[:,0]\n",
    "valid_x = np.hstack([valid_X,valid_y,valid_c])\n",
    "\n",
    "############ Test data ###########\n",
    "\n",
    "test_len = len(X_test_omics)\n",
    "z = np.random.normal(loc=0,scale=1,size=codings_size*test_len).reshape(test_len,codings_size)\n",
    "test_x_synthetic = variational_decoder([z,test_set_labelled_y,test_set_labelled_c.to_numpy()])\n",
    "test_X = np.concatenate((X_test_omics.to_numpy(),test_x_synthetic))\n",
    "test_y = np.concatenate((test_set_labelled_y,test_set_labelled_y))\n",
    "test_c = np.concatenate((test_set_labelled_c.to_numpy(),test_set_labelled_c.to_numpy()))\n",
    "test_x = np.hstack([test_X,test_y,test_c])\n",
    "\n"
   ]
  },
  {
   "cell_type": "markdown",
   "metadata": {},
   "source": [
    "look at the decision tree graphic"
   ]
  },
  {
   "cell_type": "code",
   "execution_count": 7,
   "metadata": {},
   "outputs": [],
   "source": [
    "\n",
    "rfc = RandomForestClassifier(n_estimators=200,max_depth=5,n_jobs=2,random_state=42)"
   ]
  },
  {
   "cell_type": "code",
   "execution_count": 8,
   "metadata": {},
   "outputs": [
    {
     "data": {
      "text/plain": [
       "RandomForestClassifier(bootstrap=True, ccp_alpha=0.0, class_weight=None,\n",
       "                       criterion='gini', max_depth=5, max_features='auto',\n",
       "                       max_leaf_nodes=None, max_samples=None,\n",
       "                       min_impurity_decrease=0.0, min_impurity_split=None,\n",
       "                       min_samples_leaf=1, min_samples_split=2,\n",
       "                       min_weight_fraction_leaf=0.0, n_estimators=200, n_jobs=2,\n",
       "                       oob_score=False, random_state=42, verbose=0,\n",
       "                       warm_start=False)"
      ]
     },
     "execution_count": 8,
     "metadata": {},
     "output_type": "execute_result"
    }
   ],
   "source": [
    "rfc.fit(train_x,training_label)"
   ]
  },
  {
   "cell_type": "code",
   "execution_count": 9,
   "metadata": {},
   "outputs": [
    {
     "data": {
      "text/plain": [
       "0.9829545454545454"
      ]
     },
     "execution_count": 9,
     "metadata": {},
     "output_type": "execute_result"
    }
   ],
   "source": [
    "rfc.score(valid_x,valid_label)"
   ]
  },
  {
   "cell_type": "code",
   "execution_count": 10,
   "metadata": {},
   "outputs": [
    {
     "data": {
      "text/plain": [
       "0.881601370544402"
      ]
     },
     "execution_count": 10,
     "metadata": {},
     "output_type": "execute_result"
    }
   ],
   "source": [
    "np.mean((rfc.predict_proba(train_x))[:383,1])\n",
    "#prob real train set is real"
   ]
  },
  {
   "cell_type": "code",
   "execution_count": 11,
   "metadata": {},
   "outputs": [
    {
     "data": {
      "text/plain": [
       "0.10032235672616785"
      ]
     },
     "execution_count": 11,
     "metadata": {},
     "output_type": "execute_result"
    }
   ],
   "source": [
    "np.mean((rfc.predict_proba(train_x))[383:,1])\n",
    "#prob synthetic train set is real"
   ]
  },
  {
   "cell_type": "code",
   "execution_count": 12,
   "metadata": {},
   "outputs": [
    {
     "data": {
      "text/plain": [
       "0.6344226742894375"
      ]
     },
     "execution_count": 12,
     "metadata": {},
     "output_type": "execute_result"
    }
   ],
   "source": [
    "np.mean((rfc.predict_proba(valid_x))[:88,1])\n",
    "#prob real val set is real"
   ]
  },
  {
   "cell_type": "code",
   "execution_count": 13,
   "metadata": {},
   "outputs": [
    {
     "data": {
      "text/plain": [
       "0.1463707059620457"
      ]
     },
     "execution_count": 13,
     "metadata": {},
     "output_type": "execute_result"
    }
   ],
   "source": [
    "np.mean((rfc.predict_proba(valid_x))[88:,1])\n",
    "\n",
    "#avg prob that the synthetic valid set is synthetic"
   ]
  },
  {
   "cell_type": "code",
   "execution_count": 14,
   "metadata": {},
   "outputs": [
    {
     "data": {
      "text/plain": [
       "0.6377414792404626"
      ]
     },
     "execution_count": 14,
     "metadata": {},
     "output_type": "execute_result"
    }
   ],
   "source": [
    "np.mean((rfc.predict_proba(test_x))[:106,1])\n",
    "#prob real test set is real"
   ]
  },
  {
   "cell_type": "code",
   "execution_count": 15,
   "metadata": {},
   "outputs": [
    {
     "data": {
      "text/plain": [
       "0.1447929174466153"
      ]
     },
     "execution_count": 15,
     "metadata": {},
     "output_type": "execute_result"
    }
   ],
   "source": [
    "np.mean((rfc.predict_proba(test_x))[106:,1])\n",
    "#prob synthetic test set is real"
   ]
  },
  {
   "cell_type": "code",
   "execution_count": 148,
   "metadata": {},
   "outputs": [
    {
     "data": {
      "text/plain": [
       "<matplotlib.axes._subplots.AxesSubplot at 0x7f65c8c691d0>"
      ]
     },
     "execution_count": 148,
     "metadata": {},
     "output_type": "execute_result"
    },
    {
     "data": {
      "image/png": "[encoded data removed]",
      "text/plain": [
       "<Figure size 432x288 with 1 Axes>"
      ]
     },
     "metadata": {
      "needs_background": "light"
     },
     "output_type": "display_data"
    }
   ],
   "source": [
    "import seaborn \n",
    "seaborn.distplot(training_X[:383,271],color=\"blue\") #real\n",
    "seaborn.distplot(training_X[383:,271],color=\"red\") #synthetic\n",
    "seaborn.distplot(valid_X[:88,271],color=\"purple\") #real\n",
    "seaborn.distplot(valid_X[88:,271],color=\"yellow\") #synthetic"
   ]
  },
  {
   "cell_type": "code",
   "execution_count": 53,
   "metadata": {},
   "outputs": [],
   "source": [
    "dtree = rfc.estimators_[0]"
   ]
  },
  {
   "cell_type": "code",
   "execution_count": 154,
   "metadata": {},
   "outputs": [
    {
     "data": {
      "text/plain": [
       "<matplotlib.axes._subplots.AxesSubplot at 0x7f65c8b8cfd0>"
      ]
     },
     "execution_count": 154,
     "metadata": {},
     "output_type": "execute_result"
    },
    {
     "data": {
      "image/png": "[encoded data removed]",
      "text/plain": [
       "<Figure size 432x288 with 1 Axes>"
      ]
     },
     "metadata": {
      "needs_background": "light"
     },
     "output_type": "display_data"
    }
   ],
   "source": [
    "seaborn.distplot(training_X[:383,228],color=\"blue\") #real\n",
    "seaborn.distplot(training_X[383:,228],color=\"red\") #synthetic\n",
    "seaborn.distplot(valid_X[:88,228],color=\"purple\") #real\n",
    "seaborn.distplot(valid_X[88:,228],color=\"yellow\") #synthetic"
   ]
  },
  {
   "cell_type": "code",
   "execution_count": 54,
   "metadata": {},
   "outputs": [
    {
     "data": {
      "image/svg+xml": [
       "<?xml version=\"1.0\" encoding=\"UTF-8\" standalone=\"no\"?>\n",
       "<!DOCTYPE svg PUBLIC \"-//W3C//DTD SVG 1.1//EN\"\n",
       " \"http://www.w3.org/Graphics/SVG/1.1/DTD/svg11.dtd\">\n",
       "<!-- Generated by graphviz version 2.38.0 (20140413.2041)\n",
       " -->\n",
       "<!-- Title: Tree Pages: 1 -->\n",
       "<svg width=\"1502pt\" height=\"646pt\"\n",
       " viewBox=\"0.00 0.00 1502.00 646.00\" xmlns=\"http://www.w3.org/2000/svg\" xmlns:xlink=\"http://www.w3.org/1999/xlink\">\n",
       "<g id=\"graph0\" class=\"graph\" transform=\"scale(1 1) rotate(0) translate(4 642)\">\n",
       "<title>Tree</title>\n",
       "<polygon fill=\"white\" stroke=\"none\" points=\"-4,4 -4,-642 1498,-642 1498,4 -4,4\"/>\n",
       "<!-- 0 -->\n",
       "<g id=\"node1\" class=\"node\"><title>0</title>\n",
       "<path fill=\"#fcfdff\" stroke=\"black\" d=\"M532.5,-638C532.5,-638 431.5,-638 431.5,-638 425.5,-638 419.5,-632 419.5,-626 419.5,-626 419.5,-572 419.5,-572 419.5,-566 425.5,-560 431.5,-560 431.5,-560 532.5,-560 532.5,-560 538.5,-560 544.5,-566 544.5,-572 544.5,-572 544.5,-626 544.5,-626 544.5,-632 538.5,-638 532.5,-638\"/>\n",
       "<text text-anchor=\"start\" x=\"452.5\" y=\"-623.8\" font-family=\"Helvetica,sans-Serif\" font-size=\"14.00\">X</text>\n",
       "<text text-anchor=\"start\" x=\"462.5\" y=\"-623.8\" font-family=\"Helvetica,sans-Serif\" baseline-shift=\"sub\" font-size=\"14.00\">21</text>\n",
       "<text text-anchor=\"start\" x=\"476.5\" y=\"-623.8\" font-family=\"Helvetica,sans-Serif\" font-size=\"14.00\"> ≤ 0.3</text>\n",
       "<text text-anchor=\"start\" x=\"454\" y=\"-609.8\" font-family=\"Helvetica,sans-Serif\" font-size=\"14.00\">gini = 0.5</text>\n",
       "<text text-anchor=\"start\" x=\"437\" y=\"-595.8\" font-family=\"Helvetica,sans-Serif\" font-size=\"14.00\">samples = 485</text>\n",
       "<text text-anchor=\"start\" x=\"427.5\" y=\"-581.8\" font-family=\"Helvetica,sans-Serif\" font-size=\"14.00\">value = [380, 386]</text>\n",
       "<text text-anchor=\"start\" x=\"432\" y=\"-567.8\" font-family=\"Helvetica,sans-Serif\" font-size=\"14.00\">class = synthetic</text>\n",
       "</g>\n",
       "<!-- 1 -->\n",
       "<g id=\"node2\" class=\"node\"><title>1</title>\n",
       "<path fill=\"#41a1e6\" stroke=\"black\" d=\"M430,-524C430,-524 338,-524 338,-524 332,-524 326,-518 326,-512 326,-512 326,-458 326,-458 326,-452 332,-446 338,-446 338,-446 430,-446 430,-446 436,-446 442,-452 442,-458 442,-458 442,-512 442,-512 442,-518 436,-524 430,-524\"/>\n",
       "<text text-anchor=\"start\" x=\"343.5\" y=\"-509.8\" font-family=\"Helvetica,sans-Serif\" font-size=\"14.00\">X</text>\n",
       "<text text-anchor=\"start\" x=\"353.5\" y=\"-509.8\" font-family=\"Helvetica,sans-Serif\" baseline-shift=\"sub\" font-size=\"14.00\">242</text>\n",
       "<text text-anchor=\"start\" x=\"374.5\" y=\"-509.8\" font-family=\"Helvetica,sans-Serif\" font-size=\"14.00\"> ≤ 0.112</text>\n",
       "<text text-anchor=\"start\" x=\"348.5\" y=\"-495.8\" font-family=\"Helvetica,sans-Serif\" font-size=\"14.00\">gini = 0.074</text>\n",
       "<text text-anchor=\"start\" x=\"339\" y=\"-481.8\" font-family=\"Helvetica,sans-Serif\" font-size=\"14.00\">samples = 103</text>\n",
       "<text text-anchor=\"start\" x=\"337\" y=\"-467.8\" font-family=\"Helvetica,sans-Serif\" font-size=\"14.00\">value = [6, 149]</text>\n",
       "<text text-anchor=\"start\" x=\"334\" y=\"-453.8\" font-family=\"Helvetica,sans-Serif\" font-size=\"14.00\">class = synthetic</text>\n",
       "</g>\n",
       "<!-- 0&#45;&gt;1 -->\n",
       "<g id=\"edge1\" class=\"edge\"><title>0&#45;&gt;1</title>\n",
       "<path fill=\"none\" stroke=\"black\" d=\"M448.548,-559.769C440.664,-550.759 432.181,-541.064 424.039,-531.759\"/>\n",
       "<polygon fill=\"black\" stroke=\"black\" points=\"426.52,-529.28 417.301,-524.058 421.252,-533.889 426.52,-529.28\"/>\n",
       "<text text-anchor=\"middle\" x=\"415.638\" y=\"-545.303\" font-family=\"Helvetica,sans-Serif\" font-size=\"14.00\">True</text>\n",
       "</g>\n",
       "<!-- 12 -->\n",
       "<g id=\"node13\" class=\"node\"><title>12</title>\n",
       "<path fill=\"#f5d1b6\" stroke=\"black\" d=\"M631.5,-524C631.5,-524 530.5,-524 530.5,-524 524.5,-524 518.5,-518 518.5,-512 518.5,-512 518.5,-458 518.5,-458 518.5,-452 524.5,-446 530.5,-446 530.5,-446 631.5,-446 631.5,-446 637.5,-446 643.5,-452 643.5,-458 643.5,-458 643.5,-512 643.5,-512 643.5,-518 637.5,-524 631.5,-524\"/>\n",
       "<text text-anchor=\"start\" x=\"544\" y=\"-509.8\" font-family=\"Helvetica,sans-Serif\" font-size=\"14.00\">X</text>\n",
       "<text text-anchor=\"start\" x=\"554\" y=\"-509.8\" font-family=\"Helvetica,sans-Serif\" baseline-shift=\"sub\" font-size=\"14.00\">49</text>\n",
       "<text text-anchor=\"start\" x=\"568\" y=\"-509.8\" font-family=\"Helvetica,sans-Serif\" font-size=\"14.00\"> ≤ 0.157</text>\n",
       "<text text-anchor=\"start\" x=\"545.5\" y=\"-495.8\" font-family=\"Helvetica,sans-Serif\" font-size=\"14.00\">gini = 0.475</text>\n",
       "<text text-anchor=\"start\" x=\"536\" y=\"-481.8\" font-family=\"Helvetica,sans-Serif\" font-size=\"14.00\">samples = 382</text>\n",
       "<text text-anchor=\"start\" x=\"526.5\" y=\"-467.8\" font-family=\"Helvetica,sans-Serif\" font-size=\"14.00\">value = [374, 237]</text>\n",
       "<text text-anchor=\"start\" x=\"546\" y=\"-453.8\" font-family=\"Helvetica,sans-Serif\" font-size=\"14.00\">class = real</text>\n",
       "</g>\n",
       "<!-- 0&#45;&gt;12 -->\n",
       "<g id=\"edge12\" class=\"edge\"><title>0&#45;&gt;12</title>\n",
       "<path fill=\"none\" stroke=\"black\" d=\"M515.793,-559.769C523.758,-550.759 532.328,-541.064 540.552,-531.759\"/>\n",
       "<polygon fill=\"black\" stroke=\"black\" points=\"543.359,-533.869 547.359,-524.058 538.114,-529.233 543.359,-533.869\"/>\n",
       "<text text-anchor=\"middle\" x=\"548.896\" y=\"-545.311\" font-family=\"Helvetica,sans-Serif\" font-size=\"14.00\">False</text>\n",
       "</g>\n",
       "<!-- 2 -->\n",
       "<g id=\"node3\" class=\"node\"><title>2</title>\n",
       "<path fill=\"#3ea0e6\" stroke=\"black\" d=\"M238,-410C238,-410 146,-410 146,-410 140,-410 134,-404 134,-398 134,-398 134,-344 134,-344 134,-338 140,-332 146,-332 146,-332 238,-332 238,-332 244,-332 250,-338 250,-344 250,-344 250,-398 250,-398 250,-404 244,-410 238,-410\"/>\n",
       "<text text-anchor=\"start\" x=\"155\" y=\"-395.8\" font-family=\"Helvetica,sans-Serif\" font-size=\"14.00\">X</text>\n",
       "<text text-anchor=\"start\" x=\"165\" y=\"-395.8\" font-family=\"Helvetica,sans-Serif\" baseline-shift=\"sub\" font-size=\"14.00\">32</text>\n",
       "<text text-anchor=\"start\" x=\"179\" y=\"-395.8\" font-family=\"Helvetica,sans-Serif\" font-size=\"14.00\"> ≤ 0.578</text>\n",
       "<text text-anchor=\"start\" x=\"156.5\" y=\"-381.8\" font-family=\"Helvetica,sans-Serif\" font-size=\"14.00\">gini = 0.051</text>\n",
       "<text text-anchor=\"start\" x=\"147\" y=\"-367.8\" font-family=\"Helvetica,sans-Serif\" font-size=\"14.00\">samples = 100</text>\n",
       "<text text-anchor=\"start\" x=\"145\" y=\"-353.8\" font-family=\"Helvetica,sans-Serif\" font-size=\"14.00\">value = [4, 148]</text>\n",
       "<text text-anchor=\"start\" x=\"142\" y=\"-339.8\" font-family=\"Helvetica,sans-Serif\" font-size=\"14.00\">class = synthetic</text>\n",
       "</g>\n",
       "<!-- 1&#45;&gt;2 -->\n",
       "<g id=\"edge2\" class=\"edge\"><title>1&#45;&gt;2</title>\n",
       "<path fill=\"none\" stroke=\"black\" d=\"M325.873,-450.092C304.822,-437.813 280.878,-423.846 259.118,-411.152\"/>\n",
       "<polygon fill=\"black\" stroke=\"black\" points=\"260.662,-408.001 250.261,-405.986 257.135,-414.048 260.662,-408.001\"/>\n",
       "</g>\n",
       "<!-- 9 -->\n",
       "<g id=\"node10\" class=\"node\"><title>9</title>\n",
       "<path fill=\"#f2c09c\" stroke=\"black\" d=\"M420.5,-410C420.5,-410 347.5,-410 347.5,-410 341.5,-410 335.5,-404 335.5,-398 335.5,-398 335.5,-344 335.5,-344 335.5,-338 341.5,-332 347.5,-332 347.5,-332 420.5,-332 420.5,-332 426.5,-332 432.5,-338 432.5,-344 432.5,-344 432.5,-398 432.5,-398 432.5,-404 426.5,-410 420.5,-410\"/>\n",
       "<text text-anchor=\"start\" x=\"343.5\" y=\"-395.8\" font-family=\"Helvetica,sans-Serif\" font-size=\"14.00\">X</text>\n",
       "<text text-anchor=\"start\" x=\"353.5\" y=\"-395.8\" font-family=\"Helvetica,sans-Serif\" baseline-shift=\"sub\" font-size=\"14.00\">186</text>\n",
       "<text text-anchor=\"start\" x=\"374.5\" y=\"-395.8\" font-family=\"Helvetica,sans-Serif\" font-size=\"14.00\"> ≤ 0.515</text>\n",
       "<text text-anchor=\"start\" x=\"348.5\" y=\"-381.8\" font-family=\"Helvetica,sans-Serif\" font-size=\"14.00\">gini = 0.444</text>\n",
       "<text text-anchor=\"start\" x=\"346.5\" y=\"-367.8\" font-family=\"Helvetica,sans-Serif\" font-size=\"14.00\">samples = 3</text>\n",
       "<text text-anchor=\"start\" x=\"344.5\" y=\"-353.8\" font-family=\"Helvetica,sans-Serif\" font-size=\"14.00\">value = [2, 1]</text>\n",
       "<text text-anchor=\"start\" x=\"349\" y=\"-339.8\" font-family=\"Helvetica,sans-Serif\" font-size=\"14.00\">class = real</text>\n",
       "</g>\n",
       "<!-- 1&#45;&gt;9 -->\n",
       "<g id=\"edge9\" class=\"edge\"><title>1&#45;&gt;9</title>\n",
       "<path fill=\"none\" stroke=\"black\" d=\"M384,-445.769C384,-437.57 384,-428.803 384,-420.28\"/>\n",
       "<polygon fill=\"black\" stroke=\"black\" points=\"387.5,-420.058 384,-410.058 380.5,-420.059 387.5,-420.058\"/>\n",
       "</g>\n",
       "<!-- 3 -->\n",
       "<g id=\"node4\" class=\"node\"><title>3</title>\n",
       "<path fill=\"#399de5\" stroke=\"black\" d=\"M104,-291C104,-291 12,-291 12,-291 6,-291 7.10543e-15,-285 7.10543e-15,-279 7.10543e-15,-279 7.10543e-15,-235 7.10543e-15,-235 7.10543e-15,-229 6,-223 12,-223 12,-223 104,-223 104,-223 110,-223 116,-229 116,-235 116,-235 116,-279 116,-279 116,-285 110,-291 104,-291\"/>\n",
       "<text text-anchor=\"start\" x=\"30\" y=\"-275.8\" font-family=\"Helvetica,sans-Serif\" font-size=\"14.00\">gini = 0.0</text>\n",
       "<text text-anchor=\"start\" x=\"17\" y=\"-260.8\" font-family=\"Helvetica,sans-Serif\" font-size=\"14.00\">samples = 65</text>\n",
       "<text text-anchor=\"start\" x=\"15\" y=\"-245.8\" font-family=\"Helvetica,sans-Serif\" font-size=\"14.00\">value = [0, 99]</text>\n",
       "<text text-anchor=\"start\" x=\"8\" y=\"-230.8\" font-family=\"Helvetica,sans-Serif\" font-size=\"14.00\">class = synthetic</text>\n",
       "</g>\n",
       "<!-- 2&#45;&gt;3 -->\n",
       "<g id=\"edge3\" class=\"edge\"><title>2&#45;&gt;3</title>\n",
       "<path fill=\"none\" stroke=\"black\" d=\"M146.26,-331.769C133.2,-320.854 118.938,-308.933 105.761,-297.92\"/>\n",
       "<polygon fill=\"black\" stroke=\"black\" points=\"107.635,-294.924 97.7171,-291.196 103.145,-300.295 107.635,-294.924\"/>\n",
       "</g>\n",
       "<!-- 4 -->\n",
       "<g id=\"node5\" class=\"node\"><title>4</title>\n",
       "<path fill=\"#49a5e7\" stroke=\"black\" d=\"M238,-296C238,-296 146,-296 146,-296 140,-296 134,-290 134,-284 134,-284 134,-230 134,-230 134,-224 140,-218 146,-218 146,-218 238,-218 238,-218 244,-218 250,-224 250,-230 250,-230 250,-284 250,-284 250,-290 244,-296 238,-296\"/>\n",
       "<text text-anchor=\"start\" x=\"155\" y=\"-281.8\" font-family=\"Helvetica,sans-Serif\" font-size=\"14.00\">X</text>\n",
       "<text text-anchor=\"start\" x=\"165\" y=\"-281.8\" font-family=\"Helvetica,sans-Serif\" baseline-shift=\"sub\" font-size=\"14.00\">75</text>\n",
       "<text text-anchor=\"start\" x=\"179\" y=\"-281.8\" font-family=\"Helvetica,sans-Serif\" font-size=\"14.00\"> ≤ 0.575</text>\n",
       "<text text-anchor=\"start\" x=\"160\" y=\"-267.8\" font-family=\"Helvetica,sans-Serif\" font-size=\"14.00\">gini = 0.14</text>\n",
       "<text text-anchor=\"start\" x=\"151\" y=\"-253.8\" font-family=\"Helvetica,sans-Serif\" font-size=\"14.00\">samples = 35</text>\n",
       "<text text-anchor=\"start\" x=\"149\" y=\"-239.8\" font-family=\"Helvetica,sans-Serif\" font-size=\"14.00\">value = [4, 49]</text>\n",
       "<text text-anchor=\"start\" x=\"142\" y=\"-225.8\" font-family=\"Helvetica,sans-Serif\" font-size=\"14.00\">class = synthetic</text>\n",
       "</g>\n",
       "<!-- 2&#45;&gt;4 -->\n",
       "<g id=\"edge4\" class=\"edge\"><title>2&#45;&gt;4</title>\n",
       "<path fill=\"none\" stroke=\"black\" d=\"M192,-331.769C192,-323.57 192,-314.803 192,-306.28\"/>\n",
       "<polygon fill=\"black\" stroke=\"black\" points=\"195.5,-306.058 192,-296.058 188.5,-306.059 195.5,-306.058\"/>\n",
       "</g>\n",
       "<!-- 5 -->\n",
       "<g id=\"node6\" class=\"node\"><title>5</title>\n",
       "<path fill=\"#399de5\" stroke=\"black\" d=\"M110,-177C110,-177 18,-177 18,-177 12,-177 6,-171 6,-165 6,-165 6,-121 6,-121 6,-115 12,-109 18,-109 18,-109 110,-109 110,-109 116,-109 122,-115 122,-121 122,-121 122,-165 122,-165 122,-171 116,-177 110,-177\"/>\n",
       "<text text-anchor=\"start\" x=\"36\" y=\"-161.8\" font-family=\"Helvetica,sans-Serif\" font-size=\"14.00\">gini = 0.0</text>\n",
       "<text text-anchor=\"start\" x=\"23\" y=\"-146.8\" font-family=\"Helvetica,sans-Serif\" font-size=\"14.00\">samples = 22</text>\n",
       "<text text-anchor=\"start\" x=\"21\" y=\"-131.8\" font-family=\"Helvetica,sans-Serif\" font-size=\"14.00\">value = [0, 33]</text>\n",
       "<text text-anchor=\"start\" x=\"14\" y=\"-116.8\" font-family=\"Helvetica,sans-Serif\" font-size=\"14.00\">class = synthetic</text>\n",
       "</g>\n",
       "<!-- 4&#45;&gt;5 -->\n",
       "<g id=\"edge5\" class=\"edge\"><title>4&#45;&gt;5</title>\n",
       "<path fill=\"none\" stroke=\"black\" d=\"M148.308,-217.769C135.833,-206.854 122.21,-194.933 109.622,-183.92\"/>\n",
       "<polygon fill=\"black\" stroke=\"black\" points=\"111.769,-181.147 101.939,-177.196 107.16,-186.415 111.769,-181.147\"/>\n",
       "</g>\n",
       "<!-- 6 -->\n",
       "<g id=\"node7\" class=\"node\"><title>6</title>\n",
       "<path fill=\"#6ab6ec\" stroke=\"black\" d=\"M244,-182C244,-182 152,-182 152,-182 146,-182 140,-176 140,-170 140,-170 140,-116 140,-116 140,-110 146,-104 152,-104 152,-104 244,-104 244,-104 250,-104 256,-110 256,-116 256,-116 256,-170 256,-170 256,-176 250,-182 244,-182\"/>\n",
       "<text text-anchor=\"start\" x=\"157.5\" y=\"-167.8\" font-family=\"Helvetica,sans-Serif\" font-size=\"14.00\">X</text>\n",
       "<text text-anchor=\"start\" x=\"167.5\" y=\"-167.8\" font-family=\"Helvetica,sans-Serif\" baseline-shift=\"sub\" font-size=\"14.00\">123</text>\n",
       "<text text-anchor=\"start\" x=\"188.5\" y=\"-167.8\" font-family=\"Helvetica,sans-Serif\" font-size=\"14.00\"> ≤ 0.254</text>\n",
       "<text text-anchor=\"start\" x=\"166\" y=\"-153.8\" font-family=\"Helvetica,sans-Serif\" font-size=\"14.00\">gini = 0.32</text>\n",
       "<text text-anchor=\"start\" x=\"157\" y=\"-139.8\" font-family=\"Helvetica,sans-Serif\" font-size=\"14.00\">samples = 13</text>\n",
       "<text text-anchor=\"start\" x=\"155\" y=\"-125.8\" font-family=\"Helvetica,sans-Serif\" font-size=\"14.00\">value = [4, 16]</text>\n",
       "<text text-anchor=\"start\" x=\"148\" y=\"-111.8\" font-family=\"Helvetica,sans-Serif\" font-size=\"14.00\">class = synthetic</text>\n",
       "</g>\n",
       "<!-- 4&#45;&gt;6 -->\n",
       "<g id=\"edge6\" class=\"edge\"><title>4&#45;&gt;6</title>\n",
       "<path fill=\"none\" stroke=\"black\" d=\"M194.048,-217.769C194.487,-209.57 194.957,-200.803 195.414,-192.28\"/>\n",
       "<polygon fill=\"black\" stroke=\"black\" points=\"198.921,-192.231 195.961,-182.058 191.931,-191.857 198.921,-192.231\"/>\n",
       "</g>\n",
       "<!-- 7 -->\n",
       "<g id=\"node8\" class=\"node\"><title>7</title>\n",
       "<path fill=\"#399de5\" stroke=\"black\" d=\"M132,-68C132,-68 40,-68 40,-68 34,-68 28,-62 28,-56 28,-56 28,-12 28,-12 28,-6 34,-0 40,-0 40,-0 132,-0 132,-0 138,-0 144,-6 144,-12 144,-12 144,-56 144,-56 144,-62 138,-68 132,-68\"/>\n",
       "<text text-anchor=\"start\" x=\"58\" y=\"-52.8\" font-family=\"Helvetica,sans-Serif\" font-size=\"14.00\">gini = 0.0</text>\n",
       "<text text-anchor=\"start\" x=\"48.5\" y=\"-37.8\" font-family=\"Helvetica,sans-Serif\" font-size=\"14.00\">samples = 9</text>\n",
       "<text text-anchor=\"start\" x=\"43\" y=\"-22.8\" font-family=\"Helvetica,sans-Serif\" font-size=\"14.00\">value = [0, 14]</text>\n",
       "<text text-anchor=\"start\" x=\"36\" y=\"-7.8\" font-family=\"Helvetica,sans-Serif\" font-size=\"14.00\">class = synthetic</text>\n",
       "</g>\n",
       "<!-- 6&#45;&gt;7 -->\n",
       "<g id=\"edge7\" class=\"edge\"><title>6&#45;&gt;7</title>\n",
       "<path fill=\"none\" stroke=\"black\" d=\"M158.198,-103.975C148.478,-94.6884 138.045,-84.7217 128.217,-75.332\"/>\n",
       "<polygon fill=\"black\" stroke=\"black\" points=\"130.489,-72.6621 120.84,-68.2849 125.653,-77.7235 130.489,-72.6621\"/>\n",
       "</g>\n",
       "<!-- 8 -->\n",
       "<g id=\"node9\" class=\"node\"><title>8</title>\n",
       "<path fill=\"#f2c09c\" stroke=\"black\" d=\"M245.5,-68C245.5,-68 174.5,-68 174.5,-68 168.5,-68 162.5,-62 162.5,-56 162.5,-56 162.5,-12 162.5,-12 162.5,-6 168.5,-0 174.5,-0 174.5,-0 245.5,-0 245.5,-0 251.5,-0 257.5,-6 257.5,-12 257.5,-12 257.5,-56 257.5,-56 257.5,-62 251.5,-68 245.5,-68\"/>\n",
       "<text text-anchor=\"start\" x=\"174.5\" y=\"-52.8\" font-family=\"Helvetica,sans-Serif\" font-size=\"14.00\">gini = 0.444</text>\n",
       "<text text-anchor=\"start\" x=\"172.5\" y=\"-37.8\" font-family=\"Helvetica,sans-Serif\" font-size=\"14.00\">samples = 4</text>\n",
       "<text text-anchor=\"start\" x=\"170.5\" y=\"-22.8\" font-family=\"Helvetica,sans-Serif\" font-size=\"14.00\">value = [4, 2]</text>\n",
       "<text text-anchor=\"start\" x=\"175\" y=\"-7.8\" font-family=\"Helvetica,sans-Serif\" font-size=\"14.00\">class = real</text>\n",
       "</g>\n",
       "<!-- 6&#45;&gt;8 -->\n",
       "<g id=\"edge8\" class=\"edge\"><title>6&#45;&gt;8</title>\n",
       "<path fill=\"none\" stroke=\"black\" d=\"M202.265,-103.975C203.194,-95.6898 204.184,-86.8634 205.134,-78.3884\"/>\n",
       "<polygon fill=\"black\" stroke=\"black\" points=\"208.631,-78.6128 206.267,-68.2849 201.674,-77.8325 208.631,-78.6128\"/>\n",
       "</g>\n",
       "<!-- 10 -->\n",
       "<g id=\"node11\" class=\"node\"><title>10</title>\n",
       "<path fill=\"#399de5\" stroke=\"black\" d=\"M372,-291C372,-291 280,-291 280,-291 274,-291 268,-285 268,-279 268,-279 268,-235 268,-235 268,-229 274,-223 280,-223 280,-223 372,-223 372,-223 378,-223 384,-229 384,-235 384,-235 384,-279 384,-279 384,-285 378,-291 372,-291\"/>\n",
       "<text text-anchor=\"start\" x=\"298\" y=\"-275.8\" font-family=\"Helvetica,sans-Serif\" font-size=\"14.00\">gini = 0.0</text>\n",
       "<text text-anchor=\"start\" x=\"288.5\" y=\"-260.8\" font-family=\"Helvetica,sans-Serif\" font-size=\"14.00\">samples = 1</text>\n",
       "<text text-anchor=\"start\" x=\"286.5\" y=\"-245.8\" font-family=\"Helvetica,sans-Serif\" font-size=\"14.00\">value = [0, 1]</text>\n",
       "<text text-anchor=\"start\" x=\"276\" y=\"-230.8\" font-family=\"Helvetica,sans-Serif\" font-size=\"14.00\">class = synthetic</text>\n",
       "</g>\n",
       "<!-- 9&#45;&gt;10 -->\n",
       "<g id=\"edge10\" class=\"edge\"><title>9&#45;&gt;10</title>\n",
       "<path fill=\"none\" stroke=\"black\" d=\"M364.202,-331.769C358.923,-321.575 353.189,-310.503 347.808,-300.113\"/>\n",
       "<polygon fill=\"black\" stroke=\"black\" points=\"350.898,-298.467 343.191,-291.196 344.682,-301.686 350.898,-298.467\"/>\n",
       "</g>\n",
       "<!-- 11 -->\n",
       "<g id=\"node12\" class=\"node\"><title>11</title>\n",
       "<path fill=\"#e58139\" stroke=\"black\" d=\"M485.5,-291C485.5,-291 414.5,-291 414.5,-291 408.5,-291 402.5,-285 402.5,-279 402.5,-279 402.5,-235 402.5,-235 402.5,-229 408.5,-223 414.5,-223 414.5,-223 485.5,-223 485.5,-223 491.5,-223 497.5,-229 497.5,-235 497.5,-235 497.5,-279 497.5,-279 497.5,-285 491.5,-291 485.5,-291\"/>\n",
       "<text text-anchor=\"start\" x=\"422\" y=\"-275.8\" font-family=\"Helvetica,sans-Serif\" font-size=\"14.00\">gini = 0.0</text>\n",
       "<text text-anchor=\"start\" x=\"412.5\" y=\"-260.8\" font-family=\"Helvetica,sans-Serif\" font-size=\"14.00\">samples = 2</text>\n",
       "<text text-anchor=\"start\" x=\"410.5\" y=\"-245.8\" font-family=\"Helvetica,sans-Serif\" font-size=\"14.00\">value = [2, 0]</text>\n",
       "<text text-anchor=\"start\" x=\"415\" y=\"-230.8\" font-family=\"Helvetica,sans-Serif\" font-size=\"14.00\">class = real</text>\n",
       "</g>\n",
       "<!-- 9&#45;&gt;11 -->\n",
       "<g id=\"edge11\" class=\"edge\"><title>9&#45;&gt;11</title>\n",
       "<path fill=\"none\" stroke=\"black\" d=\"M406.529,-331.769C412.536,-321.575 419.061,-310.503 425.183,-300.113\"/>\n",
       "<polygon fill=\"black\" stroke=\"black\" points=\"428.376,-301.589 430.438,-291.196 422.345,-298.035 428.376,-301.589\"/>\n",
       "</g>\n",
       "<!-- 13 -->\n",
       "<g id=\"node14\" class=\"node\"><title>13</title>\n",
       "<path fill=\"#47a4e7\" stroke=\"black\" d=\"M627,-410C627,-410 535,-410 535,-410 529,-410 523,-404 523,-398 523,-398 523,-344 523,-344 523,-338 529,-332 535,-332 535,-332 627,-332 627,-332 633,-332 639,-338 639,-344 639,-344 639,-398 639,-398 639,-404 633,-410 627,-410\"/>\n",
       "<text text-anchor=\"start\" x=\"540.5\" y=\"-395.8\" font-family=\"Helvetica,sans-Serif\" font-size=\"14.00\">X</text>\n",
       "<text text-anchor=\"start\" x=\"550.5\" y=\"-395.8\" font-family=\"Helvetica,sans-Serif\" baseline-shift=\"sub\" font-size=\"14.00\">152</text>\n",
       "<text text-anchor=\"start\" x=\"571.5\" y=\"-395.8\" font-family=\"Helvetica,sans-Serif\" font-size=\"14.00\"> ≤ 0.526</text>\n",
       "<text text-anchor=\"start\" x=\"545.5\" y=\"-381.8\" font-family=\"Helvetica,sans-Serif\" font-size=\"14.00\">gini = 0.125</text>\n",
       "<text text-anchor=\"start\" x=\"540\" y=\"-367.8\" font-family=\"Helvetica,sans-Serif\" font-size=\"14.00\">samples = 72</text>\n",
       "<text text-anchor=\"start\" x=\"534\" y=\"-353.8\" font-family=\"Helvetica,sans-Serif\" font-size=\"14.00\">value = [8, 111]</text>\n",
       "<text text-anchor=\"start\" x=\"531\" y=\"-339.8\" font-family=\"Helvetica,sans-Serif\" font-size=\"14.00\">class = synthetic</text>\n",
       "</g>\n",
       "<!-- 12&#45;&gt;13 -->\n",
       "<g id=\"edge13\" class=\"edge\"><title>12&#45;&gt;13</title>\n",
       "<path fill=\"none\" stroke=\"black\" d=\"M581,-445.769C581,-437.57 581,-428.803 581,-420.28\"/>\n",
       "<polygon fill=\"black\" stroke=\"black\" points=\"584.5,-420.058 581,-410.058 577.5,-420.059 584.5,-420.058\"/>\n",
       "</g>\n",
       "<!-- 24 -->\n",
       "<g id=\"node25\" class=\"node\"><title>24</title>\n",
       "<path fill=\"#eeac7d\" stroke=\"black\" d=\"M1082.5,-410C1082.5,-410 981.5,-410 981.5,-410 975.5,-410 969.5,-404 969.5,-398 969.5,-398 969.5,-344 969.5,-344 969.5,-338 975.5,-332 981.5,-332 981.5,-332 1082.5,-332 1082.5,-332 1088.5,-332 1094.5,-338 1094.5,-344 1094.5,-344 1094.5,-398 1094.5,-398 1094.5,-404 1088.5,-410 1082.5,-410\"/>\n",
       "<text text-anchor=\"start\" x=\"991.5\" y=\"-395.8\" font-family=\"Helvetica,sans-Serif\" font-size=\"14.00\">X</text>\n",
       "<text text-anchor=\"start\" x=\"1001.5\" y=\"-395.8\" font-family=\"Helvetica,sans-Serif\" baseline-shift=\"sub\" font-size=\"14.00\">196</text>\n",
       "<text text-anchor=\"start\" x=\"1022.5\" y=\"-395.8\" font-family=\"Helvetica,sans-Serif\" font-size=\"14.00\"> ≤ 0.182</text>\n",
       "<text text-anchor=\"start\" x=\"996.5\" y=\"-381.8\" font-family=\"Helvetica,sans-Serif\" font-size=\"14.00\">gini = 0.381</text>\n",
       "<text text-anchor=\"start\" x=\"987\" y=\"-367.8\" font-family=\"Helvetica,sans-Serif\" font-size=\"14.00\">samples = 310</text>\n",
       "<text text-anchor=\"start\" x=\"977.5\" y=\"-353.8\" font-family=\"Helvetica,sans-Serif\" font-size=\"14.00\">value = [366, 126]</text>\n",
       "<text text-anchor=\"start\" x=\"997\" y=\"-339.8\" font-family=\"Helvetica,sans-Serif\" font-size=\"14.00\">class = real</text>\n",
       "</g>\n",
       "<!-- 12&#45;&gt;24 -->\n",
       "<g id=\"edge24\" class=\"edge\"><title>12&#45;&gt;24</title>\n",
       "<path fill=\"none\" stroke=\"black\" d=\"M643.71,-468.427C726.56,-447.852 872.188,-411.687 959.618,-389.975\"/>\n",
       "<polygon fill=\"black\" stroke=\"black\" points=\"960.599,-393.338 969.461,-387.531 958.912,-386.544 960.599,-393.338\"/>\n",
       "</g>\n",
       "<!-- 14 -->\n",
       "<g id=\"node15\" class=\"node\"><title>14</title>\n",
       "<path fill=\"#8ec7f0\" stroke=\"black\" d=\"M620,-296C620,-296 528,-296 528,-296 522,-296 516,-290 516,-284 516,-284 516,-230 516,-230 516,-224 522,-218 528,-218 528,-218 620,-218 620,-218 626,-218 632,-224 632,-230 632,-230 632,-284 632,-284 632,-290 626,-296 620,-296\"/>\n",
       "<text text-anchor=\"start\" x=\"537\" y=\"-281.8\" font-family=\"Helvetica,sans-Serif\" font-size=\"14.00\">X</text>\n",
       "<text text-anchor=\"start\" x=\"547\" y=\"-281.8\" font-family=\"Helvetica,sans-Serif\" baseline-shift=\"sub\" font-size=\"14.00\">234</text>\n",
       "<text text-anchor=\"start\" x=\"568\" y=\"-281.8\" font-family=\"Helvetica,sans-Serif\" font-size=\"14.00\"> ≤ 0.58</text>\n",
       "<text text-anchor=\"start\" x=\"542\" y=\"-267.8\" font-family=\"Helvetica,sans-Serif\" font-size=\"14.00\">gini = 0.42</text>\n",
       "<text text-anchor=\"start\" x=\"533\" y=\"-253.8\" font-family=\"Helvetica,sans-Serif\" font-size=\"14.00\">samples = 13</text>\n",
       "<text text-anchor=\"start\" x=\"531\" y=\"-239.8\" font-family=\"Helvetica,sans-Serif\" font-size=\"14.00\">value = [6, 14]</text>\n",
       "<text text-anchor=\"start\" x=\"524\" y=\"-225.8\" font-family=\"Helvetica,sans-Serif\" font-size=\"14.00\">class = synthetic</text>\n",
       "</g>\n",
       "<!-- 13&#45;&gt;14 -->\n",
       "<g id=\"edge14\" class=\"edge\"><title>13&#45;&gt;14</title>\n",
       "<path fill=\"none\" stroke=\"black\" d=\"M578.611,-331.769C578.098,-323.57 577.55,-314.803 577.017,-306.28\"/>\n",
       "<polygon fill=\"black\" stroke=\"black\" points=\"580.496,-305.821 576.379,-296.058 573.509,-306.257 580.496,-305.821\"/>\n",
       "</g>\n",
       "<!-- 19 -->\n",
       "<g id=\"node20\" class=\"node\"><title>19</title>\n",
       "<path fill=\"#3d9fe6\" stroke=\"black\" d=\"M754,-296C754,-296 662,-296 662,-296 656,-296 650,-290 650,-284 650,-284 650,-230 650,-230 650,-224 656,-218 662,-218 662,-218 754,-218 754,-218 760,-218 766,-224 766,-230 766,-230 766,-284 766,-284 766,-290 760,-296 754,-296\"/>\n",
       "<text text-anchor=\"start\" x=\"667.5\" y=\"-281.8\" font-family=\"Helvetica,sans-Serif\" font-size=\"14.00\">X</text>\n",
       "<text text-anchor=\"start\" x=\"677.5\" y=\"-281.8\" font-family=\"Helvetica,sans-Serif\" baseline-shift=\"sub\" font-size=\"14.00\">290</text>\n",
       "<text text-anchor=\"start\" x=\"698.5\" y=\"-281.8\" font-family=\"Helvetica,sans-Serif\" font-size=\"14.00\"> ≤ 0.345</text>\n",
       "<text text-anchor=\"start\" x=\"676\" y=\"-267.8\" font-family=\"Helvetica,sans-Serif\" font-size=\"14.00\">gini = 0.04</text>\n",
       "<text text-anchor=\"start\" x=\"667\" y=\"-253.8\" font-family=\"Helvetica,sans-Serif\" font-size=\"14.00\">samples = 59</text>\n",
       "<text text-anchor=\"start\" x=\"665\" y=\"-239.8\" font-family=\"Helvetica,sans-Serif\" font-size=\"14.00\">value = [2, 97]</text>\n",
       "<text text-anchor=\"start\" x=\"658\" y=\"-225.8\" font-family=\"Helvetica,sans-Serif\" font-size=\"14.00\">class = synthetic</text>\n",
       "</g>\n",
       "<!-- 13&#45;&gt;19 -->\n",
       "<g id=\"edge19\" class=\"edge\"><title>13&#45;&gt;19</title>\n",
       "<path fill=\"none\" stroke=\"black\" d=\"M624.351,-331.769C634.875,-322.488 646.222,-312.481 657.061,-302.923\"/>\n",
       "<polygon fill=\"black\" stroke=\"black\" points=\"659.659,-305.298 664.844,-296.058 655.029,-300.048 659.659,-305.298\"/>\n",
       "</g>\n",
       "<!-- 15 -->\n",
       "<g id=\"node16\" class=\"node\"><title>15</title>\n",
       "<path fill=\"#47a4e7\" stroke=\"black\" d=\"M496,-182C496,-182 404,-182 404,-182 398,-182 392,-176 392,-170 392,-170 392,-116 392,-116 392,-110 398,-104 404,-104 404,-104 496,-104 496,-104 502,-104 508,-110 508,-116 508,-116 508,-170 508,-170 508,-176 502,-182 496,-182\"/>\n",
       "<text text-anchor=\"start\" x=\"409.5\" y=\"-167.8\" font-family=\"Helvetica,sans-Serif\" font-size=\"14.00\">X</text>\n",
       "<text text-anchor=\"start\" x=\"419.5\" y=\"-167.8\" font-family=\"Helvetica,sans-Serif\" baseline-shift=\"sub\" font-size=\"14.00\">249</text>\n",
       "<text text-anchor=\"start\" x=\"440.5\" y=\"-167.8\" font-family=\"Helvetica,sans-Serif\" font-size=\"14.00\"> ≤ 0.133</text>\n",
       "<text text-anchor=\"start\" x=\"414.5\" y=\"-153.8\" font-family=\"Helvetica,sans-Serif\" font-size=\"14.00\">gini = 0.124</text>\n",
       "<text text-anchor=\"start\" x=\"409\" y=\"-139.8\" font-family=\"Helvetica,sans-Serif\" font-size=\"14.00\">samples = 10</text>\n",
       "<text text-anchor=\"start\" x=\"407\" y=\"-125.8\" font-family=\"Helvetica,sans-Serif\" font-size=\"14.00\">value = [1, 14]</text>\n",
       "<text text-anchor=\"start\" x=\"400\" y=\"-111.8\" font-family=\"Helvetica,sans-Serif\" font-size=\"14.00\">class = synthetic</text>\n",
       "</g>\n",
       "<!-- 14&#45;&gt;15 -->\n",
       "<g id=\"edge15\" class=\"edge\"><title>14&#45;&gt;15</title>\n",
       "<path fill=\"none\" stroke=\"black\" d=\"M531.673,-217.769C521.398,-208.488 510.319,-198.481 499.736,-188.923\"/>\n",
       "<polygon fill=\"black\" stroke=\"black\" points=\"501.903,-186.164 492.136,-182.058 497.211,-191.359 501.903,-186.164\"/>\n",
       "</g>\n",
       "<!-- 18 -->\n",
       "<g id=\"node19\" class=\"node\"><title>18</title>\n",
       "<path fill=\"#e58139\" stroke=\"black\" d=\"M609.5,-177C609.5,-177 538.5,-177 538.5,-177 532.5,-177 526.5,-171 526.5,-165 526.5,-165 526.5,-121 526.5,-121 526.5,-115 532.5,-109 538.5,-109 538.5,-109 609.5,-109 609.5,-109 615.5,-109 621.5,-115 621.5,-121 621.5,-121 621.5,-165 621.5,-165 621.5,-171 615.5,-177 609.5,-177\"/>\n",
       "<text text-anchor=\"start\" x=\"546\" y=\"-161.8\" font-family=\"Helvetica,sans-Serif\" font-size=\"14.00\">gini = 0.0</text>\n",
       "<text text-anchor=\"start\" x=\"536.5\" y=\"-146.8\" font-family=\"Helvetica,sans-Serif\" font-size=\"14.00\">samples = 3</text>\n",
       "<text text-anchor=\"start\" x=\"534.5\" y=\"-131.8\" font-family=\"Helvetica,sans-Serif\" font-size=\"14.00\">value = [5, 0]</text>\n",
       "<text text-anchor=\"start\" x=\"539\" y=\"-116.8\" font-family=\"Helvetica,sans-Serif\" font-size=\"14.00\">class = real</text>\n",
       "</g>\n",
       "<!-- 14&#45;&gt;18 -->\n",
       "<g id=\"edge18\" class=\"edge\"><title>14&#45;&gt;18</title>\n",
       "<path fill=\"none\" stroke=\"black\" d=\"M574,-217.769C574,-207.986 574,-197.397 574,-187.376\"/>\n",
       "<polygon fill=\"black\" stroke=\"black\" points=\"577.5,-187.196 574,-177.196 570.5,-187.196 577.5,-187.196\"/>\n",
       "</g>\n",
       "<!-- 16 -->\n",
       "<g id=\"node17\" class=\"node\"><title>16</title>\n",
       "<path fill=\"#399de5\" stroke=\"black\" d=\"M387,-68C387,-68 295,-68 295,-68 289,-68 283,-62 283,-56 283,-56 283,-12 283,-12 283,-6 289,-0 295,-0 295,-0 387,-0 387,-0 393,-0 399,-6 399,-12 399,-12 399,-56 399,-56 399,-62 393,-68 387,-68\"/>\n",
       "<text text-anchor=\"start\" x=\"313\" y=\"-52.8\" font-family=\"Helvetica,sans-Serif\" font-size=\"14.00\">gini = 0.0</text>\n",
       "<text text-anchor=\"start\" x=\"303.5\" y=\"-37.8\" font-family=\"Helvetica,sans-Serif\" font-size=\"14.00\">samples = 9</text>\n",
       "<text text-anchor=\"start\" x=\"298\" y=\"-22.8\" font-family=\"Helvetica,sans-Serif\" font-size=\"14.00\">value = [0, 14]</text>\n",
       "<text text-anchor=\"start\" x=\"291\" y=\"-7.8\" font-family=\"Helvetica,sans-Serif\" font-size=\"14.00\">class = synthetic</text>\n",
       "</g>\n",
       "<!-- 15&#45;&gt;16 -->\n",
       "<g id=\"edge16\" class=\"edge\"><title>15&#45;&gt;16</title>\n",
       "<path fill=\"none\" stroke=\"black\" d=\"M411.264,-103.975C401.804,-94.6884 391.651,-84.7217 382.086,-75.332\"/>\n",
       "<polygon fill=\"black\" stroke=\"black\" points=\"384.495,-72.7926 374.907,-68.2849 379.591,-77.788 384.495,-72.7926\"/>\n",
       "</g>\n",
       "<!-- 17 -->\n",
       "<g id=\"node18\" class=\"node\"><title>17</title>\n",
       "<path fill=\"#e58139\" stroke=\"black\" d=\"M500.5,-68C500.5,-68 429.5,-68 429.5,-68 423.5,-68 417.5,-62 417.5,-56 417.5,-56 417.5,-12 417.5,-12 417.5,-6 423.5,-0 429.5,-0 429.5,-0 500.5,-0 500.5,-0 506.5,-0 512.5,-6 512.5,-12 512.5,-12 512.5,-56 512.5,-56 512.5,-62 506.5,-68 500.5,-68\"/>\n",
       "<text text-anchor=\"start\" x=\"437\" y=\"-52.8\" font-family=\"Helvetica,sans-Serif\" font-size=\"14.00\">gini = 0.0</text>\n",
       "<text text-anchor=\"start\" x=\"427.5\" y=\"-37.8\" font-family=\"Helvetica,sans-Serif\" font-size=\"14.00\">samples = 1</text>\n",
       "<text text-anchor=\"start\" x=\"425.5\" y=\"-22.8\" font-family=\"Helvetica,sans-Serif\" font-size=\"14.00\">value = [1, 0]</text>\n",
       "<text text-anchor=\"start\" x=\"430\" y=\"-7.8\" font-family=\"Helvetica,sans-Serif\" font-size=\"14.00\">class = real</text>\n",
       "</g>\n",
       "<!-- 15&#45;&gt;17 -->\n",
       "<g id=\"edge17\" class=\"edge\"><title>15&#45;&gt;17</title>\n",
       "<path fill=\"none\" stroke=\"black\" d=\"M455.331,-103.975C456.492,-95.6898 457.729,-86.8634 458.918,-78.3884\"/>\n",
       "<polygon fill=\"black\" stroke=\"black\" points=\"462.412,-78.674 460.334,-68.2849 455.479,-77.7022 462.412,-78.674\"/>\n",
       "</g>\n",
       "<!-- 20 -->\n",
       "<g id=\"node21\" class=\"node\"><title>20</title>\n",
       "<path fill=\"#4aa6e7\" stroke=\"black\" d=\"M744,-182C744,-182 652,-182 652,-182 646,-182 640,-176 640,-170 640,-170 640,-116 640,-116 640,-110 646,-104 652,-104 652,-104 744,-104 744,-104 750,-104 756,-110 756,-116 756,-116 756,-170 756,-170 756,-176 750,-182 744,-182\"/>\n",
       "<text text-anchor=\"start\" x=\"657.5\" y=\"-167.8\" font-family=\"Helvetica,sans-Serif\" font-size=\"14.00\">X</text>\n",
       "<text text-anchor=\"start\" x=\"667.5\" y=\"-167.8\" font-family=\"Helvetica,sans-Serif\" baseline-shift=\"sub\" font-size=\"14.00\">242</text>\n",
       "<text text-anchor=\"start\" x=\"688.5\" y=\"-167.8\" font-family=\"Helvetica,sans-Serif\" font-size=\"14.00\"> ≤ 0.095</text>\n",
       "<text text-anchor=\"start\" x=\"662.5\" y=\"-153.8\" font-family=\"Helvetica,sans-Serif\" font-size=\"14.00\">gini = 0.147</text>\n",
       "<text text-anchor=\"start\" x=\"657\" y=\"-139.8\" font-family=\"Helvetica,sans-Serif\" font-size=\"14.00\">samples = 14</text>\n",
       "<text text-anchor=\"start\" x=\"655\" y=\"-125.8\" font-family=\"Helvetica,sans-Serif\" font-size=\"14.00\">value = [2, 23]</text>\n",
       "<text text-anchor=\"start\" x=\"648\" y=\"-111.8\" font-family=\"Helvetica,sans-Serif\" font-size=\"14.00\">class = synthetic</text>\n",
       "</g>\n",
       "<!-- 19&#45;&gt;20 -->\n",
       "<g id=\"edge20\" class=\"edge\"><title>19&#45;&gt;20</title>\n",
       "<path fill=\"none\" stroke=\"black\" d=\"M704.587,-217.769C703.854,-209.57 703.072,-200.803 702.311,-192.28\"/>\n",
       "<polygon fill=\"black\" stroke=\"black\" points=\"705.774,-191.708 701.398,-182.058 698.801,-192.33 705.774,-191.708\"/>\n",
       "</g>\n",
       "<!-- 23 -->\n",
       "<g id=\"node24\" class=\"node\"><title>23</title>\n",
       "<path fill=\"#399de5\" stroke=\"black\" d=\"M878,-177C878,-177 786,-177 786,-177 780,-177 774,-171 774,-165 774,-165 774,-121 774,-121 774,-115 780,-109 786,-109 786,-109 878,-109 878,-109 884,-109 890,-115 890,-121 890,-121 890,-165 890,-165 890,-171 884,-177 878,-177\"/>\n",
       "<text text-anchor=\"start\" x=\"804\" y=\"-161.8\" font-family=\"Helvetica,sans-Serif\" font-size=\"14.00\">gini = 0.0</text>\n",
       "<text text-anchor=\"start\" x=\"791\" y=\"-146.8\" font-family=\"Helvetica,sans-Serif\" font-size=\"14.00\">samples = 45</text>\n",
       "<text text-anchor=\"start\" x=\"789\" y=\"-131.8\" font-family=\"Helvetica,sans-Serif\" font-size=\"14.00\">value = [0, 74]</text>\n",
       "<text text-anchor=\"start\" x=\"782\" y=\"-116.8\" font-family=\"Helvetica,sans-Serif\" font-size=\"14.00\">class = synthetic</text>\n",
       "</g>\n",
       "<!-- 19&#45;&gt;23 -->\n",
       "<g id=\"edge23\" class=\"edge\"><title>19&#45;&gt;23</title>\n",
       "<path fill=\"none\" stroke=\"black\" d=\"M750.327,-217.769C762.412,-206.854 775.61,-194.933 787.803,-183.92\"/>\n",
       "<polygon fill=\"black\" stroke=\"black\" points=\"790.172,-186.497 795.247,-177.196 785.48,-181.302 790.172,-186.497\"/>\n",
       "</g>\n",
       "<!-- 21 -->\n",
       "<g id=\"node22\" class=\"node\"><title>21</title>\n",
       "<path fill=\"#42a1e6\" stroke=\"black\" d=\"M643,-68C643,-68 551,-68 551,-68 545,-68 539,-62 539,-56 539,-56 539,-12 539,-12 539,-6 545,-0 551,-0 551,-0 643,-0 643,-0 649,-0 655,-6 655,-12 655,-12 655,-56 655,-56 655,-62 649,-68 643,-68\"/>\n",
       "<text text-anchor=\"start\" x=\"565\" y=\"-52.8\" font-family=\"Helvetica,sans-Serif\" font-size=\"14.00\">gini = 0.08</text>\n",
       "<text text-anchor=\"start\" x=\"556\" y=\"-37.8\" font-family=\"Helvetica,sans-Serif\" font-size=\"14.00\">samples = 13</text>\n",
       "<text text-anchor=\"start\" x=\"554\" y=\"-22.8\" font-family=\"Helvetica,sans-Serif\" font-size=\"14.00\">value = [1, 23]</text>\n",
       "<text text-anchor=\"start\" x=\"547\" y=\"-7.8\" font-family=\"Helvetica,sans-Serif\" font-size=\"14.00\">class = synthetic</text>\n",
       "</g>\n",
       "<!-- 20&#45;&gt;21 -->\n",
       "<g id=\"edge21\" class=\"edge\"><title>20&#45;&gt;21</title>\n",
       "<path fill=\"none\" stroke=\"black\" d=\"M662.107,-103.975C653.427,-94.7794 644.118,-84.917 635.331,-75.6083\"/>\n",
       "<polygon fill=\"black\" stroke=\"black\" points=\"637.828,-73.1545 628.418,-68.2849 632.738,-77.9595 637.828,-73.1545\"/>\n",
       "</g>\n",
       "<!-- 22 -->\n",
       "<g id=\"node23\" class=\"node\"><title>22</title>\n",
       "<path fill=\"#e58139\" stroke=\"black\" d=\"M756.5,-68C756.5,-68 685.5,-68 685.5,-68 679.5,-68 673.5,-62 673.5,-56 673.5,-56 673.5,-12 673.5,-12 673.5,-6 679.5,-0 685.5,-0 685.5,-0 756.5,-0 756.5,-0 762.5,-0 768.5,-6 768.5,-12 768.5,-12 768.5,-56 768.5,-56 768.5,-62 762.5,-68 756.5,-68\"/>\n",
       "<text text-anchor=\"start\" x=\"693\" y=\"-52.8\" font-family=\"Helvetica,sans-Serif\" font-size=\"14.00\">gini = 0.0</text>\n",
       "<text text-anchor=\"start\" x=\"683.5\" y=\"-37.8\" font-family=\"Helvetica,sans-Serif\" font-size=\"14.00\">samples = 1</text>\n",
       "<text text-anchor=\"start\" x=\"681.5\" y=\"-22.8\" font-family=\"Helvetica,sans-Serif\" font-size=\"14.00\">value = [1, 0]</text>\n",
       "<text text-anchor=\"start\" x=\"686\" y=\"-7.8\" font-family=\"Helvetica,sans-Serif\" font-size=\"14.00\">class = real</text>\n",
       "</g>\n",
       "<!-- 20&#45;&gt;22 -->\n",
       "<g id=\"edge22\" class=\"edge\"><title>20&#45;&gt;22</title>\n",
       "<path fill=\"none\" stroke=\"black\" d=\"M706.174,-103.975C707.974,-95.5988 709.893,-86.6694 711.734,-78.1091\"/>\n",
       "<polygon fill=\"black\" stroke=\"black\" points=\"715.166,-78.7972 713.845,-68.2849 708.322,-77.3261 715.166,-78.7972\"/>\n",
       "</g>\n",
       "<!-- 25 -->\n",
       "<g id=\"node26\" class=\"node\"><title>25</title>\n",
       "<path fill=\"#45a3e7\" stroke=\"black\" d=\"M1078,-296C1078,-296 986,-296 986,-296 980,-296 974,-290 974,-284 974,-284 974,-230 974,-230 974,-224 980,-218 986,-218 986,-218 1078,-218 1078,-218 1084,-218 1090,-224 1090,-230 1090,-230 1090,-284 1090,-284 1090,-290 1084,-296 1078,-296\"/>\n",
       "<text text-anchor=\"start\" x=\"991.5\" y=\"-281.8\" font-family=\"Helvetica,sans-Serif\" font-size=\"14.00\">X</text>\n",
       "<text text-anchor=\"start\" x=\"1001.5\" y=\"-281.8\" font-family=\"Helvetica,sans-Serif\" baseline-shift=\"sub\" font-size=\"14.00\">212</text>\n",
       "<text text-anchor=\"start\" x=\"1022.5\" y=\"-281.8\" font-family=\"Helvetica,sans-Serif\" font-size=\"14.00\"> ≤ 0.209</text>\n",
       "<text text-anchor=\"start\" x=\"996.5\" y=\"-267.8\" font-family=\"Helvetica,sans-Serif\" font-size=\"14.00\">gini = 0.108</text>\n",
       "<text text-anchor=\"start\" x=\"991\" y=\"-253.8\" font-family=\"Helvetica,sans-Serif\" font-size=\"14.00\">samples = 45</text>\n",
       "<text text-anchor=\"start\" x=\"989\" y=\"-239.8\" font-family=\"Helvetica,sans-Serif\" font-size=\"14.00\">value = [4, 66]</text>\n",
       "<text text-anchor=\"start\" x=\"982\" y=\"-225.8\" font-family=\"Helvetica,sans-Serif\" font-size=\"14.00\">class = synthetic</text>\n",
       "</g>\n",
       "<!-- 24&#45;&gt;25 -->\n",
       "<g id=\"edge25\" class=\"edge\"><title>24&#45;&gt;25</title>\n",
       "<path fill=\"none\" stroke=\"black\" d=\"M1032,-331.769C1032,-323.57 1032,-314.803 1032,-306.28\"/>\n",
       "<polygon fill=\"black\" stroke=\"black\" points=\"1035.5,-306.058 1032,-296.058 1028.5,-306.059 1035.5,-306.058\"/>\n",
       "</g>\n",
       "<!-- 30 -->\n",
       "<g id=\"node31\" class=\"node\"><title>30</title>\n",
       "<path fill=\"#e9965a\" stroke=\"black\" d=\"M1280.5,-296C1280.5,-296 1187.5,-296 1187.5,-296 1181.5,-296 1175.5,-290 1175.5,-284 1175.5,-284 1175.5,-230 1175.5,-230 1175.5,-224 1181.5,-218 1187.5,-218 1187.5,-218 1280.5,-218 1280.5,-218 1286.5,-218 1292.5,-224 1292.5,-230 1292.5,-230 1292.5,-284 1292.5,-284 1292.5,-290 1286.5,-296 1280.5,-296\"/>\n",
       "<text text-anchor=\"start\" x=\"1193.5\" y=\"-281.8\" font-family=\"Helvetica,sans-Serif\" font-size=\"14.00\">X</text>\n",
       "<text text-anchor=\"start\" x=\"1203.5\" y=\"-281.8\" font-family=\"Helvetica,sans-Serif\" baseline-shift=\"sub\" font-size=\"14.00\">149</text>\n",
       "<text text-anchor=\"start\" x=\"1224.5\" y=\"-281.8\" font-family=\"Helvetica,sans-Serif\" font-size=\"14.00\"> ≤ 0.353</text>\n",
       "<text text-anchor=\"start\" x=\"1198.5\" y=\"-267.8\" font-family=\"Helvetica,sans-Serif\" font-size=\"14.00\">gini = 0.244</text>\n",
       "<text text-anchor=\"start\" x=\"1189\" y=\"-253.8\" font-family=\"Helvetica,sans-Serif\" font-size=\"14.00\">samples = 265</text>\n",
       "<text text-anchor=\"start\" x=\"1183.5\" y=\"-239.8\" font-family=\"Helvetica,sans-Serif\" font-size=\"14.00\">value = [362, 60]</text>\n",
       "<text text-anchor=\"start\" x=\"1199\" y=\"-225.8\" font-family=\"Helvetica,sans-Serif\" font-size=\"14.00\">class = real</text>\n",
       "</g>\n",
       "<!-- 24&#45;&gt;30 -->\n",
       "<g id=\"edge30\" class=\"edge\"><title>24&#45;&gt;30</title>\n",
       "<path fill=\"none\" stroke=\"black\" d=\"M1094.53,-335.33C1117.34,-322.683 1143.23,-308.33 1166.45,-295.452\"/>\n",
       "<polygon fill=\"black\" stroke=\"black\" points=\"1168.16,-298.506 1175.21,-290.595 1164.77,-292.384 1168.16,-298.506\"/>\n",
       "</g>\n",
       "<!-- 26 -->\n",
       "<g id=\"node27\" class=\"node\"><title>26</title>\n",
       "<path fill=\"#7bbeee\" stroke=\"black\" d=\"M1012,-182C1012,-182 920,-182 920,-182 914,-182 908,-176 908,-170 908,-170 908,-116 908,-116 908,-110 914,-104 920,-104 920,-104 1012,-104 1012,-104 1018,-104 1024,-110 1024,-116 1024,-116 1024,-170 1024,-170 1024,-176 1018,-182 1012,-182\"/>\n",
       "<text text-anchor=\"start\" x=\"925.5\" y=\"-167.8\" font-family=\"Helvetica,sans-Serif\" font-size=\"14.00\">X</text>\n",
       "<text text-anchor=\"start\" x=\"935.5\" y=\"-167.8\" font-family=\"Helvetica,sans-Serif\" baseline-shift=\"sub\" font-size=\"14.00\">242</text>\n",
       "<text text-anchor=\"start\" x=\"956.5\" y=\"-167.8\" font-family=\"Helvetica,sans-Serif\" font-size=\"14.00\"> ≤ 0.045</text>\n",
       "<text text-anchor=\"start\" x=\"930.5\" y=\"-153.8\" font-family=\"Helvetica,sans-Serif\" font-size=\"14.00\">gini = 0.375</text>\n",
       "<text text-anchor=\"start\" x=\"925\" y=\"-139.8\" font-family=\"Helvetica,sans-Serif\" font-size=\"14.00\">samples = 12</text>\n",
       "<text text-anchor=\"start\" x=\"923\" y=\"-125.8\" font-family=\"Helvetica,sans-Serif\" font-size=\"14.00\">value = [4, 12]</text>\n",
       "<text text-anchor=\"start\" x=\"916\" y=\"-111.8\" font-family=\"Helvetica,sans-Serif\" font-size=\"14.00\">class = synthetic</text>\n",
       "</g>\n",
       "<!-- 25&#45;&gt;26 -->\n",
       "<g id=\"edge26\" class=\"edge\"><title>25&#45;&gt;26</title>\n",
       "<path fill=\"none\" stroke=\"black\" d=\"M1009.47,-217.769C1004.37,-209.119 998.905,-199.838 993.624,-190.877\"/>\n",
       "<polygon fill=\"black\" stroke=\"black\" points=\"996.52,-188.897 988.427,-182.058 990.489,-192.451 996.52,-188.897\"/>\n",
       "</g>\n",
       "<!-- 29 -->\n",
       "<g id=\"node30\" class=\"node\"><title>29</title>\n",
       "<path fill=\"#399de5\" stroke=\"black\" d=\"M1146,-177C1146,-177 1054,-177 1054,-177 1048,-177 1042,-171 1042,-165 1042,-165 1042,-121 1042,-121 1042,-115 1048,-109 1054,-109 1054,-109 1146,-109 1146,-109 1152,-109 1158,-115 1158,-121 1158,-121 1158,-165 1158,-165 1158,-171 1152,-177 1146,-177\"/>\n",
       "<text text-anchor=\"start\" x=\"1072\" y=\"-161.8\" font-family=\"Helvetica,sans-Serif\" font-size=\"14.00\">gini = 0.0</text>\n",
       "<text text-anchor=\"start\" x=\"1059\" y=\"-146.8\" font-family=\"Helvetica,sans-Serif\" font-size=\"14.00\">samples = 33</text>\n",
       "<text text-anchor=\"start\" x=\"1057\" y=\"-131.8\" font-family=\"Helvetica,sans-Serif\" font-size=\"14.00\">value = [0, 54]</text>\n",
       "<text text-anchor=\"start\" x=\"1050\" y=\"-116.8\" font-family=\"Helvetica,sans-Serif\" font-size=\"14.00\">class = synthetic</text>\n",
       "</g>\n",
       "<!-- 25&#45;&gt;29 -->\n",
       "<g id=\"edge29\" class=\"edge\"><title>25&#45;&gt;29</title>\n",
       "<path fill=\"none\" stroke=\"black\" d=\"M1055.21,-217.769C1061.46,-207.472 1068.26,-196.28 1074.62,-185.798\"/>\n",
       "<polygon fill=\"black\" stroke=\"black\" points=\"1077.65,-187.561 1079.85,-177.196 1071.66,-183.928 1077.65,-187.561\"/>\n",
       "</g>\n",
       "<!-- 27 -->\n",
       "<g id=\"node28\" class=\"node\"><title>27</title>\n",
       "<path fill=\"#e58139\" stroke=\"black\" d=\"M939.5,-68C939.5,-68 868.5,-68 868.5,-68 862.5,-68 856.5,-62 856.5,-56 856.5,-56 856.5,-12 856.5,-12 856.5,-6 862.5,-0 868.5,-0 868.5,-0 939.5,-0 939.5,-0 945.5,-0 951.5,-6 951.5,-12 951.5,-12 951.5,-56 951.5,-56 951.5,-62 945.5,-68 939.5,-68\"/>\n",
       "<text text-anchor=\"start\" x=\"876\" y=\"-52.8\" font-family=\"Helvetica,sans-Serif\" font-size=\"14.00\">gini = 0.0</text>\n",
       "<text text-anchor=\"start\" x=\"866.5\" y=\"-37.8\" font-family=\"Helvetica,sans-Serif\" font-size=\"14.00\">samples = 2</text>\n",
       "<text text-anchor=\"start\" x=\"864.5\" y=\"-22.8\" font-family=\"Helvetica,sans-Serif\" font-size=\"14.00\">value = [3, 0]</text>\n",
       "<text text-anchor=\"start\" x=\"869\" y=\"-7.8\" font-family=\"Helvetica,sans-Serif\" font-size=\"14.00\">class = real</text>\n",
       "</g>\n",
       "<!-- 26&#45;&gt;27 -->\n",
       "<g id=\"edge27\" class=\"edge\"><title>26&#45;&gt;27</title>\n",
       "<path fill=\"none\" stroke=\"black\" d=\"M943.967,-103.975C938.902,-95.2346 933.489,-85.8919 928.333,-76.9947\"/>\n",
       "<polygon fill=\"black\" stroke=\"black\" points=\"931.329,-75.1826 923.287,-68.2849 925.272,-78.6921 931.329,-75.1826\"/>\n",
       "</g>\n",
       "<!-- 28 -->\n",
       "<g id=\"node29\" class=\"node\"><title>28</title>\n",
       "<path fill=\"#49a5e7\" stroke=\"black\" d=\"M1074,-68C1074,-68 982,-68 982,-68 976,-68 970,-62 970,-56 970,-56 970,-12 970,-12 970,-6 976,-0 982,-0 982,-0 1074,-0 1074,-0 1080,-0 1086,-6 1086,-12 1086,-12 1086,-56 1086,-56 1086,-62 1080,-68 1074,-68\"/>\n",
       "<text text-anchor=\"start\" x=\"992.5\" y=\"-52.8\" font-family=\"Helvetica,sans-Serif\" font-size=\"14.00\">gini = 0.142</text>\n",
       "<text text-anchor=\"start\" x=\"987\" y=\"-37.8\" font-family=\"Helvetica,sans-Serif\" font-size=\"14.00\">samples = 10</text>\n",
       "<text text-anchor=\"start\" x=\"985\" y=\"-22.8\" font-family=\"Helvetica,sans-Serif\" font-size=\"14.00\">value = [1, 12]</text>\n",
       "<text text-anchor=\"start\" x=\"978\" y=\"-7.8\" font-family=\"Helvetica,sans-Serif\" font-size=\"14.00\">class = synthetic</text>\n",
       "</g>\n",
       "<!-- 26&#45;&gt;28 -->\n",
       "<g id=\"edge28\" class=\"edge\"><title>26&#45;&gt;28</title>\n",
       "<path fill=\"none\" stroke=\"black\" d=\"M988.033,-103.975C993.098,-95.2346 998.511,-85.8919 1003.67,-76.9947\"/>\n",
       "<polygon fill=\"black\" stroke=\"black\" points=\"1006.73,-78.6921 1008.71,-68.2849 1000.67,-75.1826 1006.73,-78.6921\"/>\n",
       "</g>\n",
       "<!-- 31 -->\n",
       "<g id=\"node32\" class=\"node\"><title>31</title>\n",
       "<path fill=\"#399de5\" stroke=\"black\" d=\"M1280,-177C1280,-177 1188,-177 1188,-177 1182,-177 1176,-171 1176,-165 1176,-165 1176,-121 1176,-121 1176,-115 1182,-109 1188,-109 1188,-109 1280,-109 1280,-109 1286,-109 1292,-115 1292,-121 1292,-121 1292,-165 1292,-165 1292,-171 1286,-177 1280,-177\"/>\n",
       "<text text-anchor=\"start\" x=\"1206\" y=\"-161.8\" font-family=\"Helvetica,sans-Serif\" font-size=\"14.00\">gini = 0.0</text>\n",
       "<text text-anchor=\"start\" x=\"1193\" y=\"-146.8\" font-family=\"Helvetica,sans-Serif\" font-size=\"14.00\">samples = 12</text>\n",
       "<text text-anchor=\"start\" x=\"1191\" y=\"-131.8\" font-family=\"Helvetica,sans-Serif\" font-size=\"14.00\">value = [0, 19]</text>\n",
       "<text text-anchor=\"start\" x=\"1184\" y=\"-116.8\" font-family=\"Helvetica,sans-Serif\" font-size=\"14.00\">class = synthetic</text>\n",
       "</g>\n",
       "<!-- 30&#45;&gt;31 -->\n",
       "<g id=\"edge31\" class=\"edge\"><title>30&#45;&gt;31</title>\n",
       "<path fill=\"none\" stroke=\"black\" d=\"M1234,-217.769C1234,-207.986 1234,-197.397 1234,-187.376\"/>\n",
       "<polygon fill=\"black\" stroke=\"black\" points=\"1237.5,-187.196 1234,-177.196 1230.5,-187.196 1237.5,-187.196\"/>\n",
       "</g>\n",
       "<!-- 32 -->\n",
       "<g id=\"node33\" class=\"node\"><title>32</title>\n",
       "<path fill=\"#e88f4f\" stroke=\"black\" d=\"M1415.5,-182C1415.5,-182 1322.5,-182 1322.5,-182 1316.5,-182 1310.5,-176 1310.5,-170 1310.5,-170 1310.5,-116 1310.5,-116 1310.5,-110 1316.5,-104 1322.5,-104 1322.5,-104 1415.5,-104 1415.5,-104 1421.5,-104 1427.5,-110 1427.5,-116 1427.5,-116 1427.5,-170 1427.5,-170 1427.5,-176 1421.5,-182 1415.5,-182\"/>\n",
       "<text text-anchor=\"start\" x=\"1332\" y=\"-167.8\" font-family=\"Helvetica,sans-Serif\" font-size=\"14.00\">X</text>\n",
       "<text text-anchor=\"start\" x=\"1342\" y=\"-167.8\" font-family=\"Helvetica,sans-Serif\" baseline-shift=\"sub\" font-size=\"14.00\">63</text>\n",
       "<text text-anchor=\"start\" x=\"1356\" y=\"-167.8\" font-family=\"Helvetica,sans-Serif\" font-size=\"14.00\"> ≤ 0.688</text>\n",
       "<text text-anchor=\"start\" x=\"1333.5\" y=\"-153.8\" font-family=\"Helvetica,sans-Serif\" font-size=\"14.00\">gini = 0.183</text>\n",
       "<text text-anchor=\"start\" x=\"1324\" y=\"-139.8\" font-family=\"Helvetica,sans-Serif\" font-size=\"14.00\">samples = 253</text>\n",
       "<text text-anchor=\"start\" x=\"1318.5\" y=\"-125.8\" font-family=\"Helvetica,sans-Serif\" font-size=\"14.00\">value = [362, 41]</text>\n",
       "<text text-anchor=\"start\" x=\"1334\" y=\"-111.8\" font-family=\"Helvetica,sans-Serif\" font-size=\"14.00\">class = real</text>\n",
       "</g>\n",
       "<!-- 30&#45;&gt;32 -->\n",
       "<g id=\"edge32\" class=\"edge\"><title>30&#45;&gt;32</title>\n",
       "<path fill=\"none\" stroke=\"black\" d=\"M1280.08,-217.769C1291.38,-208.398 1303.56,-198.287 1315.19,-188.644\"/>\n",
       "<polygon fill=\"black\" stroke=\"black\" points=\"1317.66,-191.137 1323.13,-182.058 1313.19,-185.75 1317.66,-191.137\"/>\n",
       "</g>\n",
       "<!-- 33 -->\n",
       "<g id=\"node34\" class=\"node\"><title>33</title>\n",
       "<path fill=\"#e78b48\" stroke=\"black\" d=\"M1347.5,-68C1347.5,-68 1254.5,-68 1254.5,-68 1248.5,-68 1242.5,-62 1242.5,-56 1242.5,-56 1242.5,-12 1242.5,-12 1242.5,-6 1248.5,-0 1254.5,-0 1254.5,-0 1347.5,-0 1347.5,-0 1353.5,-0 1359.5,-6 1359.5,-12 1359.5,-12 1359.5,-56 1359.5,-56 1359.5,-62 1353.5,-68 1347.5,-68\"/>\n",
       "<text text-anchor=\"start\" x=\"1265.5\" y=\"-52.8\" font-family=\"Helvetica,sans-Serif\" font-size=\"14.00\">gini = 0.133</text>\n",
       "<text text-anchor=\"start\" x=\"1256\" y=\"-37.8\" font-family=\"Helvetica,sans-Serif\" font-size=\"14.00\">samples = 243</text>\n",
       "<text text-anchor=\"start\" x=\"1250.5\" y=\"-22.8\" font-family=\"Helvetica,sans-Serif\" font-size=\"14.00\">value = [362, 28]</text>\n",
       "<text text-anchor=\"start\" x=\"1266\" y=\"-7.8\" font-family=\"Helvetica,sans-Serif\" font-size=\"14.00\">class = real</text>\n",
       "</g>\n",
       "<!-- 32&#45;&gt;33 -->\n",
       "<g id=\"edge33\" class=\"edge\"><title>32&#45;&gt;33</title>\n",
       "<path fill=\"none\" stroke=\"black\" d=\"M1344.83,-103.975C1339.28,-95.2346 1333.34,-85.8919 1327.69,-76.9947\"/>\n",
       "<polygon fill=\"black\" stroke=\"black\" points=\"1330.47,-74.8475 1322.15,-68.2849 1324.56,-78.6021 1330.47,-74.8475\"/>\n",
       "</g>\n",
       "<!-- 34 -->\n",
       "<g id=\"node35\" class=\"node\"><title>34</title>\n",
       "<path fill=\"#399de5\" stroke=\"black\" d=\"M1482,-68C1482,-68 1390,-68 1390,-68 1384,-68 1378,-62 1378,-56 1378,-56 1378,-12 1378,-12 1378,-6 1384,-0 1390,-0 1390,-0 1482,-0 1482,-0 1488,-0 1494,-6 1494,-12 1494,-12 1494,-56 1494,-56 1494,-62 1488,-68 1482,-68\"/>\n",
       "<text text-anchor=\"start\" x=\"1408\" y=\"-52.8\" font-family=\"Helvetica,sans-Serif\" font-size=\"14.00\">gini = 0.0</text>\n",
       "<text text-anchor=\"start\" x=\"1395\" y=\"-37.8\" font-family=\"Helvetica,sans-Serif\" font-size=\"14.00\">samples = 10</text>\n",
       "<text text-anchor=\"start\" x=\"1393\" y=\"-22.8\" font-family=\"Helvetica,sans-Serif\" font-size=\"14.00\">value = [0, 13]</text>\n",
       "<text text-anchor=\"start\" x=\"1386\" y=\"-7.8\" font-family=\"Helvetica,sans-Serif\" font-size=\"14.00\">class = synthetic</text>\n",
       "</g>\n",
       "<!-- 32&#45;&gt;34 -->\n",
       "<g id=\"edge34\" class=\"edge\"><title>32&#45;&gt;34</title>\n",
       "<path fill=\"none\" stroke=\"black\" d=\"M1392.81,-103.975C1398.28,-95.2346 1404.13,-85.8919 1409.7,-76.9947\"/>\n",
       "<polygon fill=\"black\" stroke=\"black\" points=\"1412.82,-78.618 1415.16,-68.2849 1406.88,-74.903 1412.82,-78.618\"/>\n",
       "</g>\n",
       "</g>\n",
       "</svg>\n"
      ],
      "text/plain": [
       "<graphviz.files.Source at 0x7fa46ac3c668>"
      ]
     },
     "execution_count": 54,
     "metadata": {},
     "output_type": "execute_result"
    }
   ],
   "source": [
    "import graphviz\n",
    "dot_data = export_graphviz(dtree, out_file=None ,\n",
    "                                \n",
    "         \n",
    "                     filled=True, rounded=True,  \n",
    "                      special_characters=True,\n",
    "                          class_names=[\"real\",\"synthetic\"])\n",
    "graph = graphviz.Source(dot_data) \n",
    "graph"
   ]
  },
  {
   "cell_type": "code",
   "execution_count": 55,
   "metadata": {},
   "outputs": [
    {
     "data": {
      "image/png": "[encoded data removed]",
      "text/plain": [
       "<Figure size 864x576 with 1 Axes>"
      ]
     },
     "metadata": {
      "needs_background": "light"
     },
     "output_type": "display_data"
    }
   ],
   "source": [
    "plt.figure(figsize=(12,8))\n",
    "plot_tree(dtree,filled=True)\n",
    "plt.show()"
   ]
  },
  {
   "cell_type": "code",
   "execution_count": null,
   "metadata": {},
   "outputs": [],
   "source": []
  }
 ],
 "metadata": {
  "kernelspec": {
   "display_name": "Python 3",
   "language": "python",
   "name": "python3"
  },
  "language_info": {
   "codemirror_mode": {
    "name": "ipython",
    "version": 3
   },
   "file_extension": ".py",
   "mimetype": "text/x-python",
   "name": "python",
   "nbconvert_exporter": "python",
   "pygments_lexer": "ipython3",
   "version": "3.5.2"
  }
 },
 "nbformat": 4,
 "nbformat_minor": 4
}
