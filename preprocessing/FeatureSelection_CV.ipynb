{
 "cells": [
  {
   "cell_type": "code",
   "execution_count": 1,
   "metadata": {},
   "outputs": [],
   "source": [
    "import os\n",
    "import pandas as pd\n",
    "import numpy as np\n",
    "import matplotlib.pyplot as plt\n",
    "from sklearn.metrics import mean_squared_error as mse\n",
    "from sklearn.feature_selection import RFECV\n",
    "from sklearn.model_selection import PredefinedSplit\n",
    "from sklearn.model_selection import RandomizedSearchCV\n",
    "from scipy.stats import uniform\n",
    "from sklearn.linear_model import Ridge\n",
    "from sklearn.feature_selection import SelectFromModel\n",
    "from sklearn.linear_model import LassoCV\n",
    "from sklearn.linear_model import Lasso\n",
    "from xgboost import XGBRegressor\n",
    "from sklearn.metrics import r2_score\n",
    "\n",
    "random_state=42\n",
    "random_seed = 42\n",
    "\n",
    "save_path = 'save_path'\n",
    "os.chdir(save_path)\n",
    "\n",
    "X_train_omics_labelled = pd.read_csv(\"X_train_omics_labelled.csv\",index_col=0)\n",
    "X_test_omics= pd.read_csv(\"X_test_omics.csv\",index_col=0)\n",
    "\n",
    "train_set_labelled_y= pd.read_csv(\"train_set_labelled_y.csv\",index_col=0)\n",
    "test_set_labelled_y= pd.read_csv(\"test_set_labelled_y.csv\",index_col=0)\n",
    "\n",
    "X_valid_omics= pd.read_csv(\"X_valid_omics.csv\",index_col=0)\n",
    "valid_set_labelled_y= pd.read_csv(\"valid_set_labelled_y.csv\",index_col=0)\n",
    "\n",
    "save_path2 = '/local/scratch/rp542/data/processed_csv/cv_data'\n",
    "os.chdir(save_path2)\n",
    "\n",
    "tv_cv_y = pd.read_csv(\"tv_cv_y.csv\",index_col=0)\n",
    "X_tv_cv = pd.read_csv(\"X_tv_cv.csv\",index_col=0)\n",
    "\n",
    "cv_indices = pd.read_csv(\"cv_indices.csv\",index_col=0)"
   ]
  },
  {
   "cell_type": "markdown",
   "metadata": {},
   "source": [
    "# Recursive Feature Elimination # "
   ]
  },
  {
   "cell_type": "markdown",
   "metadata": {},
   "source": [
    "Need to have a CV strategy for this algorithm. We already have defined the train/val split so just use a predifined splitting CV."
   ]
  },
  {
   "cell_type": "code",
   "execution_count": 148,
   "metadata": {},
   "outputs": [],
   "source": [
    "tv_cv_y = tv_cv_y.to_numpy().reshape(-1)"
   ]
  },
  {
   "cell_type": "code",
   "execution_count": 149,
   "metadata": {},
   "outputs": [
    {
     "data": {
      "text/html": [
       "<div>\n",
       "<style scoped>\n",
       "    .dataframe tbody tr th:only-of-type {\n",
       "        vertical-align: middle;\n",
       "    }\n",
       "\n",
       "    .dataframe tbody tr th {\n",
       "        vertical-align: top;\n",
       "    }\n",
       "\n",
       "    .dataframe thead th {\n",
       "        text-align: right;\n",
       "    }\n",
       "</style>\n",
       "<table border=\"1\" class=\"dataframe\">\n",
       "  <thead>\n",
       "    <tr style=\"text-align: right;\">\n",
       "      <th></th>\n",
       "      <th>Fold</th>\n",
       "      <th>number_of_elements</th>\n",
       "    </tr>\n",
       "  </thead>\n",
       "  <tbody>\n",
       "    <tr>\n",
       "      <th>0</th>\n",
       "      <td>1</td>\n",
       "      <td>70</td>\n",
       "    </tr>\n",
       "    <tr>\n",
       "      <th>1</th>\n",
       "      <td>2</td>\n",
       "      <td>87</td>\n",
       "    </tr>\n",
       "    <tr>\n",
       "      <th>2</th>\n",
       "      <td>3</td>\n",
       "      <td>93</td>\n",
       "    </tr>\n",
       "    <tr>\n",
       "      <th>3</th>\n",
       "      <td>4</td>\n",
       "      <td>111</td>\n",
       "    </tr>\n",
       "    <tr>\n",
       "      <th>4</th>\n",
       "      <td>5</td>\n",
       "      <td>110</td>\n",
       "    </tr>\n",
       "  </tbody>\n",
       "</table>\n",
       "</div>"
      ],
      "text/plain": [
       "   Fold  number_of_elements\n",
       "0     1                  70\n",
       "1     2                  87\n",
       "2     3                  93\n",
       "3     4                 111\n",
       "4     5                 110"
      ]
     },
     "execution_count": 149,
     "metadata": {},
     "output_type": "execute_result"
    }
   ],
   "source": [
    "cv_indices"
   ]
  },
  {
   "cell_type": "markdown",
   "metadata": {},
   "source": [
    "Now to define the test_fold, we need to make an array where we set the indicies of the 1st fold to 0, 2nd to 1 etc."
   ]
  },
  {
   "cell_type": "code",
   "execution_count": 150,
   "metadata": {},
   "outputs": [],
   "source": [
    "array = np.zeros((70,1))\n",
    "array2 = np.ones((87,1))\n",
    "array3 = 2*np.ones((93,1))\n",
    "array4 = 3*np.ones((111,1))\n",
    "array5 = 4*np.ones((110,1))\n",
    "test_fold = np.concatenate((array,array2,array3,array4,array5))\n",
    "ps = PredefinedSplit(test_fold)"
   ]
  },
  {
   "cell_type": "markdown",
   "metadata": {},
   "source": [
    "## with Ridge Linear Regression ## "
   ]
  },
  {
   "cell_type": "code",
   "execution_count": 155,
   "metadata": {},
   "outputs": [],
   "source": [
    "parameter_grid = {\n",
    "    \"alpha\":uniform(290,200)\n",
    "}"
   ]
  },
  {
   "cell_type": "code",
   "execution_count": 156,
   "metadata": {},
   "outputs": [
    {
     "name": "stdout",
     "output_type": "stream",
     "text": [
      "Fitting 5 folds for each of 10 candidates, totalling 50 fits\n"
     ]
    },
    {
     "name": "stderr",
     "output_type": "stream",
     "text": [
      "[Parallel(n_jobs=1)]: Using backend SequentialBackend with 1 concurrent workers.\n",
      "[Parallel(n_jobs=1)]: Done  50 out of  50 | elapsed:    8.8s finished\n"
     ]
    }
   ],
   "source": [
    "rnd_search = Ridge(solver=\"cholesky\")\n",
    "random_search_ridge = RandomizedSearchCV(rnd_search, parameter_grid, cv=ps, random_state=random_seed, verbose=1)\n",
    "random_search_ridge.fit(X_tv_cv,tv_cv_y)\n",
    "result = pd.concat([pd.DataFrame(random_search_ridge.cv_results_[\"params\"]),pd.DataFrame(random_search_ridge.cv_results_[\"mean_test_score\"], columns=[\"Score\"])],axis=1)\n",
    "result.sort_values(by=\"Score\", ascending=False, inplace=True)"
   ]
  },
  {
   "cell_type": "code",
   "execution_count": 157,
   "metadata": {},
   "outputs": [
    {
     "data": {
      "text/html": [
       "<div>\n",
       "<style scoped>\n",
       "    .dataframe tbody tr th:only-of-type {\n",
       "        vertical-align: middle;\n",
       "    }\n",
       "\n",
       "    .dataframe tbody tr th {\n",
       "        vertical-align: top;\n",
       "    }\n",
       "\n",
       "    .dataframe thead th {\n",
       "        text-align: right;\n",
       "    }\n",
       "</style>\n",
       "<table border=\"1\" class=\"dataframe\">\n",
       "  <thead>\n",
       "    <tr style=\"text-align: right;\">\n",
       "      <th></th>\n",
       "      <th>alpha</th>\n",
       "      <th>Score</th>\n",
       "    </tr>\n",
       "  </thead>\n",
       "  <tbody>\n",
       "    <tr>\n",
       "      <th>3</th>\n",
       "      <td>409.731697</td>\n",
       "      <td>0.276148</td>\n",
       "    </tr>\n",
       "    <tr>\n",
       "      <th>8</th>\n",
       "      <td>410.223002</td>\n",
       "      <td>0.276147</td>\n",
       "    </tr>\n",
       "    <tr>\n",
       "      <th>0</th>\n",
       "      <td>364.908024</td>\n",
       "      <td>0.276127</td>\n",
       "    </tr>\n",
       "    <tr>\n",
       "      <th>9</th>\n",
       "      <td>431.614516</td>\n",
       "      <td>0.276096</td>\n",
       "    </tr>\n",
       "    <tr>\n",
       "      <th>2</th>\n",
       "      <td>436.398788</td>\n",
       "      <td>0.276080</td>\n",
       "    </tr>\n",
       "    <tr>\n",
       "      <th>7</th>\n",
       "      <td>463.235229</td>\n",
       "      <td>0.275965</td>\n",
       "    </tr>\n",
       "    <tr>\n",
       "      <th>4</th>\n",
       "      <td>321.203728</td>\n",
       "      <td>0.275886</td>\n",
       "    </tr>\n",
       "    <tr>\n",
       "      <th>5</th>\n",
       "      <td>321.198904</td>\n",
       "      <td>0.275886</td>\n",
       "    </tr>\n",
       "    <tr>\n",
       "      <th>1</th>\n",
       "      <td>480.142861</td>\n",
       "      <td>0.275872</td>\n",
       "    </tr>\n",
       "    <tr>\n",
       "      <th>6</th>\n",
       "      <td>301.616722</td>\n",
       "      <td>0.275684</td>\n",
       "    </tr>\n",
       "  </tbody>\n",
       "</table>\n",
       "</div>"
      ],
      "text/plain": [
       "        alpha     Score\n",
       "3  409.731697  0.276148\n",
       "8  410.223002  0.276147\n",
       "0  364.908024  0.276127\n",
       "9  431.614516  0.276096\n",
       "2  436.398788  0.276080\n",
       "7  463.235229  0.275965\n",
       "4  321.203728  0.275886\n",
       "5  321.198904  0.275886\n",
       "1  480.142861  0.275872\n",
       "6  301.616722  0.275684"
      ]
     },
     "execution_count": 157,
     "metadata": {},
     "output_type": "execute_result"
    }
   ],
   "source": [
    "result"
   ]
  },
  {
   "cell_type": "code",
   "execution_count": 158,
   "metadata": {},
   "outputs": [],
   "source": [
    "ridge_reg = Ridge(alpha=409, solver=\"cholesky\",random_state=42)\n",
    "\n",
    "rfecv = RFECV(estimator=ridge_reg, cv=ps,step=500,scoring=\"neg_mean_squared_error\",verbose=2,n_jobs=1)"
   ]
  },
  {
   "cell_type": "code",
   "execution_count": 159,
   "metadata": {},
   "outputs": [
    {
     "name": "stdout",
     "output_type": "stream",
     "text": [
      "Fitting estimator with 16590 features.\n",
      "Fitting estimator with 16090 features.\n",
      "Fitting estimator with 15590 features.\n",
      "Fitting estimator with 15090 features.\n",
      "Fitting estimator with 14590 features.\n",
      "Fitting estimator with 14090 features.\n",
      "Fitting estimator with 13590 features.\n",
      "Fitting estimator with 13090 features.\n",
      "Fitting estimator with 12590 features.\n",
      "Fitting estimator with 12090 features.\n",
      "Fitting estimator with 11590 features.\n",
      "Fitting estimator with 11090 features.\n",
      "Fitting estimator with 10590 features.\n",
      "Fitting estimator with 10090 features.\n",
      "Fitting estimator with 9590 features.\n",
      "Fitting estimator with 9090 features.\n",
      "Fitting estimator with 8590 features.\n",
      "Fitting estimator with 8090 features.\n",
      "Fitting estimator with 7590 features.\n",
      "Fitting estimator with 7090 features.\n",
      "Fitting estimator with 6590 features.\n",
      "Fitting estimator with 6090 features.\n",
      "Fitting estimator with 5590 features.\n",
      "Fitting estimator with 5090 features.\n",
      "Fitting estimator with 4590 features.\n",
      "Fitting estimator with 4090 features.\n",
      "Fitting estimator with 3590 features.\n",
      "Fitting estimator with 3090 features.\n",
      "Fitting estimator with 2590 features.\n",
      "Fitting estimator with 2090 features.\n",
      "Fitting estimator with 1590 features.\n",
      "Fitting estimator with 1090 features.\n",
      "Fitting estimator with 590 features.\n",
      "Fitting estimator with 90 features.\n",
      "Fitting estimator with 16590 features.\n",
      "Fitting estimator with 16090 features.\n",
      "Fitting estimator with 15590 features.\n",
      "Fitting estimator with 15090 features.\n",
      "Fitting estimator with 14590 features.\n",
      "Fitting estimator with 14090 features.\n",
      "Fitting estimator with 13590 features.\n",
      "Fitting estimator with 13090 features.\n",
      "Fitting estimator with 12590 features.\n",
      "Fitting estimator with 12090 features.\n",
      "Fitting estimator with 11590 features.\n",
      "Fitting estimator with 11090 features.\n",
      "Fitting estimator with 10590 features.\n",
      "Fitting estimator with 10090 features.\n",
      "Fitting estimator with 9590 features.\n",
      "Fitting estimator with 9090 features.\n",
      "Fitting estimator with 8590 features.\n",
      "Fitting estimator with 8090 features.\n",
      "Fitting estimator with 7590 features.\n",
      "Fitting estimator with 7090 features.\n",
      "Fitting estimator with 6590 features.\n",
      "Fitting estimator with 6090 features.\n",
      "Fitting estimator with 5590 features.\n",
      "Fitting estimator with 5090 features.\n",
      "Fitting estimator with 4590 features.\n",
      "Fitting estimator with 4090 features.\n",
      "Fitting estimator with 3590 features.\n",
      "Fitting estimator with 3090 features.\n",
      "Fitting estimator with 2590 features.\n",
      "Fitting estimator with 2090 features.\n",
      "Fitting estimator with 1590 features.\n",
      "Fitting estimator with 1090 features.\n",
      "Fitting estimator with 590 features.\n",
      "Fitting estimator with 90 features.\n",
      "Fitting estimator with 16590 features.\n",
      "Fitting estimator with 16090 features.\n",
      "Fitting estimator with 15590 features.\n",
      "Fitting estimator with 15090 features.\n",
      "Fitting estimator with 14590 features.\n",
      "Fitting estimator with 14090 features.\n",
      "Fitting estimator with 13590 features.\n",
      "Fitting estimator with 13090 features.\n",
      "Fitting estimator with 12590 features.\n",
      "Fitting estimator with 12090 features.\n",
      "Fitting estimator with 11590 features.\n",
      "Fitting estimator with 11090 features.\n",
      "Fitting estimator with 10590 features.\n",
      "Fitting estimator with 10090 features.\n",
      "Fitting estimator with 9590 features.\n",
      "Fitting estimator with 9090 features.\n",
      "Fitting estimator with 8590 features.\n",
      "Fitting estimator with 8090 features.\n",
      "Fitting estimator with 7590 features.\n",
      "Fitting estimator with 7090 features.\n",
      "Fitting estimator with 6590 features.\n",
      "Fitting estimator with 6090 features.\n",
      "Fitting estimator with 5590 features.\n",
      "Fitting estimator with 5090 features.\n",
      "Fitting estimator with 4590 features.\n",
      "Fitting estimator with 4090 features.\n",
      "Fitting estimator with 3590 features.\n",
      "Fitting estimator with 3090 features.\n",
      "Fitting estimator with 2590 features.\n",
      "Fitting estimator with 2090 features.\n",
      "Fitting estimator with 1590 features.\n",
      "Fitting estimator with 1090 features.\n",
      "Fitting estimator with 590 features.\n",
      "Fitting estimator with 90 features.\n",
      "Fitting estimator with 16590 features.\n",
      "Fitting estimator with 16090 features.\n",
      "Fitting estimator with 15590 features.\n",
      "Fitting estimator with 15090 features.\n",
      "Fitting estimator with 14590 features.\n",
      "Fitting estimator with 14090 features.\n",
      "Fitting estimator with 13590 features.\n",
      "Fitting estimator with 13090 features.\n",
      "Fitting estimator with 12590 features.\n",
      "Fitting estimator with 12090 features.\n",
      "Fitting estimator with 11590 features.\n",
      "Fitting estimator with 11090 features.\n",
      "Fitting estimator with 10590 features.\n",
      "Fitting estimator with 10090 features.\n",
      "Fitting estimator with 9590 features.\n",
      "Fitting estimator with 9090 features.\n",
      "Fitting estimator with 8590 features.\n",
      "Fitting estimator with 8090 features.\n",
      "Fitting estimator with 7590 features.\n",
      "Fitting estimator with 7090 features.\n",
      "Fitting estimator with 6590 features.\n",
      "Fitting estimator with 6090 features.\n",
      "Fitting estimator with 5590 features.\n",
      "Fitting estimator with 5090 features.\n",
      "Fitting estimator with 4590 features.\n",
      "Fitting estimator with 4090 features.\n",
      "Fitting estimator with 3590 features.\n",
      "Fitting estimator with 3090 features.\n",
      "Fitting estimator with 2590 features.\n",
      "Fitting estimator with 2090 features.\n",
      "Fitting estimator with 1590 features.\n",
      "Fitting estimator with 1090 features.\n",
      "Fitting estimator with 590 features.\n",
      "Fitting estimator with 90 features.\n",
      "Fitting estimator with 16590 features.\n",
      "Fitting estimator with 16090 features.\n",
      "Fitting estimator with 15590 features.\n",
      "Fitting estimator with 15090 features.\n",
      "Fitting estimator with 14590 features.\n",
      "Fitting estimator with 14090 features.\n",
      "Fitting estimator with 13590 features.\n",
      "Fitting estimator with 13090 features.\n",
      "Fitting estimator with 12590 features.\n",
      "Fitting estimator with 12090 features.\n",
      "Fitting estimator with 11590 features.\n",
      "Fitting estimator with 11090 features.\n",
      "Fitting estimator with 10590 features.\n",
      "Fitting estimator with 10090 features.\n",
      "Fitting estimator with 9590 features.\n",
      "Fitting estimator with 9090 features.\n",
      "Fitting estimator with 8590 features.\n",
      "Fitting estimator with 8090 features.\n",
      "Fitting estimator with 7590 features.\n",
      "Fitting estimator with 7090 features.\n",
      "Fitting estimator with 6590 features.\n",
      "Fitting estimator with 6090 features.\n",
      "Fitting estimator with 5590 features.\n",
      "Fitting estimator with 5090 features.\n",
      "Fitting estimator with 4590 features.\n",
      "Fitting estimator with 4090 features.\n",
      "Fitting estimator with 3590 features.\n",
      "Fitting estimator with 3090 features.\n",
      "Fitting estimator with 2590 features.\n",
      "Fitting estimator with 2090 features.\n",
      "Fitting estimator with 1590 features.\n",
      "Fitting estimator with 1090 features.\n",
      "Fitting estimator with 590 features.\n",
      "Fitting estimator with 90 features.\n",
      "Fitting estimator with 16590 features.\n",
      "Fitting estimator with 16090 features.\n",
      "Fitting estimator with 15590 features.\n",
      "Fitting estimator with 15090 features.\n",
      "Fitting estimator with 14590 features.\n",
      "Fitting estimator with 14090 features.\n",
      "Fitting estimator with 13590 features.\n",
      "Fitting estimator with 13090 features.\n",
      "Fitting estimator with 12590 features.\n",
      "Fitting estimator with 12090 features.\n",
      "Fitting estimator with 11590 features.\n",
      "Fitting estimator with 11090 features.\n",
      "Fitting estimator with 10590 features.\n",
      "Fitting estimator with 10090 features.\n",
      "Fitting estimator with 9590 features.\n",
      "Fitting estimator with 9090 features.\n",
      "Fitting estimator with 8590 features.\n",
      "Fitting estimator with 8090 features.\n",
      "Fitting estimator with 7590 features.\n",
      "Fitting estimator with 7090 features.\n",
      "Fitting estimator with 6590 features.\n",
      "Fitting estimator with 6090 features.\n",
      "Fitting estimator with 5590 features.\n",
      "Fitting estimator with 5090 features.\n"
     ]
    },
    {
     "data": {
      "text/plain": [
       "RFECV(cv=PredefinedSplit(test_fold=array([0, 0, ..., 4, 4])),\n",
       "      estimator=Ridge(alpha=409, copy_X=True, fit_intercept=True, max_iter=None,\n",
       "                      normalize=False, random_state=42, solver='cholesky',\n",
       "                      tol=0.001),\n",
       "      min_features_to_select=1, n_jobs=1, scoring='neg_mean_squared_error',\n",
       "      step=500, verbose=2)"
      ]
     },
     "execution_count": 159,
     "metadata": {},
     "output_type": "execute_result"
    }
   ],
   "source": [
    "rfecv.fit(X_tv_cv,tv_cv_y)"
   ]
  },
  {
   "cell_type": "code",
   "execution_count": 160,
   "metadata": {
    "scrolled": true
   },
   "outputs": [
    {
     "data": {
      "image/png": "[encoded data removed]",
      "text/plain": [
       "<Figure size 432x288 with 1 Axes>"
      ]
     },
     "metadata": {
      "needs_background": "light"
     },
     "output_type": "display_data"
    }
   ],
   "source": [
    "# Plot the RMSE as a function of the number of features\n",
    "cv_grid_mse = (-rfecv.grid_scores_)\n",
    "\n",
    "plt.plot(cv_grid_mse)\n",
    "plt.title('MSE versus number of features (multiples of 500)')\n",
    "plt.show()"
   ]
  },
  {
   "cell_type": "code",
   "execution_count": 161,
   "metadata": {},
   "outputs": [
    {
     "data": {
      "text/plain": [
       "4590"
      ]
     },
     "execution_count": 161,
     "metadata": {},
     "output_type": "execute_result"
    }
   ],
   "source": [
    "rfecv.n_features_"
   ]
  },
  {
   "cell_type": "markdown",
   "metadata": {},
   "source": [
    "Let's select the most informative features according to RFECV. We re-run below but using a bigger step size for speed."
   ]
  },
  {
   "cell_type": "code",
   "execution_count": 162,
   "metadata": {},
   "outputs": [],
   "source": [
    "X_columns = X_tv_cv.columns"
   ]
  },
  {
   "cell_type": "code",
   "execution_count": 163,
   "metadata": {
    "scrolled": true
   },
   "outputs": [
    {
     "name": "stdout",
     "output_type": "stream",
     "text": [
      "Fitting estimator with 4590 features.\n",
      "Fitting estimator with 4490 features.\n",
      "Fitting estimator with 4390 features.\n",
      "Fitting estimator with 4290 features.\n",
      "Fitting estimator with 4190 features.\n",
      "Fitting estimator with 4090 features.\n",
      "Fitting estimator with 3990 features.\n",
      "Fitting estimator with 3890 features.\n",
      "Fitting estimator with 3790 features.\n",
      "Fitting estimator with 3690 features.\n",
      "Fitting estimator with 3590 features.\n",
      "Fitting estimator with 3490 features.\n",
      "Fitting estimator with 3390 features.\n",
      "Fitting estimator with 3290 features.\n",
      "Fitting estimator with 3190 features.\n",
      "Fitting estimator with 3090 features.\n",
      "Fitting estimator with 2990 features.\n",
      "Fitting estimator with 2890 features.\n",
      "Fitting estimator with 2790 features.\n",
      "Fitting estimator with 2690 features.\n",
      "Fitting estimator with 2590 features.\n",
      "Fitting estimator with 2490 features.\n",
      "Fitting estimator with 2390 features.\n",
      "Fitting estimator with 2290 features.\n",
      "Fitting estimator with 2190 features.\n",
      "Fitting estimator with 2090 features.\n",
      "Fitting estimator with 1990 features.\n",
      "Fitting estimator with 1890 features.\n",
      "Fitting estimator with 1790 features.\n",
      "Fitting estimator with 1690 features.\n",
      "Fitting estimator with 1590 features.\n",
      "Fitting estimator with 1490 features.\n",
      "Fitting estimator with 1390 features.\n",
      "Fitting estimator with 1290 features.\n",
      "Fitting estimator with 1190 features.\n",
      "Fitting estimator with 1090 features.\n",
      "Fitting estimator with 990 features.\n",
      "Fitting estimator with 890 features.\n",
      "Fitting estimator with 790 features.\n",
      "Fitting estimator with 690 features.\n",
      "Fitting estimator with 590 features.\n",
      "Fitting estimator with 490 features.\n",
      "Fitting estimator with 390 features.\n",
      "Fitting estimator with 290 features.\n",
      "Fitting estimator with 190 features.\n",
      "Fitting estimator with 90 features.\n",
      "Fitting estimator with 4590 features.\n",
      "Fitting estimator with 4490 features.\n",
      "Fitting estimator with 4390 features.\n",
      "Fitting estimator with 4290 features.\n",
      "Fitting estimator with 4190 features.\n",
      "Fitting estimator with 4090 features.\n",
      "Fitting estimator with 3990 features.\n",
      "Fitting estimator with 3890 features.\n",
      "Fitting estimator with 3790 features.\n",
      "Fitting estimator with 3690 features.\n",
      "Fitting estimator with 3590 features.\n",
      "Fitting estimator with 3490 features.\n",
      "Fitting estimator with 3390 features.\n",
      "Fitting estimator with 3290 features.\n",
      "Fitting estimator with 3190 features.\n",
      "Fitting estimator with 3090 features.\n",
      "Fitting estimator with 2990 features.\n",
      "Fitting estimator with 2890 features.\n",
      "Fitting estimator with 2790 features.\n",
      "Fitting estimator with 2690 features.\n",
      "Fitting estimator with 2590 features.\n",
      "Fitting estimator with 2490 features.\n",
      "Fitting estimator with 2390 features.\n",
      "Fitting estimator with 2290 features.\n",
      "Fitting estimator with 2190 features.\n",
      "Fitting estimator with 2090 features.\n",
      "Fitting estimator with 1990 features.\n",
      "Fitting estimator with 1890 features.\n",
      "Fitting estimator with 1790 features.\n",
      "Fitting estimator with 1690 features.\n",
      "Fitting estimator with 1590 features.\n",
      "Fitting estimator with 1490 features.\n",
      "Fitting estimator with 1390 features.\n",
      "Fitting estimator with 1290 features.\n",
      "Fitting estimator with 1190 features.\n",
      "Fitting estimator with 1090 features.\n",
      "Fitting estimator with 990 features.\n",
      "Fitting estimator with 890 features.\n",
      "Fitting estimator with 790 features.\n",
      "Fitting estimator with 690 features.\n",
      "Fitting estimator with 590 features.\n",
      "Fitting estimator with 490 features.\n",
      "Fitting estimator with 390 features.\n",
      "Fitting estimator with 290 features.\n",
      "Fitting estimator with 190 features.\n",
      "Fitting estimator with 90 features.\n",
      "Fitting estimator with 4590 features.\n",
      "Fitting estimator with 4490 features.\n",
      "Fitting estimator with 4390 features.\n",
      "Fitting estimator with 4290 features.\n",
      "Fitting estimator with 4190 features.\n",
      "Fitting estimator with 4090 features.\n",
      "Fitting estimator with 3990 features.\n",
      "Fitting estimator with 3890 features.\n",
      "Fitting estimator with 3790 features.\n",
      "Fitting estimator with 3690 features.\n",
      "Fitting estimator with 3590 features.\n",
      "Fitting estimator with 3490 features.\n",
      "Fitting estimator with 3390 features.\n",
      "Fitting estimator with 3290 features.\n",
      "Fitting estimator with 3190 features.\n",
      "Fitting estimator with 3090 features.\n",
      "Fitting estimator with 2990 features.\n",
      "Fitting estimator with 2890 features.\n",
      "Fitting estimator with 2790 features.\n",
      "Fitting estimator with 2690 features.\n",
      "Fitting estimator with 2590 features.\n",
      "Fitting estimator with 2490 features.\n",
      "Fitting estimator with 2390 features.\n",
      "Fitting estimator with 2290 features.\n",
      "Fitting estimator with 2190 features.\n",
      "Fitting estimator with 2090 features.\n",
      "Fitting estimator with 1990 features.\n",
      "Fitting estimator with 1890 features.\n",
      "Fitting estimator with 1790 features.\n",
      "Fitting estimator with 1690 features.\n",
      "Fitting estimator with 1590 features.\n",
      "Fitting estimator with 1490 features.\n",
      "Fitting estimator with 1390 features.\n",
      "Fitting estimator with 1290 features.\n",
      "Fitting estimator with 1190 features.\n",
      "Fitting estimator with 1090 features.\n",
      "Fitting estimator with 990 features.\n",
      "Fitting estimator with 890 features.\n",
      "Fitting estimator with 790 features.\n",
      "Fitting estimator with 690 features.\n",
      "Fitting estimator with 590 features.\n",
      "Fitting estimator with 490 features.\n",
      "Fitting estimator with 390 features.\n",
      "Fitting estimator with 290 features.\n",
      "Fitting estimator with 190 features.\n",
      "Fitting estimator with 90 features.\n",
      "Fitting estimator with 4590 features.\n",
      "Fitting estimator with 4490 features.\n",
      "Fitting estimator with 4390 features.\n",
      "Fitting estimator with 4290 features.\n",
      "Fitting estimator with 4190 features.\n",
      "Fitting estimator with 4090 features.\n",
      "Fitting estimator with 3990 features.\n",
      "Fitting estimator with 3890 features.\n",
      "Fitting estimator with 3790 features.\n",
      "Fitting estimator with 3690 features.\n",
      "Fitting estimator with 3590 features.\n",
      "Fitting estimator with 3490 features.\n",
      "Fitting estimator with 3390 features.\n",
      "Fitting estimator with 3290 features.\n",
      "Fitting estimator with 3190 features.\n",
      "Fitting estimator with 3090 features.\n",
      "Fitting estimator with 2990 features.\n",
      "Fitting estimator with 2890 features.\n",
      "Fitting estimator with 2790 features.\n",
      "Fitting estimator with 2690 features.\n",
      "Fitting estimator with 2590 features.\n",
      "Fitting estimator with 2490 features.\n",
      "Fitting estimator with 2390 features.\n",
      "Fitting estimator with 2290 features.\n",
      "Fitting estimator with 2190 features.\n",
      "Fitting estimator with 2090 features.\n",
      "Fitting estimator with 1990 features.\n",
      "Fitting estimator with 1890 features.\n",
      "Fitting estimator with 1790 features.\n",
      "Fitting estimator with 1690 features.\n",
      "Fitting estimator with 1590 features.\n",
      "Fitting estimator with 1490 features.\n",
      "Fitting estimator with 1390 features.\n",
      "Fitting estimator with 1290 features.\n",
      "Fitting estimator with 1190 features.\n",
      "Fitting estimator with 1090 features.\n",
      "Fitting estimator with 990 features.\n",
      "Fitting estimator with 890 features.\n",
      "Fitting estimator with 790 features.\n",
      "Fitting estimator with 690 features.\n",
      "Fitting estimator with 590 features.\n",
      "Fitting estimator with 490 features.\n",
      "Fitting estimator with 390 features.\n",
      "Fitting estimator with 290 features.\n",
      "Fitting estimator with 190 features.\n",
      "Fitting estimator with 90 features.\n",
      "Fitting estimator with 4590 features.\n",
      "Fitting estimator with 4490 features.\n",
      "Fitting estimator with 4390 features.\n",
      "Fitting estimator with 4290 features.\n",
      "Fitting estimator with 4190 features.\n",
      "Fitting estimator with 4090 features.\n",
      "Fitting estimator with 3990 features.\n",
      "Fitting estimator with 3890 features.\n",
      "Fitting estimator with 3790 features.\n",
      "Fitting estimator with 3690 features.\n",
      "Fitting estimator with 3590 features.\n",
      "Fitting estimator with 3490 features.\n",
      "Fitting estimator with 3390 features.\n",
      "Fitting estimator with 3290 features.\n",
      "Fitting estimator with 3190 features.\n",
      "Fitting estimator with 3090 features.\n",
      "Fitting estimator with 2990 features.\n",
      "Fitting estimator with 2890 features.\n",
      "Fitting estimator with 2790 features.\n",
      "Fitting estimator with 2690 features.\n",
      "Fitting estimator with 2590 features.\n",
      "Fitting estimator with 2490 features.\n",
      "Fitting estimator with 2390 features.\n",
      "Fitting estimator with 2290 features.\n",
      "Fitting estimator with 2190 features.\n",
      "Fitting estimator with 2090 features.\n",
      "Fitting estimator with 1990 features.\n",
      "Fitting estimator with 1890 features.\n",
      "Fitting estimator with 1790 features.\n",
      "Fitting estimator with 1690 features.\n",
      "Fitting estimator with 1590 features.\n",
      "Fitting estimator with 1490 features.\n",
      "Fitting estimator with 1390 features.\n",
      "Fitting estimator with 1290 features.\n",
      "Fitting estimator with 1190 features.\n",
      "Fitting estimator with 1090 features.\n",
      "Fitting estimator with 990 features.\n",
      "Fitting estimator with 890 features.\n",
      "Fitting estimator with 790 features.\n",
      "Fitting estimator with 690 features.\n"
     ]
    },
    {
     "name": "stdout",
     "output_type": "stream",
     "text": [
      "Fitting estimator with 590 features.\n",
      "Fitting estimator with 490 features.\n",
      "Fitting estimator with 390 features.\n",
      "Fitting estimator with 290 features.\n",
      "Fitting estimator with 190 features.\n",
      "Fitting estimator with 90 features.\n"
     ]
    },
    {
     "data": {
      "text/plain": [
       "RFECV(cv=PredefinedSplit(test_fold=array([0, 0, ..., 4, 4])),\n",
       "      estimator=Ridge(alpha=409, copy_X=True, fit_intercept=True, max_iter=None,\n",
       "                      normalize=False, random_state=42, solver='cholesky',\n",
       "                      tol=0.001),\n",
       "      min_features_to_select=1, n_jobs=1, scoring='neg_mean_squared_error',\n",
       "      step=100, verbose=3)"
      ]
     },
     "execution_count": 163,
     "metadata": {},
     "output_type": "execute_result"
    }
   ],
   "source": [
    "rfecv3 = RFECV(estimator=ridge_reg, cv=ps,step=100,scoring=\"neg_mean_squared_error\",verbose=3,n_jobs=1)\n",
    "rfecv3.fit(X_tv_cv[X_columns[rfecv.support_]],tv_cv_y)"
   ]
  },
  {
   "cell_type": "code",
   "execution_count": 164,
   "metadata": {},
   "outputs": [
    {
     "data": {
      "text/plain": [
       "4590"
      ]
     },
     "execution_count": 164,
     "metadata": {},
     "output_type": "execute_result"
    }
   ],
   "source": [
    "rfecv3.n_features_"
   ]
  },
  {
   "cell_type": "code",
   "execution_count": 165,
   "metadata": {},
   "outputs": [],
   "source": [
    "selected_features_iter_1 = rfecv.support_"
   ]
  },
  {
   "cell_type": "code",
   "execution_count": 166,
   "metadata": {},
   "outputs": [
    {
     "data": {
      "text/plain": [
       "0.854530562580104"
      ]
     },
     "execution_count": 166,
     "metadata": {},
     "output_type": "execute_result"
    }
   ],
   "source": [
    "ridge_reg.fit(X_tv_cv[X_columns[selected_features_iter_1]],tv_cv_y)\n",
    "mse(test_set_labelled_y,ridge_reg.predict(X_test_omics[X_columns[selected_features_iter_1]]))"
   ]
  },
  {
   "cell_type": "code",
   "execution_count": 167,
   "metadata": {},
   "outputs": [
    {
     "data": {
      "text/plain": [
       "0.4165839267921828"
      ]
     },
     "execution_count": 167,
     "metadata": {},
     "output_type": "execute_result"
    }
   ],
   "source": [
    "r2_score(test_set_labelled_y,ridge_reg.predict(X_test_omics[X_columns[selected_features_iter_1]]))"
   ]
  },
  {
   "cell_type": "markdown",
   "metadata": {},
   "source": [
    "Using the top 4590 features, we get what will be the best scores. \n",
    "\n",
    "Let's see what happens if we reduce features further. Let's see top 1000 features."
   ]
  },
  {
   "cell_type": "markdown",
   "metadata": {},
   "source": [
    "First 1000 features seem to account for the greatest drop in MSE on validation set. Let's select them."
   ]
  },
  {
   "cell_type": "code",
   "execution_count": 168,
   "metadata": {},
   "outputs": [],
   "source": [
    "ridge_reg.fit(X_tv_cv[X_columns[selected_features_iter_1]],tv_cv_y)\n",
    "\n",
    "coefficients = np.abs(ridge_reg.coef_)\n",
    "idx_features = np.argsort(coefficients)[-1000:].reshape(-1)\n",
    "\n",
    "current_dataframe = X_tv_cv[X_columns[selected_features_iter_1]]\n",
    "new_dataframe = current_dataframe.iloc[:,idx_features]"
   ]
  },
  {
   "cell_type": "code",
   "execution_count": 169,
   "metadata": {},
   "outputs": [
    {
     "data": {
      "text/plain": [
       "Ridge(alpha=409, copy_X=True, fit_intercept=True, max_iter=None,\n",
       "      normalize=False, random_state=42, solver='cholesky', tol=0.001)"
      ]
     },
     "execution_count": 169,
     "metadata": {},
     "output_type": "execute_result"
    }
   ],
   "source": [
    "ridge_reg.fit(new_dataframe,tv_cv_y)"
   ]
  },
  {
   "cell_type": "markdown",
   "metadata": {},
   "source": [
    "Test set"
   ]
  },
  {
   "cell_type": "code",
   "execution_count": 170,
   "metadata": {},
   "outputs": [
    {
     "data": {
      "text/plain": [
       "0.9138938481594703"
      ]
     },
     "execution_count": 170,
     "metadata": {},
     "output_type": "execute_result"
    }
   ],
   "source": [
    "mse(test_set_labelled_y, ridge_reg.predict(X_test_omics[X_columns[selected_features_iter_1]].iloc[:,idx_features]),squared=True)"
   ]
  },
  {
   "cell_type": "code",
   "execution_count": 171,
   "metadata": {},
   "outputs": [
    {
     "data": {
      "text/plain": [
       "0.37605466255983233"
      ]
     },
     "execution_count": 171,
     "metadata": {},
     "output_type": "execute_result"
    }
   ],
   "source": [
    "r2_score(test_set_labelled_y,ridge_reg.predict(X_test_omics[X_columns[selected_features_iter_1]].iloc[:,idx_features]))"
   ]
  },
  {
   "cell_type": "markdown",
   "metadata": {},
   "source": [
    "## with XGBoost ## \n"
   ]
  },
  {
   "cell_type": "markdown",
   "metadata": {},
   "source": [
    "For a non-linear approach"
   ]
  },
  {
   "cell_type": "markdown",
   "metadata": {},
   "source": [
    "Random search doesn't make as much sense for this. So many parameters - the parameters that are best on the whole dataset, aren't necessarily best when we train on a smaller subset of features and then test on the valid set. So I use the parameters below which give best val performance when done on 290 features (best as compared to those I get after a random search)."
   ]
  },
  {
   "cell_type": "code",
   "execution_count": 172,
   "metadata": {},
   "outputs": [],
   "source": [
    "xgb_model = XGBRegressor(tree_method=\"gpu_hist\",objective=\"reg:squarederror\",random_state=random_state,\n",
    "                            error_score=\"raise\",gamma=1,max_depth=8,min_child_weight=20,n_estimators=80)\n",
    "\n",
    "\n",
    "xgb_selector = RFECV(estimator=xgb_model, cv=ps,step=1000,scoring=\"neg_mean_squared_error\",verbose=2)"
   ]
  },
  {
   "cell_type": "code",
   "execution_count": 173,
   "metadata": {},
   "outputs": [
    {
     "name": "stdout",
     "output_type": "stream",
     "text": [
      "Fitting estimator with 16590 features.\n",
      "Fitting estimator with 15590 features.\n",
      "Fitting estimator with 14590 features.\n",
      "Fitting estimator with 13590 features.\n",
      "Fitting estimator with 12590 features.\n",
      "Fitting estimator with 11590 features.\n",
      "Fitting estimator with 10590 features.\n",
      "Fitting estimator with 9590 features.\n",
      "Fitting estimator with 8590 features.\n",
      "Fitting estimator with 7590 features.\n",
      "Fitting estimator with 6590 features.\n",
      "Fitting estimator with 5590 features.\n",
      "Fitting estimator with 4590 features.\n",
      "Fitting estimator with 3590 features.\n",
      "Fitting estimator with 2590 features.\n",
      "Fitting estimator with 1590 features.\n",
      "Fitting estimator with 590 features.\n",
      "Fitting estimator with 16590 features.\n",
      "Fitting estimator with 15590 features.\n",
      "Fitting estimator with 14590 features.\n",
      "Fitting estimator with 13590 features.\n",
      "Fitting estimator with 12590 features.\n",
      "Fitting estimator with 11590 features.\n",
      "Fitting estimator with 10590 features.\n",
      "Fitting estimator with 9590 features.\n",
      "Fitting estimator with 8590 features.\n",
      "Fitting estimator with 7590 features.\n",
      "Fitting estimator with 6590 features.\n",
      "Fitting estimator with 5590 features.\n",
      "Fitting estimator with 4590 features.\n",
      "Fitting estimator with 3590 features.\n",
      "Fitting estimator with 2590 features.\n",
      "Fitting estimator with 1590 features.\n",
      "Fitting estimator with 590 features.\n",
      "Fitting estimator with 16590 features.\n",
      "Fitting estimator with 15590 features.\n",
      "Fitting estimator with 14590 features.\n",
      "Fitting estimator with 13590 features.\n",
      "Fitting estimator with 12590 features.\n",
      "Fitting estimator with 11590 features.\n",
      "Fitting estimator with 10590 features.\n",
      "Fitting estimator with 9590 features.\n",
      "Fitting estimator with 8590 features.\n",
      "Fitting estimator with 7590 features.\n",
      "Fitting estimator with 6590 features.\n",
      "Fitting estimator with 5590 features.\n",
      "Fitting estimator with 4590 features.\n",
      "Fitting estimator with 3590 features.\n",
      "Fitting estimator with 2590 features.\n",
      "Fitting estimator with 1590 features.\n",
      "Fitting estimator with 590 features.\n",
      "Fitting estimator with 16590 features.\n",
      "Fitting estimator with 15590 features.\n",
      "Fitting estimator with 14590 features.\n",
      "Fitting estimator with 13590 features.\n",
      "Fitting estimator with 12590 features.\n",
      "Fitting estimator with 11590 features.\n",
      "Fitting estimator with 10590 features.\n",
      "Fitting estimator with 9590 features.\n",
      "Fitting estimator with 8590 features.\n",
      "Fitting estimator with 7590 features.\n",
      "Fitting estimator with 6590 features.\n",
      "Fitting estimator with 5590 features.\n",
      "Fitting estimator with 4590 features.\n",
      "Fitting estimator with 3590 features.\n",
      "Fitting estimator with 2590 features.\n",
      "Fitting estimator with 1590 features.\n",
      "Fitting estimator with 590 features.\n",
      "Fitting estimator with 16590 features.\n",
      "Fitting estimator with 15590 features.\n",
      "Fitting estimator with 14590 features.\n",
      "Fitting estimator with 13590 features.\n",
      "Fitting estimator with 12590 features.\n",
      "Fitting estimator with 11590 features.\n",
      "Fitting estimator with 10590 features.\n",
      "Fitting estimator with 9590 features.\n",
      "Fitting estimator with 8590 features.\n",
      "Fitting estimator with 7590 features.\n",
      "Fitting estimator with 6590 features.\n",
      "Fitting estimator with 5590 features.\n",
      "Fitting estimator with 4590 features.\n",
      "Fitting estimator with 3590 features.\n",
      "Fitting estimator with 2590 features.\n",
      "Fitting estimator with 1590 features.\n",
      "Fitting estimator with 590 features.\n",
      "Fitting estimator with 16590 features.\n",
      "Fitting estimator with 15590 features.\n",
      "Fitting estimator with 14590 features.\n",
      "Fitting estimator with 13590 features.\n",
      "Fitting estimator with 12590 features.\n",
      "Fitting estimator with 11590 features.\n",
      "Fitting estimator with 10590 features.\n",
      "Fitting estimator with 9590 features.\n",
      "Fitting estimator with 8590 features.\n",
      "Fitting estimator with 7590 features.\n",
      "Fitting estimator with 6590 features.\n",
      "Fitting estimator with 5590 features.\n",
      "Fitting estimator with 4590 features.\n",
      "Fitting estimator with 3590 features.\n",
      "Fitting estimator with 2590 features.\n"
     ]
    },
    {
     "data": {
      "text/plain": [
       "RFECV(cv=PredefinedSplit(test_fold=array([0, 0, ..., 4, 4])),\n",
       "      estimator=XGBRegressor(base_score=0.5, booster='gbtree',\n",
       "                             colsample_bylevel=1, colsample_bynode=1,\n",
       "                             colsample_bytree=1, error_score='raise', gamma=1,\n",
       "                             importance_type='gain', learning_rate=0.1,\n",
       "                             max_delta_step=0, max_depth=8, min_child_weight=20,\n",
       "                             missing=None, n_estimators=80, n_jobs=1,\n",
       "                             nthread=None, objective='reg:squarederror',\n",
       "                             random_state=42, reg_alpha=0, reg_lambda=1,\n",
       "                             scale_pos_weight=1, seed=None, silent=None,\n",
       "                             subsample=1, tree_method='gpu_hist', verbosity=1),\n",
       "      min_features_to_select=1, n_jobs=None, scoring='neg_mean_squared_error',\n",
       "      step=1000, verbose=2)"
      ]
     },
     "execution_count": 173,
     "metadata": {},
     "output_type": "execute_result"
    }
   ],
   "source": [
    "xgb_selector.fit(X_tv_cv,tv_cv_y)"
   ]
  },
  {
   "cell_type": "code",
   "execution_count": 174,
   "metadata": {},
   "outputs": [
    {
     "data": {
      "image/png": "[encoded data removed]",
      "text/plain": [
       "<Figure size 432x288 with 1 Axes>"
      ]
     },
     "metadata": {
      "needs_background": "light"
     },
     "output_type": "display_data"
    }
   ],
   "source": [
    "# Plot the RMSE as a function of the number of features\n",
    "cv_grid_rmse = (-xgb_selector.grid_scores_)\n",
    "\n",
    "plt.plot(cv_grid_rmse)\n",
    "plt.title('MSE versus number of features (multiples of 1000)')\n",
    "plt.show()"
   ]
  },
  {
   "cell_type": "code",
   "execution_count": 176,
   "metadata": {},
   "outputs": [
    {
     "name": "stdout",
     "output_type": "stream",
     "text": [
      "Fitting estimator with 1590 features.\n",
      "Fitting estimator with 1490 features.\n",
      "Fitting estimator with 1390 features.\n",
      "Fitting estimator with 1290 features.\n",
      "Fitting estimator with 1190 features.\n",
      "Fitting estimator with 1090 features.\n",
      "Fitting estimator with 990 features.\n",
      "Fitting estimator with 890 features.\n",
      "Fitting estimator with 790 features.\n",
      "Fitting estimator with 690 features.\n",
      "Fitting estimator with 590 features.\n",
      "Fitting estimator with 490 features.\n",
      "Fitting estimator with 390 features.\n",
      "Fitting estimator with 290 features.\n",
      "Fitting estimator with 190 features.\n",
      "Fitting estimator with 90 features.\n",
      "Fitting estimator with 1590 features.\n",
      "Fitting estimator with 1490 features.\n",
      "Fitting estimator with 1390 features.\n",
      "Fitting estimator with 1290 features.\n",
      "Fitting estimator with 1190 features.\n",
      "Fitting estimator with 1090 features.\n",
      "Fitting estimator with 990 features.\n",
      "Fitting estimator with 890 features.\n",
      "Fitting estimator with 790 features.\n",
      "Fitting estimator with 690 features.\n",
      "Fitting estimator with 590 features.\n",
      "Fitting estimator with 490 features.\n",
      "Fitting estimator with 390 features.\n",
      "Fitting estimator with 290 features.\n",
      "Fitting estimator with 190 features.\n",
      "Fitting estimator with 90 features.\n",
      "Fitting estimator with 1590 features.\n",
      "Fitting estimator with 1490 features.\n",
      "Fitting estimator with 1390 features.\n",
      "Fitting estimator with 1290 features.\n",
      "Fitting estimator with 1190 features.\n",
      "Fitting estimator with 1090 features.\n",
      "Fitting estimator with 990 features.\n",
      "Fitting estimator with 890 features.\n",
      "Fitting estimator with 790 features.\n",
      "Fitting estimator with 690 features.\n",
      "Fitting estimator with 590 features.\n",
      "Fitting estimator with 490 features.\n",
      "Fitting estimator with 390 features.\n",
      "Fitting estimator with 290 features.\n",
      "Fitting estimator with 190 features.\n",
      "Fitting estimator with 90 features.\n",
      "Fitting estimator with 1590 features.\n",
      "Fitting estimator with 1490 features.\n",
      "Fitting estimator with 1390 features.\n",
      "Fitting estimator with 1290 features.\n",
      "Fitting estimator with 1190 features.\n",
      "Fitting estimator with 1090 features.\n",
      "Fitting estimator with 990 features.\n",
      "Fitting estimator with 890 features.\n",
      "Fitting estimator with 790 features.\n",
      "Fitting estimator with 690 features.\n",
      "Fitting estimator with 590 features.\n",
      "Fitting estimator with 490 features.\n",
      "Fitting estimator with 390 features.\n",
      "Fitting estimator with 290 features.\n",
      "Fitting estimator with 190 features.\n",
      "Fitting estimator with 90 features.\n",
      "Fitting estimator with 1590 features.\n",
      "Fitting estimator with 1490 features.\n",
      "Fitting estimator with 1390 features.\n",
      "Fitting estimator with 1290 features.\n",
      "Fitting estimator with 1190 features.\n",
      "Fitting estimator with 1090 features.\n",
      "Fitting estimator with 990 features.\n",
      "Fitting estimator with 890 features.\n",
      "Fitting estimator with 790 features.\n",
      "Fitting estimator with 690 features.\n",
      "Fitting estimator with 590 features.\n",
      "Fitting estimator with 490 features.\n",
      "Fitting estimator with 390 features.\n",
      "Fitting estimator with 290 features.\n",
      "Fitting estimator with 190 features.\n",
      "Fitting estimator with 90 features.\n",
      "Fitting estimator with 1590 features.\n",
      "Fitting estimator with 1490 features.\n",
      "Fitting estimator with 1390 features.\n",
      "Fitting estimator with 1290 features.\n",
      "Fitting estimator with 1190 features.\n",
      "Fitting estimator with 1090 features.\n",
      "Fitting estimator with 990 features.\n",
      "Fitting estimator with 890 features.\n",
      "Fitting estimator with 790 features.\n",
      "Fitting estimator with 690 features.\n",
      "Fitting estimator with 590 features.\n",
      "Fitting estimator with 490 features.\n",
      "Fitting estimator with 390 features.\n"
     ]
    },
    {
     "data": {
      "text/plain": [
       "RFECV(cv=PredefinedSplit(test_fold=array([0, 0, ..., 4, 4])),\n",
       "      estimator=XGBRegressor(base_score=0.5, booster='gbtree',\n",
       "                             colsample_bylevel=1, colsample_bynode=1,\n",
       "                             colsample_bytree=1, error_score='raise', gamma=1,\n",
       "                             importance_type='gain', learning_rate=0.1,\n",
       "                             max_delta_step=0, max_depth=8, min_child_weight=20,\n",
       "                             missing=None, n_estimators=80, n_jobs=1,\n",
       "                             nthread=None, objective='reg:squarederror',\n",
       "                             random_state=42, reg_alpha=0, reg_lambda=1,\n",
       "                             scale_pos_weight=1, seed=None, silent=None,\n",
       "                             subsample=1, tree_method='gpu_hist', verbosity=1),\n",
       "      min_features_to_select=1, n_jobs=None, scoring='neg_mean_squared_error',\n",
       "      step=100, verbose=2)"
      ]
     },
     "execution_count": 176,
     "metadata": {},
     "output_type": "execute_result"
    }
   ],
   "source": [
    "#we now rerun but on the top features as selected by xgb_selector\n",
    "xgb_selector2 = RFECV(estimator=xgb_model, cv=ps,step=100,scoring=\"neg_mean_squared_error\",verbose=2)\n",
    "xgb_selector2.fit(X_tv_cv[X_columns[xgb_selector.support_]],tv_cv_y)"
   ]
  },
  {
   "cell_type": "code",
   "execution_count": 179,
   "metadata": {},
   "outputs": [
    {
     "data": {
      "image/png": "[encoded data removed]",
      "text/plain": [
       "<Figure size 432x288 with 1 Axes>"
      ]
     },
     "metadata": {
      "needs_background": "light"
     },
     "output_type": "display_data"
    }
   ],
   "source": [
    "# Plot the RMSE as a function of the number of features\n",
    "cv_grid_rmse = (-xgb_selector2.grid_scores_)\n",
    "\n",
    "plt.plot(cv_grid_rmse)\n",
    "plt.title('MSE versus number of features (multiples of 100)')\n",
    "plt.show()"
   ]
  },
  {
   "cell_type": "code",
   "execution_count": 180,
   "metadata": {},
   "outputs": [
    {
     "data": {
      "text/plain": [
       "290"
      ]
     },
     "execution_count": 180,
     "metadata": {},
     "output_type": "execute_result"
    }
   ],
   "source": [
    "xgb_selector2.n_features_\n",
    "#290 features selected as best"
   ]
  },
  {
   "cell_type": "code",
   "execution_count": 181,
   "metadata": {},
   "outputs": [],
   "source": [
    "features_to_select = X_columns[xgb_selector.support_][xgb_selector2.support_]"
   ]
  },
  {
   "cell_type": "code",
   "execution_count": 183,
   "metadata": {},
   "outputs": [
    {
     "data": {
      "text/plain": [
       "XGBRegressor(base_score=0.5, booster='gbtree', colsample_bylevel=1,\n",
       "             colsample_bynode=1, colsample_bytree=1, error_score='raise',\n",
       "             gamma=1, importance_type='gain', learning_rate=0.1,\n",
       "             max_delta_step=0, max_depth=8, min_child_weight=20, missing=None,\n",
       "             n_estimators=80, n_jobs=1, nthread=None,\n",
       "             objective='reg:squarederror', random_state=42, reg_alpha=0,\n",
       "             reg_lambda=1, scale_pos_weight=1, seed=None, silent=None,\n",
       "             subsample=1, tree_method='gpu_hist', verbosity=1)"
      ]
     },
     "execution_count": 183,
     "metadata": {},
     "output_type": "execute_result"
    }
   ],
   "source": [
    "xgb_model.fit(X_tv_cv[features_to_select],tv_cv_y)"
   ]
  },
  {
   "cell_type": "markdown",
   "metadata": {},
   "source": [
    "**2nd to top scores, with far fewer features required**"
   ]
  },
  {
   "cell_type": "code",
   "execution_count": 184,
   "metadata": {},
   "outputs": [
    {
     "data": {
      "text/plain": [
       "0.8694333440297182"
      ]
     },
     "execution_count": 184,
     "metadata": {},
     "output_type": "execute_result"
    }
   ],
   "source": [
    "mse(test_set_labelled_y, xgb_model.predict(X_test_omics[features_to_select]))"
   ]
  },
  {
   "cell_type": "code",
   "execution_count": 185,
   "metadata": {},
   "outputs": [
    {
     "data": {
      "text/plain": [
       "0.4064093085702708"
      ]
     },
     "execution_count": 185,
     "metadata": {},
     "output_type": "execute_result"
    }
   ],
   "source": [
    "r2_score(test_set_labelled_y,xgb_model.predict(X_test_omics[features_to_select]))"
   ]
  },
  {
   "cell_type": "markdown",
   "metadata": {},
   "source": [
    "# Lasso L1 Feature Selection # "
   ]
  },
  {
   "cell_type": "code",
   "execution_count": 186,
   "metadata": {
    "scrolled": true
   },
   "outputs": [
    {
     "name": "stderr",
     "output_type": "stream",
     "text": [
      "[Parallel(n_jobs=2)]: Using backend ThreadingBackend with 2 concurrent workers.\n"
     ]
    },
    {
     "name": "stdout",
     "output_type": "stream",
     "text": [
      "(<MemoryView of 'ndarray' at 0x7ff504c2fbe0>, 6.759417442481208e-05, 0.3892365517861, 11)\n",
      "(<MemoryView of 'ndarray' at 0x7ff504c2fd88>, 7.770694008968348e-05, 0.4100593924231031, 12)\n",
      "(<MemoryView of 'ndarray' at 0x7ff5072d4048>, 0.010502123865478552, 0.3892365517861, 39)\n",
      "(<MemoryView of 'ndarray' at 0x7ff5072d41f0>, 0.01528739368211518, 0.4100593924231031, 60)\n",
      "(<MemoryView of 'ndarray' at 0x7ff5072d4398>, 0.02840506565587475, 0.3892365517861, 108)\n",
      "(<MemoryView of 'ndarray' at 0x7ff5072d46e8>, 0.028471589123228114, 0.4100593924231031, 118)\n",
      "(<MemoryView of 'ndarray' at 0x7ff5072d4540>, 0.23197751797113142, 0.3892365517861, 157)\n",
      "(<MemoryView of 'ndarray' at 0x7ff5072d4890>, 0.372453347240139, 0.4100593924231031, 194)\n",
      "(<MemoryView of 'ndarray' at 0x7ff5072d4a38>, 0.386730569389087, 0.3892365517861, 478)\n",
      "(<MemoryView of 'ndarray' at 0x7ff5072d4be0>, 0.40716046704748976, 0.4100593924231031, 312)\n",
      "(<MemoryView of 'ndarray' at 0x7ff5072d4d88>, 0.38784829745316074, 0.3892365517861, 745)\n"
     ]
    },
    {
     "name": "stderr",
     "output_type": "stream",
     "text": [
      "/home/rp542/venv/lib/python3.5/site-packages/sklearn/linear_model/_coordinate_descent.py:476: ConvergenceWarning: Objective did not converge. You might want to increase the number of iterations. Duality gap: 0.9306677505686309, tolerance: 0.4100593924231031\n",
      "  positive)\n"
     ]
    },
    {
     "name": "stdout",
     "output_type": "stream",
     "text": [
      "(<MemoryView of 'ndarray' at 0x7ff507248048>, 0.9306677505686309, 0.4100593924231031, 1000)\n",
      "(<MemoryView of 'ndarray' at 0x7ff5072481f0>, 0.38886201434140943, 0.3892365517861, 578)\n",
      "(<MemoryView of 'ndarray' at 0x7ff507248398>, 0.3875686286843323, 0.3892365517861, 228)\n",
      "(<MemoryView of 'ndarray' at 0x7ff507248540>, 0.38344773975613355, 0.3892365517861, 70)\n",
      "(<MemoryView of 'ndarray' at 0x7ff5072486e8>, 0.35034956212338725, 0.3892365517861, 10)\n",
      "(<MemoryView of 'ndarray' at 0x7ff5072d4d88>, 0.40856565968228953, 0.4100593924231031, 710)\n",
      "(<MemoryView of 'ndarray' at 0x7ff5072d4540>, 0.0, 0.3600931524317293, 1)\n",
      "(<MemoryView of 'ndarray' at 0x7ff5072d4a38>, 0.012691077001420581, 0.3600931524317293, 39)\n",
      "(<MemoryView of 'ndarray' at 0x7ff5072d4048>, 0.40706837744352775, 0.4100593924231031, 224)\n",
      "(<MemoryView of 'ndarray' at 0x7ff5072d4398>, 0.04076747898170652, 0.3600931524317293, 73)\n",
      "(<MemoryView of 'ndarray' at 0x7ff504c2fbe0>, 0.408543603135353, 0.4100593924231031, 89)\n",
      "(<MemoryView of 'ndarray' at 0x7ff507248540>, 0.11468407804534309, 0.3600931524317293, 116)\n",
      "(<MemoryView of 'ndarray' at 0x7ff5072486e8>, 0.4055373645741836, 0.4100593924231031, 13)\n",
      "(<MemoryView of 'ndarray' at 0x7ff5072d4048>, 1.1368683772161603e-13, 0.3603434491156267, 2)\n",
      "(<MemoryView of 'ndarray' at 0x7ff5072d4d88>, 0.011528987413271352, 0.3603434491156267, 40)\n",
      "(<MemoryView of 'ndarray' at 0x7ff5072d4be0>, 0.35799083732136694, 0.3600931524317293, 759)\n",
      "(<MemoryView of 'ndarray' at 0x7ff5072d46e8>, 0.021734190084004013, 0.3603434491156267, 95)\n",
      "(<MemoryView of 'ndarray' at 0x7ff5072d41f0>, 0.11119447766029111, 0.3603434491156267, 124)\n",
      "(<MemoryView of 'ndarray' at 0x7ff5072d4890>, 0.3554432587735974, 0.3603434491156267, 439)\n",
      "(<MemoryView of 'ndarray' at 0x7ff504c2fbe0>, 0.3598198548402891, 0.3600931524317293, 782)\n",
      "(<MemoryView of 'ndarray' at 0x7ff504c2fd88>, 0.36005636303111377, 0.3600931524317293, 467)\n",
      "(<MemoryView of 'ndarray' at 0x7ff507248398>, 0.3602535862643528, 0.3603434491156267, 951)\n",
      "(<MemoryView of 'ndarray' at 0x7ff5072486e8>, 0.3587381414141886, 0.3600931524317293, 230)\n",
      "(<MemoryView of 'ndarray' at 0x7ff507248048>, 0.3564954038855692, 0.3603434491156267, 272)\n",
      "(<MemoryView of 'ndarray' at 0x7ff507248890>, 0.3508357248365839, 0.3600931524317293, 133)\n",
      "(<MemoryView of 'ndarray' at 0x7ff507248a38>, 0.3313487191361249, 0.3600931524317293, 13)\n",
      "(<MemoryView of 'ndarray' at 0x7ff504c2fd88>, 0.3594808368507112, 0.3603434491156267, 253)\n",
      "(<MemoryView of 'ndarray' at 0x7ff504c2fbe0>, 0.35969120424020834, 0.3603434491156267, 24)\n",
      "(<MemoryView of 'ndarray' at 0x7ff5072d4be0>, 0.0, 0.36174716088356457, 1)\n",
      "(<MemoryView of 'ndarray' at 0x7ff5072d4398>, 0.35708424977890474, 0.3603434491156267, 11)\n",
      "(<MemoryView of 'ndarray' at 0x7ff504c2fbe0>, 0.00959957752183982, 0.36174716088356457, 41)\n",
      "(<MemoryView of 'ndarray' at 0x7ff504c2fd88>, 0.04285009640406656, 0.36174716088356457, 96)\n",
      "(<MemoryView of 'ndarray' at 0x7ff5072d4a38>, 0.3617346196425615, 0.36174716088356457, 73)\n",
      "(<MemoryView of 'ndarray' at 0x7ff5072d4398>, 0.35372870766273934, 0.36174716088356457, 489)\n"
     ]
    },
    {
     "name": "stderr",
     "output_type": "stream",
     "text": [
      "/home/rp542/venv/lib/python3.5/site-packages/sklearn/linear_model/_coordinate_descent.py:476: ConvergenceWarning: Objective did not converge. You might want to increase the number of iterations. Duality gap: 0.4733350240332861, tolerance: 0.36174716088356457\n",
      "  positive)\n"
     ]
    },
    {
     "name": "stdout",
     "output_type": "stream",
     "text": [
      "(<MemoryView of 'ndarray' at 0x7ff5072d4890>, 0.4733350240332861, 0.36174716088356457, 1000)\n",
      "(<MemoryView of 'ndarray' at 0x7ff5072d41f0>, 0.36085223642338304, 0.36174716088356457, 687)\n",
      "(<MemoryView of 'ndarray' at 0x7ff5072d46e8>, 0.35837641841355694, 0.36174716088356457, 114)\n",
      "(<MemoryView of 'ndarray' at 0x7ff5072d4d88>, 0.3595681667683893, 0.36174716088356457, 80)\n",
      "(<MemoryView of 'ndarray' at 0x7ff5072d4048>, 0.3537104303767055, 0.36174716088356457, 8)\n"
     ]
    },
    {
     "name": "stderr",
     "output_type": "stream",
     "text": [
      "[Parallel(n_jobs=2)]: Done   5 out of   5 | elapsed:  1.4min finished\n"
     ]
    },
    {
     "data": {
      "text/plain": [
       "LassoCV(alphas=None, copy_X=True,\n",
       "        cv=PredefinedSplit(test_fold=array([0, 0, ..., 4, 4])), eps=0.001,\n",
       "        fit_intercept=True, max_iter=1000, n_alphas=10, n_jobs=2,\n",
       "        normalize=False, positive=False, precompute='auto', random_state=42,\n",
       "        selection='cyclic', tol=0.001, verbose=3)"
      ]
     },
     "execution_count": 186,
     "metadata": {},
     "output_type": "execute_result"
    }
   ],
   "source": [
    "lsv = LassoCV(cv=ps,n_jobs=2,random_state=42,n_alphas=10,verbose=3,tol=10**-3)\n",
    "lsv.fit(X_tv_cv,tv_cv_y)"
   ]
  },
  {
   "cell_type": "code",
   "execution_count": 187,
   "metadata": {},
   "outputs": [],
   "source": [
    "alpha = lsv.alpha_"
   ]
  },
  {
   "cell_type": "code",
   "execution_count": 188,
   "metadata": {},
   "outputs": [
    {
     "data": {
      "text/plain": [
       "0.009897663419994051"
      ]
     },
     "execution_count": 188,
     "metadata": {},
     "output_type": "execute_result"
    }
   ],
   "source": [
    "alpha #best alpha"
   ]
  },
  {
   "cell_type": "code",
   "execution_count": 189,
   "metadata": {},
   "outputs": [],
   "source": [
    "lasso = Lasso(random_state=42,alpha=alpha,tol=10**-3)"
   ]
  },
  {
   "cell_type": "code",
   "execution_count": 190,
   "metadata": {},
   "outputs": [
    {
     "data": {
      "text/plain": [
       "Lasso(alpha=0.009897663419994051, copy_X=True, fit_intercept=True,\n",
       "      max_iter=1000, normalize=False, positive=False, precompute=False,\n",
       "      random_state=42, selection='cyclic', tol=0.001, warm_start=False)"
      ]
     },
     "execution_count": 190,
     "metadata": {},
     "output_type": "execute_result"
    }
   ],
   "source": [
    "lasso.fit(X_tv_cv,tv_cv_y)"
   ]
  },
  {
   "cell_type": "code",
   "execution_count": 191,
   "metadata": {},
   "outputs": [
    {
     "data": {
      "text/plain": [
       "(87,)"
      ]
     },
     "execution_count": 191,
     "metadata": {},
     "output_type": "execute_result"
    }
   ],
   "source": [
    "np.unique(lasso.coef_).shape "
   ]
  },
  {
   "cell_type": "markdown",
   "metadata": {},
   "source": [
    "Lasso regression gives 87 features, giving mse of 0.97 on test set."
   ]
  },
  {
   "cell_type": "code",
   "execution_count": 192,
   "metadata": {},
   "outputs": [
    {
     "data": {
      "text/plain": [
       "0.9701972330232485"
      ]
     },
     "execution_count": 192,
     "metadata": {},
     "output_type": "execute_result"
    }
   ],
   "source": [
    "mse(test_set_labelled_y,lasso.predict(X_test_omics),squared=True)"
   ]
  },
  {
   "cell_type": "code",
   "execution_count": 193,
   "metadata": {},
   "outputs": [
    {
     "data": {
      "text/plain": [
       "0.33761449301650515"
      ]
     },
     "execution_count": 193,
     "metadata": {},
     "output_type": "execute_result"
    }
   ],
   "source": [
    "r2_score(test_set_labelled_y,lasso.predict(X_test_omics))"
   ]
  },
  {
   "cell_type": "markdown",
   "metadata": {},
   "source": [
    "# Ridge Regression on whole dataset # "
   ]
  },
  {
   "cell_type": "code",
   "execution_count": 194,
   "metadata": {},
   "outputs": [],
   "source": [
    "ridge_reg = Ridge(alpha=409, solver=\"cholesky\",random_state=42)\n"
   ]
  },
  {
   "cell_type": "code",
   "execution_count": 195,
   "metadata": {},
   "outputs": [
    {
     "data": {
      "text/plain": [
       "Ridge(alpha=409, copy_X=True, fit_intercept=True, max_iter=None,\n",
       "      normalize=False, random_state=42, solver='cholesky', tol=0.001)"
      ]
     },
     "execution_count": 195,
     "metadata": {},
     "output_type": "execute_result"
    }
   ],
   "source": [
    "ridge_reg.fit(X_tv_cv,tv_cv_y)"
   ]
  },
  {
   "cell_type": "code",
   "execution_count": 196,
   "metadata": {},
   "outputs": [
    {
     "data": {
      "text/plain": [
       "0.8469594009430258"
      ]
     },
     "execution_count": 196,
     "metadata": {},
     "output_type": "execute_result"
    }
   ],
   "source": [
    "mse(test_set_labelled_y,ridge_reg.predict(X_test_omics))"
   ]
  },
  {
   "cell_type": "code",
   "execution_count": 197,
   "metadata": {},
   "outputs": [
    {
     "data": {
      "text/plain": [
       "0.42175300743757127"
      ]
     },
     "execution_count": 197,
     "metadata": {},
     "output_type": "execute_result"
    }
   ],
   "source": [
    "r2_score(test_set_labelled_y,ridge_reg.predict(X_test_omics))"
   ]
  },
  {
   "cell_type": "markdown",
   "metadata": {},
   "source": [
    "# XGBoost on whole dataset # "
   ]
  },
  {
   "cell_type": "code",
   "execution_count": 198,
   "metadata": {},
   "outputs": [],
   "source": [
    "xgreg = XGBRegressor(tree_method=\"gpu_hist\",objective=\"reg:squarederror\",random_state=random_state,\n",
    "                            error_score=\"raise\",gamma=1,max_depth=8,min_child_weight=20,n_estimators=80) "
   ]
  },
  {
   "cell_type": "code",
   "execution_count": 199,
   "metadata": {},
   "outputs": [
    {
     "data": {
      "text/plain": [
       "XGBRegressor(base_score=0.5, booster='gbtree', colsample_bylevel=1,\n",
       "             colsample_bynode=1, colsample_bytree=1, error_score='raise',\n",
       "             gamma=1, importance_type='gain', learning_rate=0.1,\n",
       "             max_delta_step=0, max_depth=8, min_child_weight=20, missing=None,\n",
       "             n_estimators=80, n_jobs=1, nthread=None,\n",
       "             objective='reg:squarederror', random_state=42, reg_alpha=0,\n",
       "             reg_lambda=1, scale_pos_weight=1, seed=None, silent=None,\n",
       "             subsample=1, tree_method='gpu_hist', verbosity=1)"
      ]
     },
     "execution_count": 199,
     "metadata": {},
     "output_type": "execute_result"
    }
   ],
   "source": [
    "xgreg.fit(X_tv_cv,tv_cv_y)"
   ]
  },
  {
   "cell_type": "code",
   "execution_count": 200,
   "metadata": {},
   "outputs": [
    {
     "data": {
      "text/plain": [
       "0.853554399236535"
      ]
     },
     "execution_count": 200,
     "metadata": {},
     "output_type": "execute_result"
    }
   ],
   "source": [
    "mse(test_set_labelled_y,xgreg.predict(X_test_omics))"
   ]
  },
  {
   "cell_type": "code",
   "execution_count": 201,
   "metadata": {},
   "outputs": [
    {
     "data": {
      "text/plain": [
       "0.4172503855587304"
      ]
     },
     "execution_count": 201,
     "metadata": {},
     "output_type": "execute_result"
    }
   ],
   "source": [
    "r2_score(test_set_labelled_y,xgreg.predict(X_test_omics))"
   ]
  },
  {
   "cell_type": "markdown",
   "metadata": {},
   "source": [
    "# Save best features # "
   ]
  },
  {
   "cell_type": "code",
   "execution_count": 202,
   "metadata": {},
   "outputs": [],
   "source": [
    "features_to_select = features_to_select.to_numpy()"
   ]
  },
  {
   "cell_type": "code",
   "execution_count": 203,
   "metadata": {},
   "outputs": [],
   "source": [
    "os.chdir(save_path)\n"
   ]
  },
  {
   "cell_type": "code",
   "execution_count": 204,
   "metadata": {},
   "outputs": [],
   "source": [
    "np.save(\"feature_selection.npy\",features_to_select,allow_pickle=True)"
   ]
  },
  {
   "cell_type": "code",
   "execution_count": 87,
   "metadata": {},
   "outputs": [],
   "source": [
    "features = np.load(\"feature_selection.npy\",allow_pickle=True)"
   ]
  }
 ],
 "metadata": {
  "kernelspec": {
   "display_name": "Python 3",
   "language": "python",
   "name": "python3"
  },
  "language_info": {
   "codemirror_mode": {
    "name": "ipython",
    "version": 3
   },
   "file_extension": ".py",
   "mimetype": "text/x-python",
   "name": "python",
   "nbconvert_exporter": "python",
   "pygments_lexer": "ipython3",
   "version": "3.5.2"
  }
 },
 "nbformat": 4,
 "nbformat_minor": 4
}
