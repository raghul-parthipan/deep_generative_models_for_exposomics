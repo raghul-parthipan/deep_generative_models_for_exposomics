{
 "cells": [
  {
   "cell_type": "markdown",
   "metadata": {},
   "source": [
    "Here we join the harmonised data, the epic cvd data, and the epic Italy data."
   ]
  },
  {
   "cell_type": "code",
   "execution_count": 1,
   "metadata": {},
   "outputs": [],
   "source": [
    "import os\n",
    "import pandas as pd\n",
    "import numpy as np\n",
    "import seaborn \n",
    "import matplotlib.pyplot as plt\n",
    "from sklearn.preprocessing import StandardScaler\n",
    "from sklearn.preprocessing import OneHotEncoder\n",
    "from sklearn.preprocessing import MinMaxScaler\n",
    "from sklearn.impute import SimpleImputer\n",
    "from sklearn.model_selection import train_test_split\n",
    "from sklearn.model_selection import KFold\n",
    "random_seed=42\n",
    "random_state=42"
   ]
  },
  {
   "cell_type": "markdown",
   "metadata": {},
   "source": [
    "# Covariate data # "
   ]
  },
  {
   "cell_type": "markdown",
   "metadata": {},
   "source": [
    "## Harmonised data ##"
   ]
  },
  {
   "cell_type": "code",
   "execution_count": 2,
   "metadata": {},
   "outputs": [],
   "source": [
    "harmonised_path = '/local/scratch/rp542/data/harmonised_data'\n",
    "os.chdir(harmonised_path)\n",
    "\n",
    "samples = pd.read_csv('harmonised_samples.csv', index_col=0)\n"
   ]
  },
  {
   "cell_type": "markdown",
   "metadata": {},
   "source": [
    "Remove the CVD data from harmonised (as I'll add in the full CVD one later)"
   ]
  },
  {
   "cell_type": "code",
   "execution_count": 3,
   "metadata": {},
   "outputs": [],
   "source": [
    "samples = samples[samples[\"study\"] != \"cvd\"]\n",
    "\n",
    "samples.rename(columns={\"centre\": \"center\"},inplace=True)\n",
    "\n",
    "samples.reset_index(inplace=True)"
   ]
  },
  {
   "cell_type": "code",
   "execution_count": 4,
   "metadata": {},
   "outputs": [],
   "source": [
    "samples[\"unknown_smoker_status\"] = 1\n",
    "samples[\"current_smoker\"] = 0\n",
    "samples[\"former_smoker\"] = 0\n",
    "samples[\"never_smoked\"] = 0"
   ]
  },
  {
   "cell_type": "markdown",
   "metadata": {},
   "source": [
    "## EPIC CVD data ##"
   ]
  },
  {
   "cell_type": "markdown",
   "metadata": {},
   "source": [
    "Now to get the epic_cvd_data"
   ]
  },
  {
   "cell_type": "code",
   "execution_count": 5,
   "metadata": {},
   "outputs": [],
   "source": [
    "cvd_path = '/local/scratch/rp542/data/Exposomics_epic_cvd_csv'\n",
    "os.chdir(cvd_path)\n",
    "\n",
    "cvd_samples = pd.read_csv('samples.csv', index_col=0)\n",
    "cvd_samples.rename(columns={\"epic.id\": \"index\"},inplace=True)\n",
    "#only want to keep data for which we have methylation (epigenomic data)\n",
    "cvd_samples = cvd_samples[cvd_samples[\"methylation\"] == 1]\n",
    "cvd_samples.drop([\"d_birth\",\"d_recrui\"],axis=1,inplace=True)\n",
    "cvd_samples.rename(columns={\"age_recr\": \"age\"},inplace=True)"
   ]
  },
  {
   "cell_type": "code",
   "execution_count": 6,
   "metadata": {},
   "outputs": [
    {
     "data": {
      "text/plain": [
       "array([2, 3])"
      ]
     },
     "execution_count": 6,
     "metadata": {},
     "output_type": "execute_result"
    }
   ],
   "source": [
    "cvd_samples[\"smoking_status\"].unique()"
   ]
  },
  {
   "cell_type": "markdown",
   "metadata": {},
   "source": [
    "Smoking status of 2 means former smoker. Smoking status of 3 means never smoked. There are no NaNs for smoking in this dataset."
   ]
  },
  {
   "cell_type": "code",
   "execution_count": 7,
   "metadata": {},
   "outputs": [],
   "source": [
    "def encode_and_bind(original_dataframe, feature_to_encode):\n",
    "    dummies = pd.get_dummies(original_dataframe[feature_to_encode])\n",
    "    res = pd.concat([original_dataframe, dummies], axis=1)\n",
    "    res = res.drop([feature_to_encode], axis=1)\n",
    "    return(res) "
   ]
  },
  {
   "cell_type": "code",
   "execution_count": 8,
   "metadata": {},
   "outputs": [],
   "source": [
    "cvd_samples = encode_and_bind(cvd_samples,\"smoking_status\")\n",
    "cvd_samples.rename(columns={2: \"former_smoker\", 3: \"never_smoked\"},inplace=True)\n",
    "cvd_samples[\"unknown_smoker_status\"] = 0\n",
    "cvd_samples[\"current_smoker\"] = 0"
   ]
  },
  {
   "cell_type": "markdown",
   "metadata": {},
   "source": [
    "## EPIC Italy data ##"
   ]
  },
  {
   "cell_type": "code",
   "execution_count": 9,
   "metadata": {},
   "outputs": [],
   "source": [
    "epic_italy_path = '/local/scratch/rp542/data/epic_italy'\n",
    "os.chdir(epic_italy_path)\n",
    "\n",
    "epic_italy_samples = pd.read_csv('epic_italy_Samples.csv', index_col=0)\n",
    "\n",
    "epic_italy_samples = epic_italy_samples.reset_index()\n",
    "epic_italy_samples.rename(columns={\"level_0\": \"index\"},inplace=True)\n",
    "epic_italy_samples.drop([\"epic.id\"],axis=1,inplace=True)"
   ]
  },
  {
   "cell_type": "code",
   "execution_count": 16,
   "metadata": {},
   "outputs": [
    {
     "data": {
      "text/plain": [
       "array([ 2.,  3.,  1., nan])"
      ]
     },
     "execution_count": 16,
     "metadata": {},
     "output_type": "execute_result"
    }
   ],
   "source": [
    "epic_italy_samples[\"smoking\"].unique()"
   ]
  },
  {
   "cell_type": "code",
   "execution_count": 10,
   "metadata": {},
   "outputs": [],
   "source": [
    "epic_italy_samples[\"smoking\"].fillna(\"unknown_smoker_status\",inplace=True)\n",
    "epic_italy_samples = encode_and_bind(epic_italy_samples,\"smoking\")\n",
    "epic_italy_samples.rename(columns={2.0: \"former_smoker\", 1.0: \"never_smoked\",\n",
    "                           3.0: \"current_smoker\"},inplace=True)"
   ]
  },
  {
   "cell_type": "markdown",
   "metadata": {},
   "source": [
    "### Join dataframes ###"
   ]
  },
  {
   "cell_type": "code",
   "execution_count": 11,
   "metadata": {},
   "outputs": [],
   "source": [
    "merged1 = pd.concat([epic_italy_samples,cvd_samples],join=\"outer\",sort=\"False\")\n",
    "\n",
    "merged = pd.concat([merged1,samples],join=\"outer\",sort=\"False\")\n",
    "\n",
    "#remove unnecessary columns\n",
    "merged = merged.drop([\"cvd_case\",\"cvd_date\",\"metabolomic\",\"methylation\",\"proteomic\",\"Plate\",\"Position\",\"ESCAPE\",\"European_Models\",\"UFP_OP\",\n",
    "             \"no2_local\",\"no2_local.1\",\"pnc\"],axis=1)"
   ]
  },
  {
   "cell_type": "markdown",
   "metadata": {},
   "source": [
    "# Data Processing # "
   ]
  },
  {
   "cell_type": "code",
   "execution_count": 12,
   "metadata": {},
   "outputs": [],
   "source": [
    "os.chdir(cvd_path)\n",
    "\n",
    "air_pollution_european_models = pd.read_csv('air_pollution/air_pollution_european_models.csv', index_col=0)\n",
    "air_pollution_european_models.rename(columns={\"epic.id\": \"index\"},inplace=True)\n"
   ]
  },
  {
   "cell_type": "code",
   "execution_count": 13,
   "metadata": {},
   "outputs": [],
   "source": [
    "merged3 = merged.merge(air_pollution_european_models,how=\"left\",on=\"index\",suffixes=('-1','-2')) \n",
    "#how = left as if air pollution european\n",
    "#models has an id not in merged, that means that there is no omic data for that id, so we should ignore it.\n",
    "\n",
    "#merged the overlapping columns\n",
    "merged3[\"pm25_eur\"] = merged3[\"pm25_eur-1\"].combine_first(merged3[\"pm25_eur-2\"])\n",
    "merged3.drop([\"pm25_eur-1\",\"pm25_eur-2\"],axis=1,inplace=True)\n",
    "\n",
    "merged3[\"no2_eur\"] = merged3[\"no2_eur-1\"].combine_first(merged3[\"no2_eur-2\"])\n",
    "merged3.drop([\"no2_eur-1\",\"no2_eur-2\"],axis=1,inplace=True)"
   ]
  },
  {
   "cell_type": "markdown",
   "metadata": {},
   "source": [
    "There is more no2 labelled data, so let's just look at that for now. I'm going to drop pm 2.5"
   ]
  },
  {
   "cell_type": "code",
   "execution_count": 14,
   "metadata": {},
   "outputs": [],
   "source": [
    "merged3.drop([\"pm25_eur\"],axis=1,inplace=True)"
   ]
  },
  {
   "cell_type": "code",
   "execution_count": 15,
   "metadata": {},
   "outputs": [],
   "source": [
    "#get the labelled data\n",
    "unlabelled = merged3[pd.isna(merged3[\"no2_eur\"])]\n",
    "labelled = pd.concat([unlabelled, merged3]).drop_duplicates(keep=False)"
   ]
  },
  {
   "cell_type": "markdown",
   "metadata": {},
   "source": [
    "## Train test splits ##"
   ]
  },
  {
   "cell_type": "markdown",
   "metadata": {},
   "source": [
    "First to make the train, test and validation sets. We will split PEM up and do it slightly differently to ensure we don't get repeats of people in each set. Valid and test sets should both be labelled."
   ]
  },
  {
   "cell_type": "code",
   "execution_count": 24,
   "metadata": {},
   "outputs": [],
   "source": [
    "labelled_no_PEM = labelled[labelled[\"study\"] != \"pem\"]\n",
    "\n",
    "labelled_PEM = labelled[labelled[\"study\"] == \"pem\"]\n",
    "\n",
    "test_set_split = 0.2 #20% of samples to be test set\n",
    "valid_split = 0.2 #20% of train set to be valid set\n",
    "\n",
    "labelled_no_PEM_train,labelled_no_PEM_test = train_test_split(labelled_no_PEM,test_size=test_set_split,shuffle=True,random_state=42)\n",
    "\n",
    "kf = KFold(n_splits=5,random_state=42,shuffle=True)\n",
    "\n",
    "set1,set2,set3,set4,set5 = kf.split(labelled_no_PEM_train)\n",
    "\n",
    "ind1,ind2,ind3,ind4,ind5 = set1[1],set2[1],set3[1],set4[1],set5[1]\n",
    "\n",
    "indices = [ind1,ind2,ind3,ind4,ind5]\n",
    "\n",
    "labelled_no_PEM_tv1,labelled_no_PEM_tv2,labelled_no_PEM_tv3,labelled_no_PEM_tv4,labelled_no_PEM_tv5 = [labelled_no_PEM_train.iloc[index] for index in indices]\n",
    "\n",
    "labelled_no_PEM_train,labelled_no_PEM_valid = train_test_split(labelled_no_PEM_train,test_size=valid_split,shuffle=True,random_state=42)\n",
    "\n",
    "#now for the PEM we need to ensure that IDs aren't repeated. Let's just sort by the unique ID and split.\n",
    "\n",
    "labelled_PEM = labelled_PEM.sort_values(by=\"index\").reset_index()\n",
    "labelled_PEM = labelled_PEM.drop([\"level_0\"],axis=1)\n",
    "\n",
    "index = int(labelled_PEM.shape[0]*test_set_split / 2)*2 #test index\n",
    "\n",
    "labelled_PEM_test = labelled_PEM.iloc[0:index]\n",
    "\n",
    "labelled_PEM_train = pd.concat([labelled_PEM_test, labelled_PEM]).drop_duplicates(keep=False)\n",
    "\n",
    "for ID in labelled_PEM_test[\"ID\"]:\n",
    "    if ID in labelled_PEM_train[\"ID\"].values:\n",
    "        labelled_PEM_train = labelled_PEM_train.append(labelled_PEM_test[labelled_PEM_test[\"ID\"] == ID])\n",
    "        labelled_PEM_test = labelled_PEM_test[labelled_PEM_test[\"ID\"] != ID]          \n",
    "\n",
    "        #moves rows from test to train if same person. drops frow in test\n",
    "\n",
    "#create 5foldCV\n",
    "set1,set2,set3,set4,set5 = kf.split(labelled_PEM_train)\n",
    "ind1,ind2,ind3,ind4,ind5 = set1[1],set2[1],set3[1],set4[1],set5[1]\n",
    "indices = [ind1,ind2,ind3,ind4,ind5]\n",
    "pem_tv1,pem_tv2,pem_tv3,pem_tv4,pem_tv5 = [labelled_PEM_train.iloc[index] for index in indices]"
   ]
  },
  {
   "cell_type": "code",
   "execution_count": 25,
   "metadata": {},
   "outputs": [],
   "source": [
    "def five_fold_cv_checker(ds1,ds2,ds3,ds4,ds5):\n",
    "    \"\"\"Ensures no repeated patients (IDs) in each fold.\n",
    "        DS1 is the starting dataset\n",
    "        \n",
    "        Function doesn't work in its current form\"\"\"\n",
    "    list = [ds2,ds3,ds4,ds5]\n",
    "    for ID in ds1[\"ID\"]:\n",
    "        for dataset in list:\n",
    "            if ID in dataset[\"ID\"].values:\n",
    "                dataset = dataset.append(ds1[ds1[\"ID\"] == ID])\n",
    "                ds1 = ds1[ds1[\"ID\"] != ID]\n",
    "            \n",
    "    return ds1,ds2,ds3,ds4,ds5\n",
    "\n",
    "#pem_tv1,pem_tv2,pem_tv3,pem_tv4,pem_tv5 = five_fold_cv_checker(pem_tv1,pem_tv2,pem_tv3,pem_tv4,pem_tv5)\n",
    "#pem_tv2,pem_tv3,pem_tv4,pem_tv5,pem_tv1= five_fold_cv_checker(pem_tv2,pem_tv3,pem_tv4,pem_tv5,pem_tv1)\n",
    "#pem_tv3,pem_tv4,pem_tv5,pem_tv1,pem_tv2 =five_fold_cv_checker(pem_tv3,pem_tv4,pem_tv5,pem_tv1,pem_tv2)\n",
    "#pem_tv4,pem_tv5,pem_tv1,pem_tv2,pem_tv3= five_fold_cv_checker(pem_tv4,pem_tv5,pem_tv1,pem_tv2,pem_tv3)\n",
    "#pem_tv5,pem_tv1,pem_tv2,pem_tv3,pem_tv4=five_fold_cv_checker(pem_tv5,pem_tv1,pem_tv2,pem_tv3,pem_tv4)"
   ]
  },
  {
   "cell_type": "code",
   "execution_count": 26,
   "metadata": {},
   "outputs": [],
   "source": [
    "#need to automate this somehow:\n",
    "\n",
    "for ID in pem_tv1[\"ID\"]:\n",
    "        if ID in pem_tv2[\"ID\"].values:\n",
    "            pem_tv2 = pem_tv2.append(pem_tv1[pem_tv1[\"ID\"] == ID])\n",
    "            pem_tv1 = pem_tv1[pem_tv1[\"ID\"] != ID]\n",
    "            \n",
    "for ID in pem_tv1[\"ID\"]:\n",
    "        if ID in pem_tv3[\"ID\"].values:\n",
    "            pem_tv3 = pem_tv3.append(pem_tv1[pem_tv1[\"ID\"] == ID])\n",
    "            pem_tv1 = pem_tv1[pem_tv1[\"ID\"] != ID]\n",
    "            \n",
    "for ID in pem_tv1[\"ID\"]:\n",
    "        if ID in pem_tv4[\"ID\"].values:\n",
    "            pem_tv4 = pem_tv4.append(pem_tv1[pem_tv1[\"ID\"] == ID])\n",
    "            pem_tv1 = pem_tv1[pem_tv1[\"ID\"] != ID]\n",
    "\n",
    "for ID in pem_tv1[\"ID\"]:\n",
    "        if ID in pem_tv5[\"ID\"].values:\n",
    "            pem_tv5 = pem_tv5.append(pem_tv1[pem_tv1[\"ID\"] == ID])\n",
    "            pem_tv1 = pem_tv1[pem_tv1[\"ID\"] != ID]\n",
    "            \n",
    "#######\n",
    "\n",
    "for ID in pem_tv2[\"ID\"]:\n",
    "        if ID in pem_tv3[\"ID\"].values:\n",
    "            pem_tv3 = pem_tv3.append(pem_tv2[pem_tv2[\"ID\"] == ID])\n",
    "            pem_tv2 = pem_tv2[pem_tv2[\"ID\"] != ID]\n",
    "            \n",
    "for ID in pem_tv2[\"ID\"]:\n",
    "        if ID in pem_tv4[\"ID\"].values:\n",
    "            pem_tv4 = pem_tv4.append(pem_tv2[pem_tv2[\"ID\"] == ID])\n",
    "            pem_tv2 = pem_tv2[pem_tv2[\"ID\"] != ID]\n",
    "\n",
    "for ID in pem_tv2[\"ID\"]:\n",
    "        if ID in pem_tv5[\"ID\"].values:\n",
    "            pem_tv5 = pem_tv5.append(pem_tv2[pem_tv2[\"ID\"] == ID])\n",
    "            pem_tv2 = pem_tv2[pem_tv2[\"ID\"] != ID]\n",
    "\n",
    "########\n",
    "\n",
    "for ID in pem_tv3[\"ID\"]:\n",
    "        if ID in pem_tv4[\"ID\"].values:\n",
    "            pem_tv4 = pem_tv4.append(pem_tv3[pem_tv3[\"ID\"] == ID])\n",
    "            pem_tv3 = pem_tv3[pem_tv3[\"ID\"] != ID]\n",
    "\n",
    "for ID in pem_tv3[\"ID\"]:\n",
    "        if ID in pem_tv5[\"ID\"].values:\n",
    "            pem_tv5 = pem_tv5.append(pem_tv3[pem_tv3[\"ID\"] == ID])\n",
    "            pem_tv3 = pem_tv3[pem_tv3[\"ID\"] != ID]\n",
    "########\n",
    "for ID in pem_tv4[\"ID\"]:\n",
    "        if ID in pem_tv5[\"ID\"].values:\n",
    "            pem_tv5 = pem_tv5.append(pem_tv4[pem_tv4[\"ID\"] == ID])\n",
    "            pem_tv4 = pem_tv4[pem_tv4[\"ID\"] != ID]            "
   ]
  },
  {
   "cell_type": "code",
   "execution_count": 27,
   "metadata": {},
   "outputs": [],
   "source": [
    "labelled_PEM_train = labelled_PEM_train.sort_values(by=\"index\")\n",
    "\n",
    "valid_index = int(labelled_PEM_train.shape[0]*valid_split / 2)*2 #valid index\n",
    "\n",
    "labelled_PEM_valid = labelled_PEM_train.iloc[0:valid_index]\n",
    "\n",
    "labelled_PEM_train = pd.concat([labelled_PEM_train, labelled_PEM_valid]).drop_duplicates(keep=False)\n",
    "\n",
    "for ID in labelled_PEM_valid[\"ID\"]:\n",
    "    if ID in labelled_PEM_train[\"ID\"].values:\n",
    "        labelled_PEM_train = labelled_PEM_train.append(labelled_PEM_valid[labelled_PEM_valid[\"ID\"] == ID])\n",
    "        labelled_PEM_valid = labelled_PEM_valid[labelled_PEM_valid[\"ID\"] != ID]          \n"
   ]
  },
  {
   "cell_type": "code",
   "execution_count": 28,
   "metadata": {},
   "outputs": [],
   "source": [
    "train_set_unlabelled = unlabelled\n",
    "\n",
    "train_set_labelled = pd.concat([labelled_PEM_train,labelled_no_PEM_train])\n",
    "valid_set_labelled = pd.concat([labelled_PEM_valid,labelled_no_PEM_valid])\n",
    "test_set_labelled = pd.concat([labelled_PEM_test,labelled_no_PEM_test])\n"
   ]
  },
  {
   "cell_type": "code",
   "execution_count": 29,
   "metadata": {},
   "outputs": [],
   "source": [
    "tv_cv1 = pd.concat([labelled_no_PEM_tv1,pem_tv1])\n",
    "tv_cv2 = pd.concat([labelled_no_PEM_tv2,pem_tv2])\n",
    "tv_cv3 = pd.concat([labelled_no_PEM_tv3,pem_tv3])\n",
    "tv_cv4 = pd.concat([labelled_no_PEM_tv4,pem_tv4])\n",
    "tv_cv5 = pd.concat([labelled_no_PEM_tv5,pem_tv5])"
   ]
  },
  {
   "cell_type": "code",
   "execution_count": 30,
   "metadata": {},
   "outputs": [],
   "source": [
    "y_columns = [\"no2_eur\",\"index\"]"
   ]
  },
  {
   "cell_type": "code",
   "execution_count": 31,
   "metadata": {},
   "outputs": [],
   "source": [
    "train_set_labelled_y = train_set_labelled[y_columns]\n",
    "test_set_labelled_y = test_set_labelled[y_columns]\n",
    "valid_set_labelled_y = valid_set_labelled[y_columns]\n"
   ]
  },
  {
   "cell_type": "code",
   "execution_count": 32,
   "metadata": {},
   "outputs": [],
   "source": [
    "tv_cv_y1 = tv_cv1[y_columns]\n",
    "tv_cv_y2 = tv_cv2[y_columns]\n",
    "tv_cv_y3 = tv_cv3[y_columns]\n",
    "tv_cv_y4 = tv_cv4[y_columns]\n",
    "tv_cv_y5 = tv_cv5[y_columns]"
   ]
  },
  {
   "cell_type": "code",
   "execution_count": 33,
   "metadata": {},
   "outputs": [],
   "source": [
    "covariate_columns = [\"age\",\"bmi\",\"sex\",\"former_smoker\",\"current_smoker\",\"never_smoked\",\"index\"]\n",
    "\n",
    "#don't need to include unknown smoker as a column because by having the other 3, that gives all the info you need\n",
    "#absence of 1s in all 3 columns means there's a  1 in unknown smoker column\n",
    "\n",
    "train_set_labelled_c = train_set_labelled[covariate_columns]\n",
    "train_set_unlabelled_c = train_set_unlabelled[covariate_columns]\n",
    "test_set_labelled_c = test_set_labelled[covariate_columns]\n",
    "valid_set_labelled_c = valid_set_labelled[covariate_columns]\n",
    "\n",
    "train_set_unlabelled_c = train_set_unlabelled_c.drop([\"bmi\"],axis=1)\n",
    "train_set_labelled_c = train_set_labelled_c.drop([\"bmi\"],axis=1)\n",
    "test_set_labelled_c = test_set_labelled_c.drop([\"bmi\"],axis=1)\n",
    "valid_set_labelled_c = valid_set_labelled_c.drop([\"bmi\"],axis=1)"
   ]
  },
  {
   "cell_type": "markdown",
   "metadata": {},
   "source": [
    "### Interpolation and categorical encoding ###"
   ]
  },
  {
   "cell_type": "code",
   "execution_count": 34,
   "metadata": {},
   "outputs": [
    {
     "data": {
      "image/png": "[encoded data removed]",
      "text/plain": [
       "<Figure size 432x288 with 1 Axes>"
      ]
     },
     "metadata": {
      "needs_background": "light"
     },
     "output_type": "display_data"
    }
   ],
   "source": [
    "seaborn.distplot(train_set_labelled_c[\"age\"])\n",
    "plt.show()"
   ]
  },
  {
   "cell_type": "code",
   "execution_count": 35,
   "metadata": {},
   "outputs": [],
   "source": [
    "train_set_c = train_set_labelled_c.append(train_set_unlabelled_c)"
   ]
  },
  {
   "cell_type": "markdown",
   "metadata": {},
   "source": [
    "#### Age####"
   ]
  },
  {
   "cell_type": "code",
   "execution_count": 36,
   "metadata": {},
   "outputs": [],
   "source": [
    "age_scaler = StandardScaler()\n",
    "age_scaler.fit(train_set_c[\"age\"].values.reshape(-1,1))\n",
    "train_set_unlabelled_c[\"age\"] = age_scaler.transform(train_set_unlabelled_c[\"age\"].values.reshape(-1,1))\n",
    "train_set_unlabelled_c[\"age\"] = age_scaler.transform(train_set_unlabelled_c[\"age\"].values.reshape(-1,1))\n",
    "train_set_labelled_c[\"age\"] = age_scaler.transform(train_set_labelled_c[\"age\"].values.reshape(-1,1))\n",
    "test_set_labelled_c[\"age\"] = age_scaler.transform(test_set_labelled_c[\"age\"].values.reshape(-1,1))\n",
    "valid_set_labelled_c[\"age\"] = age_scaler.transform(valid_set_labelled_c[\"age\"].values.reshape(-1,1))"
   ]
  },
  {
   "cell_type": "code",
   "execution_count": 37,
   "metadata": {},
   "outputs": [
    {
     "data": {
      "image/png": "[encoded data removed]",
      "text/plain": [
       "<Figure size 432x288 with 1 Axes>"
      ]
     },
     "metadata": {
      "needs_background": "light"
     },
     "output_type": "display_data"
    }
   ],
   "source": [
    "seaborn.distplot(train_set_labelled_c[\"age\"])\n",
    "plt.show()"
   ]
  },
  {
   "cell_type": "markdown",
   "metadata": {},
   "source": [
    "#### Sex####\n",
    "\n",
    "Let's one hot encode. At the moment 1 is Male, 2 is Female. We'll encode so that 1 is Male and 0 is Female."
   ]
  },
  {
   "cell_type": "code",
   "execution_count": 38,
   "metadata": {},
   "outputs": [],
   "source": [
    "def encode_sex(dataframe):\n",
    "    sex_encoder = OneHotEncoder()\n",
    "    sex_encoder.fit(train_set_c[[\"sex\"]])\n",
    "    \n",
    "    dataframe[\"male\"] = sex_encoder.transform(dataframe[[\"sex\"]]).toarray()[:,0]\n",
    "    dataframe.drop([\"sex\"],axis=1,inplace=True)\n",
    "    return dataframe"
   ]
  },
  {
   "cell_type": "markdown",
   "metadata": {},
   "source": [
    "First column is 1 if male. "
   ]
  },
  {
   "cell_type": "code",
   "execution_count": 39,
   "metadata": {},
   "outputs": [],
   "source": [
    "train_set_unlabelled_c = encode_sex(train_set_unlabelled_c)\n",
    "train_set_labelled_c = encode_sex(train_set_labelled_c)\n",
    "test_set_labelled_c = encode_sex(test_set_labelled_c)\n",
    "valid_set_labelled_c = encode_sex(valid_set_labelled_c)"
   ]
  },
  {
   "cell_type": "markdown",
   "metadata": {},
   "source": [
    "## Omic data ##"
   ]
  },
  {
   "cell_type": "code",
   "execution_count": 53,
   "metadata": {},
   "outputs": [],
   "source": [
    "os.chdir(epic_italy_path)\n",
    "epic_italy_betas = pd.read_csv('epic_italy_betas.csv', index_col=0)\n",
    "epic_italy_betas = epic_italy_betas.transpose()\n",
    "epic_italy_betas.reset_index(inplace=True)"
   ]
  },
  {
   "cell_type": "code",
   "execution_count": 54,
   "metadata": {},
   "outputs": [],
   "source": [
    "os.chdir(cvd_path)\n",
    "cvd_omics = pd.read_csv('epigenomic/preprocessed_betas.csv', index_col=0)\n",
    "cvd_omics = cvd_omics.transpose()\n",
    "cvd_omics.reset_index(inplace=True)"
   ]
  },
  {
   "cell_type": "code",
   "execution_count": 55,
   "metadata": {},
   "outputs": [],
   "source": [
    "harmonised_path = '/local/scratch/rp542/data/harmonised_data'\n",
    "os.chdir(harmonised_path)\n",
    "harmonised_omics = pd.read_csv('harmonised_betas.csv', index_col=0)\n",
    "harmonised_omics = harmonised_omics.transpose()\n",
    "harmonised_omics.reset_index(inplace=True)"
   ]
  },
  {
   "cell_type": "code",
   "execution_count": 56,
   "metadata": {},
   "outputs": [],
   "source": [
    "epic_italy_cvd_overlap = list(set(list(epic_italy_betas.columns)) & set(list(cvd_omics.columns)))\n",
    "omic_columns = list(set(list(harmonised_omics.columns)) & set(epic_italy_cvd_overlap))\n",
    "\n",
    "harmonised_omics = harmonised_omics[omic_columns]\n",
    "cvd_omics = cvd_omics[omic_columns]\n",
    "epic_italy_betas = epic_italy_betas[omic_columns]\n",
    "omics = harmonised_omics.append(cvd_omics)\n",
    "omics = omics.append(epic_italy_betas)"
   ]
  },
  {
   "cell_type": "markdown",
   "metadata": {},
   "source": [
    "Not all the train_set_unlabelled_data have omics data. I'll just remove the ones who don't for below."
   ]
  },
  {
   "cell_type": "code",
   "execution_count": 57,
   "metadata": {},
   "outputs": [],
   "source": [
    "X_train_omics_unlabelled = omics[omics[\"index\"].isin(train_set_unlabelled[\"index\"])]\n",
    "X_train_omics_labelled = omics[omics[\"index\"].isin(train_set_labelled[\"index\"])]\n",
    "X_test_omics = omics[omics[\"index\"].isin(test_set_labelled[\"index\"])]\n",
    "X_valid_omics = omics[omics[\"index\"].isin(valid_set_labelled[\"index\"])]"
   ]
  },
  {
   "cell_type": "code",
   "execution_count": 58,
   "metadata": {},
   "outputs": [
    {
     "name": "stdout",
     "output_type": "stream",
     "text": [
      "70\n",
      "87\n",
      "93\n",
      "111\n",
      "110\n"
     ]
    }
   ],
   "source": [
    "X_tv_cv1= omics[omics[\"index\"].isin(tv_cv1[\"index\"])]\n",
    "X_tv_cv2= omics[omics[\"index\"].isin(tv_cv2[\"index\"])]\n",
    "X_tv_cv3= omics[omics[\"index\"].isin(tv_cv3[\"index\"])]\n",
    "X_tv_cv4= omics[omics[\"index\"].isin(tv_cv4[\"index\"])]\n",
    "X_tv_cv5= omics[omics[\"index\"].isin(tv_cv5[\"index\"])]\n",
    "\n",
    "X_tv_cv = pd.concat([X_tv_cv1,\n",
    "                    X_tv_cv2,\n",
    "                    X_tv_cv3,\n",
    "                    X_tv_cv4,\n",
    "                    X_tv_cv5])\n",
    "\n",
    "print(X_tv_cv1.shape[0])\n",
    "print(X_tv_cv2.shape[0])\n",
    "print(X_tv_cv3.shape[0])\n",
    "print(X_tv_cv4.shape[0])\n",
    "print(X_tv_cv5.shape[0])\n"
   ]
  },
  {
   "cell_type": "code",
   "execution_count": 59,
   "metadata": {},
   "outputs": [],
   "source": [
    "data = {\"Fold\":[1,2,3,4,5],\n",
    "       \"number_of_elements\":[70,87,93,111,110]}\n",
    "\n",
    "cv_indices = pd.DataFrame(data, columns = ['Fold','number_of_elements'])"
   ]
  },
  {
   "cell_type": "markdown",
   "metadata": {},
   "source": [
    "### Interpolatation and scaling  ###"
   ]
  },
  {
   "cell_type": "code",
   "execution_count": 60,
   "metadata": {},
   "outputs": [],
   "source": [
    "X_train_omics_all = X_train_omics_unlabelled.append(X_train_omics_labelled)\n",
    "X_train_omics_all.reset_index(inplace=True)\n",
    "X_train_omics_all.drop([\"level_0\"],axis=1,inplace=True)\n",
    "\n",
    "X_index = X_train_omics_all[\"index\"]\n",
    "X_train = X_train_omics_all.drop([\"index\"],axis=1)\n",
    "\n",
    "omics_scaler = StandardScaler()\n",
    "imputer = SimpleImputer(strategy=\"median\")\n",
    "X_train_imputed = imputer.fit_transform(X_train)"
   ]
  },
  {
   "cell_type": "code",
   "execution_count": 61,
   "metadata": {},
   "outputs": [
    {
     "data": {
      "image/png": "[encoded data removed]",
      "text/plain": [
       "<Figure size 432x288 with 1 Axes>"
      ]
     },
     "metadata": {
      "needs_background": "light"
     },
     "output_type": "display_data"
    }
   ],
   "source": [
    "seaborn.distplot(X_train_imputed[:,13000:13010])\n",
    "plt.show()"
   ]
  },
  {
   "cell_type": "code",
   "execution_count": 62,
   "metadata": {},
   "outputs": [],
   "source": [
    "X_train_imputed = omics_scaler.fit_transform(X_train_imputed)\n"
   ]
  },
  {
   "cell_type": "code",
   "execution_count": 63,
   "metadata": {},
   "outputs": [
    {
     "data": {
      "image/png": "[encoded data removed]",
      "text/plain": [
       "<Figure size 432x288 with 1 Axes>"
      ]
     },
     "metadata": {
      "needs_background": "light"
     },
     "output_type": "display_data"
    }
   ],
   "source": [
    "seaborn.distplot(X_train_imputed[:,12000:12010])\n",
    "plt.show()"
   ]
  },
  {
   "cell_type": "code",
   "execution_count": 64,
   "metadata": {},
   "outputs": [],
   "source": [
    "omics_scaler2 = MinMaxScaler()\n",
    "X_train_imputed = omics_scaler2.fit_transform(X_train_imputed)\n"
   ]
  },
  {
   "cell_type": "code",
   "execution_count": 65,
   "metadata": {},
   "outputs": [
    {
     "data": {
      "image/png": "[encoded data removed]",
      "text/plain": [
       "<Figure size 432x288 with 1 Axes>"
      ]
     },
     "metadata": {
      "needs_background": "light"
     },
     "output_type": "display_data"
    }
   ],
   "source": [
    "seaborn.distplot(X_train_imputed[:,12000:12010])\n",
    "plt.show()"
   ]
  },
  {
   "cell_type": "code",
   "execution_count": 66,
   "metadata": {},
   "outputs": [],
   "source": [
    "X_train_imputed = pd.DataFrame(X_train_imputed, columns=X_train.columns)\n",
    "\n",
    "X_train_omics_all = X_train_imputed.join(X_index)\n",
    "\n",
    "X_train_omics_unlabelled = X_train_omics_all[X_train_omics_all[\"index\"].isin(train_set_unlabelled[\"index\"])]\n",
    "\n",
    "X_train_omics_labelled = X_train_omics_all[X_train_omics_all[\"index\"].isin(train_set_labelled[\"index\"])]"
   ]
  },
  {
   "cell_type": "code",
   "execution_count": 67,
   "metadata": {},
   "outputs": [],
   "source": [
    "# for the cv \n",
    "X_tv_cv.reset_index(inplace=True)\n",
    "X_tv_cv.drop([\"level_0\"],axis=1,inplace=True)\n",
    "\n",
    "\n",
    "X_index = X_tv_cv[\"index\"]\n",
    "X_tv_cv = X_tv_cv.drop([\"index\"],axis=1)\n",
    "\n",
    "\n",
    "omics_scaler = StandardScaler()\n",
    "imputer = SimpleImputer(strategy=\"median\")\n",
    "X_tv_cv_imputed = imputer.fit_transform(X_tv_cv)\n",
    "X_tv_cv_imputed = omics_scaler.fit_transform(X_tv_cv_imputed)\n",
    "omics_scaler2 = MinMaxScaler()\n",
    "X_tv_cv_imputed = omics_scaler2.fit_transform(X_tv_cv_imputed)\n",
    "\n",
    "X_tv_cv_imputed = pd.DataFrame(X_tv_cv_imputed, columns=X_tv_cv.columns)\n",
    "\n",
    "X_tv_cv = X_tv_cv_imputed.join(X_index)"
   ]
  },
  {
   "cell_type": "code",
   "execution_count": 68,
   "metadata": {
    "scrolled": true
   },
   "outputs": [
    {
     "name": "stderr",
     "output_type": "stream",
     "text": [
      "/home/rp542/venv/lib/python3.5/site-packages/pandas/core/frame.py:3940: SettingWithCopyWarning: \n",
      "A value is trying to be set on a copy of a slice from a DataFrame\n",
      "\n",
      "See the caveats in the documentation: http://pandas.pydata.org/pandas-docs/stable/indexing.html#indexing-view-versus-copy\n",
      "  errors=errors)\n"
     ]
    }
   ],
   "source": [
    "X_test_omics.reset_index(inplace=True)\n",
    "X_test_omics.drop([\"level_0\"],axis=1,inplace=True)\n",
    "\n",
    "X_index = X_test_omics[\"index\"]\n",
    "\n",
    "X_test = X_test_omics.drop([\"index\"],axis=1)\n",
    "X_test_imputed = imputer.transform(X_test)"
   ]
  },
  {
   "cell_type": "code",
   "execution_count": 69,
   "metadata": {},
   "outputs": [
    {
     "data": {
      "image/png": "[encoded data removed]",
      "text/plain": [
       "<Figure size 432x288 with 1 Axes>"
      ]
     },
     "metadata": {
      "needs_background": "light"
     },
     "output_type": "display_data"
    }
   ],
   "source": [
    "seaborn.distplot(X_test_imputed)\n",
    "plt.show()"
   ]
  },
  {
   "cell_type": "code",
   "execution_count": 70,
   "metadata": {},
   "outputs": [],
   "source": [
    "X_test_imputed = omics_scaler.transform(X_test_imputed)\n"
   ]
  },
  {
   "cell_type": "code",
   "execution_count": 71,
   "metadata": {},
   "outputs": [
    {
     "data": {
      "image/png": "[encoded data removed]",
      "text/plain": [
       "<Figure size 432x288 with 1 Axes>"
      ]
     },
     "metadata": {
      "needs_background": "light"
     },
     "output_type": "display_data"
    }
   ],
   "source": [
    "seaborn.distplot(X_test_imputed)\n",
    "plt.show()"
   ]
  },
  {
   "cell_type": "code",
   "execution_count": 72,
   "metadata": {},
   "outputs": [],
   "source": [
    "X_test_imputed = omics_scaler2.transform(X_test_imputed)\n"
   ]
  },
  {
   "cell_type": "code",
   "execution_count": 73,
   "metadata": {},
   "outputs": [
    {
     "data": {
      "image/png": "[encoded data removed]",
      "text/plain": [
       "<Figure size 432x288 with 1 Axes>"
      ]
     },
     "metadata": {
      "needs_background": "light"
     },
     "output_type": "display_data"
    }
   ],
   "source": [
    "seaborn.distplot(X_test_imputed)\n",
    "plt.show()"
   ]
  },
  {
   "cell_type": "code",
   "execution_count": 74,
   "metadata": {},
   "outputs": [],
   "source": [
    "X_test_imputed[np.where(X_test_imputed < 0)] = 0\n",
    "\n",
    "X_test_imputed[np.where(X_test_imputed > 1)] = 1"
   ]
  },
  {
   "cell_type": "code",
   "execution_count": 75,
   "metadata": {},
   "outputs": [
    {
     "data": {
      "image/png": "[encoded data removed]",
      "text/plain": [
       "<Figure size 432x288 with 1 Axes>"
      ]
     },
     "metadata": {
      "needs_background": "light"
     },
     "output_type": "display_data"
    }
   ],
   "source": [
    "seaborn.distplot(X_test_imputed)\n",
    "plt.show()"
   ]
  },
  {
   "cell_type": "markdown",
   "metadata": {},
   "source": [
    "Let's set any values above 1 equal to 1, and any values below 0 equal to 0"
   ]
  },
  {
   "cell_type": "code",
   "execution_count": 76,
   "metadata": {},
   "outputs": [],
   "source": [
    "X_test_imputed = pd.DataFrame(X_test_imputed, columns=X_test.columns)\n",
    "\n",
    "X_test_omics = X_test_imputed.join(X_index)"
   ]
  },
  {
   "cell_type": "code",
   "execution_count": 77,
   "metadata": {},
   "outputs": [],
   "source": [
    "X_valid_omics = X_valid_omics.reset_index()\n",
    "X_valid_omics = X_valid_omics.drop([\"level_0\"],axis=1)\n",
    "\n",
    "X_index = X_valid_omics[\"index\"]\n",
    "\n",
    "X_valid = X_valid_omics.drop([\"index\"],axis=1)\n",
    "X_valid_imputed = imputer.transform(X_valid)\n",
    "\n",
    "\n",
    "X_valid_imputed = omics_scaler.transform(X_valid_imputed)\n",
    "X_valid_imputed = omics_scaler2.transform(X_valid_imputed)\n",
    "X_valid_imputed[np.where(X_valid_imputed < 0)] = 0\n",
    "X_valid_imputed[np.where(X_valid_imputed > 1)] = 1\n",
    "\n",
    "X_valid_imputed = pd.DataFrame(X_valid_imputed, columns=X_valid.columns)\n",
    "\n",
    "X_valid_omics = X_valid_imputed.join(X_index)"
   ]
  },
  {
   "cell_type": "markdown",
   "metadata": {},
   "source": [
    "Look at the difference between number of test set samples and numbers with omic data"
   ]
  },
  {
   "cell_type": "code",
   "execution_count": 78,
   "metadata": {},
   "outputs": [
    {
     "data": {
      "text/plain": [
       "(165, 22)"
      ]
     },
     "execution_count": 78,
     "metadata": {},
     "output_type": "execute_result"
    }
   ],
   "source": [
    "test_set_labelled.shape"
   ]
  },
  {
   "cell_type": "code",
   "execution_count": 79,
   "metadata": {},
   "outputs": [
    {
     "data": {
      "text/plain": [
       "(106, 16591)"
      ]
     },
     "execution_count": 79,
     "metadata": {},
     "output_type": "execute_result"
    }
   ],
   "source": [
    "X_test_omics.shape"
   ]
  },
  {
   "cell_type": "markdown",
   "metadata": {},
   "source": [
    "Now we only select rows which have omic data."
   ]
  },
  {
   "cell_type": "markdown",
   "metadata": {},
   "source": [
    "### Tidying up ###"
   ]
  },
  {
   "cell_type": "code",
   "execution_count": 80,
   "metadata": {},
   "outputs": [],
   "source": [
    "train_set_labelled_c = train_set_labelled_c[train_set_labelled_c[\"index\"].isin(X_train_omics_labelled[\"index\"])]\n",
    "train_set_unlabelled_c = train_set_unlabelled_c[train_set_unlabelled_c[\"index\"].isin(X_train_omics_unlabelled[\"index\"])]\n",
    "test_set_labelled_c = test_set_labelled_c[test_set_labelled_c[\"index\"].isin(X_test_omics[\"index\"])]\n",
    "valid_set_labelled_c = valid_set_labelled_c[valid_set_labelled_c[\"index\"].isin(X_valid_omics[\"index\"])]\n",
    "\n",
    "train_set_labelled_y = train_set_labelled_y[train_set_labelled_y[\"index\"].isin(X_train_omics_labelled[\"index\"])]\n",
    "test_set_labelled_y = test_set_labelled_y[test_set_labelled_y[\"index\"].isin(X_test_omics[\"index\"])]\n",
    "valid_set_labelled_y = valid_set_labelled_y[valid_set_labelled_y[\"index\"].isin(X_valid_omics[\"index\"])]\n"
   ]
  },
  {
   "cell_type": "code",
   "execution_count": 81,
   "metadata": {},
   "outputs": [],
   "source": [
    "tv_cv_y1 = tv_cv_y1[tv_cv_y1[\"index\"].isin(X_tv_cv1[\"index\"])]\n",
    "tv_cv_y2 = tv_cv_y2[tv_cv_y2[\"index\"].isin(X_tv_cv2[\"index\"])]\n",
    "tv_cv_y3 = tv_cv_y3[tv_cv_y3[\"index\"].isin(X_tv_cv3[\"index\"])]\n",
    "tv_cv_y4 = tv_cv_y4[tv_cv_y4[\"index\"].isin(X_tv_cv4[\"index\"])]\n",
    "tv_cv_y5 = tv_cv_y5[tv_cv_y5[\"index\"].isin(X_tv_cv5[\"index\"])]\n"
   ]
  },
  {
   "cell_type": "code",
   "execution_count": 82,
   "metadata": {},
   "outputs": [],
   "source": [
    "#sort by index and then drop it\n",
    "X_train_omics_unlabelled = X_train_omics_unlabelled.sort_values([\"index\"]).drop([\"index\"],axis=1)\n",
    "X_train_omics_labelled = X_train_omics_labelled.sort_values([\"index\"]).drop([\"index\"],axis=1)\n",
    "X_test_omics = X_test_omics.sort_values([\"index\"]).drop([\"index\"],axis=1)\n",
    "X_valid_omics = X_valid_omics.sort_values([\"index\"]).drop([\"index\"],axis=1)\n",
    "train_set_labelled_c = train_set_labelled_c.sort_values([\"index\"]).drop([\"index\"],axis=1)\n",
    "train_set_unlabelled_c = train_set_unlabelled_c.sort_values([\"index\"]).drop([\"index\"],axis=1)\n",
    "test_set_labelled_c = test_set_labelled_c.sort_values([\"index\"]).drop([\"index\"],axis=1)\n",
    "valid_set_labelled_c = valid_set_labelled_c.sort_values([\"index\"]).drop([\"index\"],axis=1)\n",
    "train_set_labelled_y = train_set_labelled_y.sort_values([\"index\"]).drop([\"index\"],axis=1)\n",
    "test_set_labelled_y = test_set_labelled_y.sort_values([\"index\"]).drop([\"index\"],axis=1)\n",
    "valid_set_labelled_y = valid_set_labelled_y.sort_values([\"index\"]).drop([\"index\"],axis=1)\n",
    "\n",
    "\n",
    "#reset indices in dataframes\n",
    "X_train_omics_unlabelled = X_train_omics_unlabelled.reset_index().drop([\"index\"],axis=1)\n",
    "X_train_omics_labelled = X_train_omics_labelled.reset_index().drop([\"index\"],axis=1)\n",
    "X_test_omics = X_test_omics.reset_index().drop([\"index\"],axis=1)\n",
    "X_valid_omics = X_valid_omics.reset_index().drop([\"index\"],axis=1)\n",
    "train_set_labelled_c = train_set_labelled_c.reset_index().drop([\"index\"],axis=1)\n",
    "train_set_unlabelled_c = train_set_unlabelled_c.reset_index().drop([\"index\"],axis=1)\n",
    "test_set_labelled_c = test_set_labelled_c.reset_index().drop([\"index\"],axis=1)\n",
    "valid_set_labelled_c = valid_set_labelled_c.reset_index().drop([\"index\"],axis=1)\n",
    "train_set_labelled_y = train_set_labelled_y.reset_index().drop([\"index\"],axis=1)\n",
    "test_set_labelled_y = test_set_labelled_y.reset_index().drop([\"index\"],axis=1)\n",
    "valid_set_labelled_y = valid_set_labelled_y.reset_index().drop([\"index\"],axis=1)\n",
    "\n",
    "#scaling\n",
    "y_scaler = StandardScaler()\n",
    "train_set_labelled_y = pd.DataFrame(y_scaler.fit_transform(train_set_labelled_y),columns=train_set_labelled_y.columns)\n",
    "test_set_labelled_y = pd.DataFrame(y_scaler.transform(test_set_labelled_y),columns=test_set_labelled_y.columns)\n",
    "valid_set_labelled_y = pd.DataFrame(y_scaler.transform(valid_set_labelled_y),columns=valid_set_labelled_y.columns)\n"
   ]
  },
  {
   "cell_type": "code",
   "execution_count": 83,
   "metadata": {},
   "outputs": [],
   "source": [
    "X_tv_cv1= X_tv_cv[X_tv_cv[\"index\"].isin(tv_cv1[\"index\"])]\n",
    "X_tv_cv2= X_tv_cv[X_tv_cv[\"index\"].isin(tv_cv2[\"index\"])]\n",
    "X_tv_cv3= X_tv_cv[X_tv_cv[\"index\"].isin(tv_cv3[\"index\"])]\n",
    "X_tv_cv4= X_tv_cv[X_tv_cv[\"index\"].isin(tv_cv4[\"index\"])]\n",
    "X_tv_cv5= X_tv_cv[X_tv_cv[\"index\"].isin(tv_cv5[\"index\"])]\n",
    "\n",
    "#sort by index and then drop it\n",
    "X_tv_cv1 = X_tv_cv1.sort_values([\"index\"]).drop([\"index\"],axis=1)\n",
    "X_tv_cv2 = X_tv_cv2.sort_values([\"index\"]).drop([\"index\"],axis=1)\n",
    "X_tv_cv3 = X_tv_cv3.sort_values([\"index\"]).drop([\"index\"],axis=1)\n",
    "X_tv_cv4 = X_tv_cv4.sort_values([\"index\"]).drop([\"index\"],axis=1)\n",
    "X_tv_cv5 = X_tv_cv5.sort_values([\"index\"]).drop([\"index\"],axis=1)\n",
    "\n",
    "X_tv_cv = pd.concat([X_tv_cv1,\n",
    "                    X_tv_cv2,\n",
    "                    X_tv_cv3,\n",
    "                    X_tv_cv4,\n",
    "                    X_tv_cv5])\n",
    "\n",
    "tv_cv_y1= tv_cv_y1.sort_values([\"index\"]).drop([\"index\"],axis=1)\n",
    "tv_cv_y2= tv_cv_y2.sort_values([\"index\"]).drop([\"index\"],axis=1)\n",
    "tv_cv_y3= tv_cv_y3.sort_values([\"index\"]).drop([\"index\"],axis=1)\n",
    "tv_cv_y4= tv_cv_y4.sort_values([\"index\"]).drop([\"index\"],axis=1)\n",
    "tv_cv_y5= tv_cv_y5.sort_values([\"index\"]).drop([\"index\"],axis=1)\n",
    "\n",
    "\n",
    "tv_cv_y = pd.concat([tv_cv_y1,\n",
    "                    tv_cv_y2,\n",
    "                    tv_cv_y3,\n",
    "                    tv_cv_y4,\n",
    "                    tv_cv_y5])\n",
    "\n",
    "#reset indices in dataframes\n",
    "tv_cv_y = tv_cv_y.reset_index().drop([\"index\"],axis=1)\n",
    "X_tv_cv = X_tv_cv.reset_index().drop([\"index\"],axis=1)\n",
    "\n",
    "#scaling\n",
    "y_scaler = StandardScaler()\n",
    "tv_cv_y = pd.DataFrame(y_scaler.fit_transform(tv_cv_y),columns=tv_cv_y.columns)"
   ]
  },
  {
   "cell_type": "markdown",
   "metadata": {},
   "source": [
    "## Save data into numpy frames ##"
   ]
  },
  {
   "cell_type": "code",
   "execution_count": 84,
   "metadata": {},
   "outputs": [],
   "source": [
    "save_path = 'save_path'\n",
    "os.chdir(save_path)"
   ]
  },
  {
   "cell_type": "code",
   "execution_count": 85,
   "metadata": {},
   "outputs": [],
   "source": [
    "X_train_omics_unlabelled.to_csv(\"X_train_omics_unlabelled.csv\")\n",
    "X_train_omics_labelled.to_csv(\"X_train_omics_labelled.csv\")\n",
    "X_test_omics.to_csv(\"X_test_omics.csv\")\n",
    "X_valid_omics.to_csv(\"X_valid_omics.csv\")\n",
    "train_set_labelled_c.to_csv(\"train_set_labelled_c.csv\")\n",
    "train_set_unlabelled_c.to_csv(\"train_set_unlabelled_c.csv\")\n",
    "test_set_labelled_c.to_csv(\"test_set_labelled_c.csv\")\n",
    "valid_set_labelled_c.to_csv(\"valid_set_labelled_c.csv\")\n",
    "train_set_labelled_y.to_csv(\"train_set_labelled_y.csv\")\n",
    "test_set_labelled_y.to_csv(\"test_set_labelled_y.csv\")\n",
    "valid_set_labelled_y.to_csv(\"valid_set_labelled_y.csv\")"
   ]
  },
  {
   "cell_type": "code",
   "execution_count": 86,
   "metadata": {},
   "outputs": [],
   "source": [
    "save_path2 = 'save_path2'\n",
    "os.chdir(save_path2)"
   ]
  },
  {
   "cell_type": "code",
   "execution_count": 87,
   "metadata": {},
   "outputs": [],
   "source": [
    "tv_cv_y.to_csv(\"tv_cv_y.csv\")\n",
    "X_tv_cv.to_csv(\"X_tv_cv.csv\")\n",
    "\n",
    "cv_indices.to_csv(\"cv_indices.csv\")"
   ]
  }
 ],
 "metadata": {
  "kernelspec": {
   "display_name": "Python 3",
   "language": "python",
   "name": "python3"
  },
  "language_info": {
   "codemirror_mode": {
    "name": "ipython",
    "version": 3
   },
   "file_extension": ".py",
   "mimetype": "text/x-python",
   "name": "python",
   "nbconvert_exporter": "python",
   "pygments_lexer": "ipython3",
   "version": "3.5.2"
  }
 },
 "nbformat": 4,
 "nbformat_minor": 4
}
